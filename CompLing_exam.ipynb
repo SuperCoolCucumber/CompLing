{
  "nbformat": 4,
  "nbformat_minor": 0,
  "metadata": {
    "colab": {
      "name": "CompLing_exam.ipynb",
      "provenance": [],
      "authorship_tag": "ABX9TyPfO7X3p/Uk8F4NesdbKsTj",
      "include_colab_link": true
    },
    "kernelspec": {
      "name": "python3",
      "display_name": "Python 3"
    },
    "language_info": {
      "name": "python"
    }
  },
  "cells": [
    {
      "cell_type": "markdown",
      "metadata": {
        "id": "view-in-github",
        "colab_type": "text"
      },
      "source": [
        "<a href=\"https://colab.research.google.com/github/SuperCoolCucumber/CompLing/blob/main/CompLing_exam.ipynb\" target=\"_parent\"><img src=\"https://colab.research.google.com/assets/colab-badge.svg\" alt=\"Open In Colab\"/></a>"
      ]
    },
    {
      "cell_type": "code",
      "execution_count": 19,
      "metadata": {
        "id": "LCjOuGNJ77Kg"
      },
      "outputs": [],
      "source": [
        "import pymorphy2\n",
        "from pymystem3 import Mystem\n",
        "import numpy as np\n",
        "import razdel\n",
        "import textdistance\n",
        "\n",
        "import gensim\n",
        "import tensorflow as tf\n",
        "from transformers import TFAutoModel\n",
        "from transformers import AutoTokenizer"
      ]
    },
    {
      "cell_type": "code",
      "source": [
        "import requests\n",
        "r = requests.get(\n",
        "    'https://raw.githubusercontent.com/mannefedov/compling_nlp_hse_course/master/data/anna_karenina.txt'\n",
        ")\n",
        "\n",
        "# работайте с этими предложениями\n",
        "sentences = r.text.split('\\n')\n",
        "sentences = [sent for sent in sentences if len(sent) > 10]"
      ],
      "metadata": {
        "id": "BuZZhM-lM3dL"
      },
      "execution_count": 20,
      "outputs": []
    },
    {
      "cell_type": "code",
      "source": [
        ""
      ],
      "metadata": {
        "id": "0qXJQRqrbxtR"
      },
      "execution_count": null,
      "outputs": []
    },
    {
      "cell_type": "code",
      "source": [
        ""
      ],
      "metadata": {
        "id": "pJL90FmzbxfT"
      },
      "execution_count": null,
      "outputs": []
    },
    {
      "cell_type": "markdown",
      "source": [
        "## Задание 1"
      ],
      "metadata": {
        "id": "AeXUOU3xbyJ6"
      }
    },
    {
      "cell_type": "code",
      "source": [
        "mystem = Mystem()"
      ],
      "metadata": {
        "colab": {
          "base_uri": "https://localhost:8080/"
        },
        "id": "m11rnmKrYpKG",
        "outputId": "1df9cc95-de3f-4b9b-ab7e-b50fe52a86c8"
      },
      "execution_count": 21,
      "outputs": [
        {
          "output_type": "stream",
          "name": "stderr",
          "text": [
            "Installing mystem to /root/.local/bin/mystem from http://download.cdn.yandex.net/mystem/mystem-3.1-linux-64bit.tar.gz\n"
          ]
        }
      ]
    },
    {
      "cell_type": "code",
      "source": [
        "text = \"Зонды будут запущены в космос в 2029 году и отправятся ко второй точке Лагранжа в системе Солнце\""
      ],
      "metadata": {
        "id": "TNm8-8tuYpHf"
      },
      "execution_count": 22,
      "outputs": []
    },
    {
      "cell_type": "code",
      "source": [
        "morph = pymorphy2.MorphAnalyzer()\n",
        "words = [morph.parse(token) for token in text.split()]"
      ],
      "metadata": {
        "id": "6k0kjtR8YpFB"
      },
      "execution_count": 23,
      "outputs": []
    },
    {
      "cell_type": "code",
      "source": [
        "tags = []"
      ],
      "metadata": {
        "id": "CB2Us-N4YpAV"
      },
      "execution_count": 25,
      "outputs": []
    },
    {
      "cell_type": "code",
      "source": [
        "for i in range(len(words)):\n",
        "    tags.append(words[i][0].tag.POS)"
      ],
      "metadata": {
        "id": "I5vGWvkSYo9M"
      },
      "execution_count": 26,
      "outputs": []
    },
    {
      "cell_type": "code",
      "source": [
        "tags"
      ],
      "metadata": {
        "colab": {
          "base_uri": "https://localhost:8080/"
        },
        "id": "RXLn1nDzZCf-",
        "outputId": "b5ddc943-d7d7-4d36-ebdc-cd865ebd2717"
      },
      "execution_count": 27,
      "outputs": [
        {
          "output_type": "execute_result",
          "data": {
            "text/plain": [
              "['NOUN',\n",
              " 'VERB',\n",
              " 'PRTS',\n",
              " 'PREP',\n",
              " 'NOUN',\n",
              " 'PREP',\n",
              " None,\n",
              " 'NOUN',\n",
              " 'CONJ',\n",
              " 'VERB',\n",
              " 'PREP',\n",
              " 'ADJF',\n",
              " 'NOUN',\n",
              " 'NOUN',\n",
              " 'PREP',\n",
              " 'NOUN',\n",
              " 'NOUN']"
            ]
          },
          "metadata": {},
          "execution_count": 27
        }
      ]
    },
    {
      "cell_type": "code",
      "source": [
        ""
      ],
      "metadata": {
        "id": "e_CIYh4oZCdN"
      },
      "execution_count": null,
      "outputs": []
    },
    {
      "cell_type": "code",
      "source": [
        ""
      ],
      "metadata": {
        "id": "dxWhgcXLZCaZ"
      },
      "execution_count": null,
      "outputs": []
    },
    {
      "cell_type": "code",
      "source": [
        ""
      ],
      "metadata": {
        "id": "O-lDcZr3buLO"
      },
      "execution_count": null,
      "outputs": []
    },
    {
      "cell_type": "markdown",
      "source": [
        "## Задание 2"
      ],
      "metadata": {
        "id": "GiifcozfbuhH"
      }
    },
    {
      "cell_type": "code",
      "source": [
        "from sklearn.feature_extraction.text import TfidfVectorizer\n",
        "import pandas as pd\n",
        "import numpy as np"
      ],
      "metadata": {
        "id": "LLIXtCqkZE8Q"
      },
      "execution_count": 28,
      "outputs": []
    },
    {
      "cell_type": "code",
      "source": [
        "vectorizer = TfidfVectorizer()\n",
        "X = vectorizer.fit_transform(sentences)"
      ],
      "metadata": {
        "id": "rFsttCN5Zb5i"
      },
      "execution_count": 29,
      "outputs": []
    },
    {
      "cell_type": "code",
      "source": [
        "\n",
        "feature_names = vectorizer.get_feature_names()\n",
        "response = vectorizer.transform([sentences[0]])\n",
        "feature_array = np.array(feature_names)\n",
        "tfidf_sorting = np.argsort(response.toarray()).flatten()[::-1]\n",
        "\n",
        "n = 3\n",
        "top_n = feature_array[tfidf_sorting][:n]\n",
        "top_n"
      ],
      "metadata": {
        "colab": {
          "base_uri": "https://localhost:8080/"
        },
        "id": "XeQjoPdaZE6C",
        "outputId": "466f1cac-cc54-41c4-b1f4-477d98450c43"
      },
      "execution_count": 30,
      "outputs": [
        {
          "output_type": "stream",
          "name": "stderr",
          "text": [
            "/usr/local/lib/python3.7/dist-packages/sklearn/utils/deprecation.py:87: FutureWarning: Function get_feature_names is deprecated; get_feature_names is deprecated in 1.0 and will be removed in 1.2. Please use get_feature_names_out instead.\n",
            "  warnings.warn(msg, category=FutureWarning)\n"
          ]
        },
        {
          "output_type": "execute_result",
          "data": {
            "text/plain": [
              "array(['устои', 'насыщенное', 'приметами'], dtype='<U23')"
            ]
          },
          "metadata": {},
          "execution_count": 30
        }
      ]
    },
    {
      "cell_type": "code",
      "source": [
        ""
      ],
      "metadata": {
        "id": "1X4Wa-FyZE31"
      },
      "execution_count": null,
      "outputs": []
    },
    {
      "cell_type": "code",
      "source": [
        ""
      ],
      "metadata": {
        "id": "Tl6oXJc3ZgTx"
      },
      "execution_count": null,
      "outputs": []
    },
    {
      "cell_type": "code",
      "source": [
        ""
      ],
      "metadata": {
        "id": "kIfofgu_Zg9b"
      },
      "execution_count": null,
      "outputs": []
    },
    {
      "cell_type": "markdown",
      "source": [
        "## Задание 3"
      ],
      "metadata": {
        "id": "OUG7bo6_boc9"
      }
    },
    {
      "cell_type": "code",
      "source": [
        "from razdel import tokenize "
      ],
      "metadata": {
        "id": "ACddrkyXZhFt"
      },
      "execution_count": 37,
      "outputs": []
    },
    {
      "cell_type": "code",
      "source": [
        "a = []\n",
        "for sentence in sentences:\n",
        "    tokens = list(tokenize(sentence))\n",
        "    a.append([_.text.lower() for _ in tokens])\n",
        "\n",
        "\n",
        "def ngrammer(tokens, stops, n=2):\n",
        "    ngrams = []\n",
        "    tokens = [token for token in tokens if token not in stops]\n",
        "    for i in range(0,len(tokens)-n+1):\n",
        "        ngrams.append(tuple(tokens[i:i+n]))\n",
        "    return ngrams"
      ],
      "metadata": {
        "id": "NuDVilQOZ0OS"
      },
      "execution_count": 38,
      "outputs": []
    },
    {
      "cell_type": "code",
      "source": [
        "def collect_stats(corpus, stops):\n",
        "    ## соберем статистики для отдельных слов\n",
        "    ## и биграммов\n",
        "    \n",
        "    unigrams = Counter()\n",
        "    bigrams = Counter()\n",
        "    \n",
        "    for sent in corpus:\n",
        "        unigrams.update(sent)\n",
        "        bigrams.update(ngrammer(sent, stops, 2))\n",
        "    \n",
        "    return unigrams, bigrams\n",
        "def score_bigrams(unigrams, bigrams, scorer, threshold=-100000, min_count=1):\n",
        "    ## посчитаем метрику для каждого нграмма\n",
        "    bigram2score = Counter()\n",
        "    len_vocab = len(unigrams)\n",
        "    for bigram in bigrams:\n",
        "        score = scorer(unigrams[bigram[0]], unigrams[bigram[1]], \n",
        "                       bigrams[bigram], len_vocab, min_count)\n",
        "        \n",
        "        ## если метрика выше порога, добавляем в словарик\n",
        "        if score > threshold:\n",
        "            bigram2score[bigram] = score\n",
        "    \n",
        "    return bigram2score"
      ],
      "metadata": {
        "id": "U8Q1KBLAZ0La"
      },
      "execution_count": 39,
      "outputs": []
    },
    {
      "cell_type": "code",
      "source": [
        "unigrams, bigrams = collect_stats(a, [])"
      ],
      "metadata": {
        "id": "JN-X0ataZ0Ic"
      },
      "execution_count": 40,
      "outputs": []
    },
    {
      "cell_type": "code",
      "source": [
        "def scorer_simple(word_count_a, word_count_b, bigram_count, *args):\n",
        "    try:\n",
        "        score = bigram_count/((word_count_a+word_count_b))\n",
        "    \n",
        "    except ZeroDivisionError:\n",
        "        return 0\n",
        "    \n",
        "    return score"
      ],
      "metadata": {
        "id": "i-1UYxzYZ0Et"
      },
      "execution_count": 41,
      "outputs": []
    },
    {
      "cell_type": "code",
      "source": [
        "bigram2score = score_bigrams(unigrams, bigrams, scorer_simple)"
      ],
      "metadata": {
        "id": "yn7o_h2ka2TE"
      },
      "execution_count": 45,
      "outputs": []
    },
    {
      "cell_type": "code",
      "source": [
        "for b in bigram2score:\n",
        "    if b[0] == 'красный':\n",
        "      print(b, bigram2score[b])"
      ],
      "metadata": {
        "colab": {
          "base_uri": "https://localhost:8080/"
        },
        "id": "5QyGcRPIa2Q1",
        "outputId": "ab41112e-67da-4e90-a5d9-32f32f6285d2"
      },
      "execution_count": 43,
      "outputs": [
        {
          "output_type": "stream",
          "name": "stdout",
          "text": [
            "('красный', 'мешочек') 0.2777777777777778\n",
            "('красный', 'огонь') 0.05263157894736842\n",
            "('красный', ',') 5.082592121982211e-05\n",
            "('красный', 'платок') 0.05555555555555555\n",
            "('красный', '.') 6.033546518643659e-05\n"
          ]
        }
      ]
    },
    {
      "cell_type": "code",
      "source": [
        ""
      ],
      "metadata": {
        "id": "-KuQsGlfa2OP"
      },
      "execution_count": null,
      "outputs": []
    },
    {
      "cell_type": "code",
      "source": [
        ""
      ],
      "metadata": {
        "id": "AY7aonVEa2Lx"
      },
      "execution_count": null,
      "outputs": []
    },
    {
      "cell_type": "code",
      "source": [
        ""
      ],
      "metadata": {
        "id": "6-erXER3a2I6"
      },
      "execution_count": null,
      "outputs": []
    },
    {
      "cell_type": "code",
      "source": [
        ""
      ],
      "metadata": {
        "id": "5d4ns0g_bQLS"
      },
      "execution_count": null,
      "outputs": []
    },
    {
      "cell_type": "markdown",
      "source": [
        "## Задание 4"
      ],
      "metadata": {
        "id": "IoFW-QZRbkkX"
      }
    },
    {
      "cell_type": "code",
      "source": [
        "words = words = [\"решение\",\"ршеение\",\"ренешик\",\"рещиние\",\"ришение\"]\n",
        "for i in words:\n",
        "  for j in words:\n",
        "    dl = textdistance.damerau_levenshtein.distance(i, j)\n",
        "    l = textdistance.levenshtein.distance(i, j)\n",
        "    if dl!= l:\n",
        "      print(i,j)"
      ],
      "metadata": {
        "colab": {
          "base_uri": "https://localhost:8080/"
        },
        "id": "s3S0AybtbQIl",
        "outputId": "13f583c0-c9d4-4542-e8a3-3d2d531c4e25"
      },
      "execution_count": 44,
      "outputs": [
        {
          "output_type": "stream",
          "name": "stdout",
          "text": [
            "решение ршеение\n",
            "ршеение решение\n"
          ]
        }
      ]
    },
    {
      "cell_type": "code",
      "source": [
        ""
      ],
      "metadata": {
        "id": "lwwufGd6bQF1"
      },
      "execution_count": null,
      "outputs": []
    },
    {
      "cell_type": "code",
      "source": [
        ""
      ],
      "metadata": {
        "id": "_N5eGy4-bQDU"
      },
      "execution_count": null,
      "outputs": []
    },
    {
      "cell_type": "code",
      "source": [
        ""
      ],
      "metadata": {
        "id": "m5qpBWZlbP_0"
      },
      "execution_count": null,
      "outputs": []
    },
    {
      "cell_type": "markdown",
      "source": [
        "## Задание 5"
      ],
      "metadata": {
        "id": "kfc0iYqXbhs7"
      }
    },
    {
      "cell_type": "code",
      "source": [
        "from transformers import AutoTokenizer, AutoModelForMaskedLM\n",
        "\n",
        "tokenizer = AutoTokenizer.from_pretrained(\"distilbert-base-uncased\")\n",
        "\n",
        "model = AutoModelForMaskedLM.from_pretrained(\"distilbert-base-uncased\")"
      ],
      "metadata": {
        "id": "ASncc1Q5MK7z"
      },
      "execution_count": 3,
      "outputs": []
    },
    {
      "cell_type": "code",
      "source": [
        "tokenized = tokenizer.tokenize(sentences, is_split_into_words=True)"
      ],
      "metadata": {
        "id": "IM4zOHEWMQl9"
      },
      "execution_count": 8,
      "outputs": []
    },
    {
      "cell_type": "code",
      "source": [
        "#tokenized = [tokenizer.tokenize(sent) for sent in sentences]"
      ],
      "metadata": {
        "colab": {
          "base_uri": "https://localhost:8080/"
        },
        "id": "4cUGXAxTWAV0",
        "outputId": "ed78147c-0490-4d79-8a62-5b9782cc65cc"
      },
      "execution_count": 5,
      "outputs": [
        {
          "output_type": "stream",
          "name": "stderr",
          "text": [
            "Token indices sequence length is longer than the specified maximum sequence length for this model (643 > 512). Running this sequence through the model will result in indexing errors\n"
          ]
        }
      ]
    },
    {
      "cell_type": "code",
      "source": [
        "from gensim.models import FastText"
      ],
      "metadata": {
        "id": "FE19ebftQf9n"
      },
      "execution_count": 9,
      "outputs": []
    },
    {
      "cell_type": "code",
      "source": [
        "model = FastText(sentences=tokenized, vector_size=300, window=5, min_n=2, max_n=7)"
      ],
      "metadata": {
        "id": "fuisHhynM4tm"
      },
      "execution_count": 7,
      "outputs": []
    },
    {
      "cell_type": "code",
      "source": [
        "model.wv.most_similar('каренина')"
      ],
      "metadata": {
        "colab": {
          "base_uri": "https://localhost:8080/"
        },
        "id": "PIY0UExpSeNf",
        "outputId": "44277914-b388-47c9-abf9-839aa5f3e894"
      },
      "execution_count": 11,
      "outputs": [
        {
          "output_type": "execute_result",
          "data": {
            "text/plain": [
              "[('##ка', 0.6053786873817444),\n",
              " ('а', 0.5131438374519348),\n",
              " ('##ович', 0.3983028829097748),\n",
              " ('##на', 0.394869327545166),\n",
              " (')', 0.31459611654281616),\n",
              " ('landau', 0.2750604748725891),\n",
              " ('–', 0.26895037293434143),\n",
              " ('##евич', 0.2547837495803833),\n",
              " ('cher', 0.24755364656448364),\n",
              " ('pardon', 0.2393816113471985)]"
            ]
          },
          "metadata": {},
          "execution_count": 11
        }
      ]
    },
    {
      "cell_type": "code",
      "source": [
        ""
      ],
      "metadata": {
        "id": "Ab6p5gE6WXCH"
      },
      "execution_count": null,
      "outputs": []
    }
  ]
}
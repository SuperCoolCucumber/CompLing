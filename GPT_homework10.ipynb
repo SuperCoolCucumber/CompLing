{
  "cells": [
    {
      "cell_type": "markdown",
      "metadata": {
        "id": "view-in-github",
        "colab_type": "text"
      },
      "source": [
        "<a href=\"https://colab.research.google.com/github/SuperCoolCucumber/CompLing/blob/main/GPT_homework10.ipynb\" target=\"_parent\"><img src=\"https://colab.research.google.com/assets/colab-badge.svg\" alt=\"Open In Colab\"/></a>"
      ]
    },
    {
      "cell_type": "markdown",
      "id": "1dba7c0d",
      "metadata": {
        "id": "1dba7c0d"
      },
      "source": [
        "# Домашнее задание № 10. Генерация текста"
      ]
    },
    {
      "cell_type": "markdown",
      "id": "76f21d5e",
      "metadata": {
        "id": "76f21d5e"
      },
      "source": [
        "### Задание 1 (8 баллов).\n",
        "\n",
        "Попробуйте дообучать GPT на каком-то другом тексте (можете попробовать любые стихи или какие-то специфичные вещи вроде анекдотов, теорий заговоров, постов в помоечных телеграм каналах, текстов журналистов и СМИ с выразительным стилем). \n",
        "Попробуйте разные методы и параметры генерации (beam search, температура, top_k и тп). Сохраните в тетрадке несколько хороших сгенерированных текстов\n"
      ]
    },
    {
      "cell_type": "code",
      "execution_count": 1,
      "id": "f07bd89b",
      "metadata": {
        "id": "f07bd89b"
      },
      "outputs": [],
      "source": [
        "from transformers import GPT2LMHeadModel, GPT2Tokenizer\n",
        "import torch\n",
        "DEVICE = torch.device(\"cuda:0\")"
      ]
    },
    {
      "cell_type": "code",
      "source": [
        "model_name_or_path = \"sberbank-ai/rugpt3small_based_on_gpt2\"\n",
        "tokenizer = GPT2Tokenizer.from_pretrained(model_name_or_path)\n",
        "model = GPT2LMHeadModel.from_pretrained(model_name_or_path, use_cache=False).to(DEVICE)"
      ],
      "metadata": {
        "id": "zOPGvcpDVRUC"
      },
      "id": "zOPGvcpDVRUC",
      "execution_count": 2,
      "outputs": []
    },
    {
      "cell_type": "markdown",
      "source": [
        "**Датасет со стихами Маяковского**"
      ],
      "metadata": {
        "id": "abjRCu3aslyu"
      },
      "id": "abjRCu3aslyu"
    },
    {
      "cell_type": "code",
      "source": [
        "from transformers import TextDataset, DataCollatorForLanguageModeling\n",
        "\n",
        "train_path = 'mayakovskyi.txt'\n",
        "\n",
        "train_dataset = TextDataset( tokenizer=tokenizer,file_path=train_path,block_size=64, \n",
        "                            overwrite_cache=True)\n",
        "  \n",
        "\n",
        "data_collator = DataCollatorForLanguageModeling(tokenizer=tokenizer, mlm=False)"
      ],
      "metadata": {
        "colab": {
          "base_uri": "https://localhost:8080/"
        },
        "id": "QXJ8T1FGXjdB",
        "outputId": "a34922ff-f6a5-40cd-bd1d-dbdeb70ef1a1"
      },
      "id": "QXJ8T1FGXjdB",
      "execution_count": 3,
      "outputs": [
        {
          "output_type": "stream",
          "name": "stderr",
          "text": [
            "/usr/local/lib/python3.7/dist-packages/transformers/data/datasets/language_modeling.py:58: FutureWarning: This dataset will be removed from the library soon, preprocessing should be handled with the 🤗 Datasets library. You can have a look at this example script for pointers: https://github.com/huggingface/transformers/blob/main/examples/pytorch/language-modeling/run_mlm.py\n",
            "  FutureWarning,\n"
          ]
        }
      ]
    },
    {
      "cell_type": "code",
      "source": [
        "from transformers import Trainer, TrainingArguments\n",
        "\n",
        "training_args = TrainingArguments( \n",
        "    output_dir= \"./finetuned\",\n",
        "    overwrite_output_dir=True,\n",
        "    num_train_epochs=100, \n",
        "    per_device_train_batch_size=32, \n",
        "    per_device_eval_batch_size=32,  \n",
        "    gradient_accumulation_steps=16, \n",
        "    )\n",
        "\n",
        "\n",
        "trainer = Trainer(\n",
        "    model=model,\n",
        "    args=training_args,\n",
        "    data_collator=data_collator,\n",
        "    train_dataset=train_dataset,\n",
        "    optimizers = (torch.optim.AdamW(model.parameters(),lr=1e-5),None) # Optimizer and lr scheduler\n",
        ")"
      ],
      "metadata": {
        "id": "xwTP1F1MXjaE"
      },
      "id": "xwTP1F1MXjaE",
      "execution_count": 4,
      "outputs": []
    },
    {
      "cell_type": "code",
      "source": [
        "trainer.train()"
      ],
      "metadata": {
        "colab": {
          "base_uri": "https://localhost:8080/",
          "height": 326
        },
        "id": "zS4hCCwXXjWI",
        "outputId": "793b6a86-085d-4e09-9d83-6c1059c8d984"
      },
      "id": "zS4hCCwXXjWI",
      "execution_count": 5,
      "outputs": [
        {
          "output_type": "stream",
          "name": "stderr",
          "text": [
            "***** Running training *****\n",
            "  Num examples = 3\n",
            "  Num Epochs = 100\n",
            "  Instantaneous batch size per device = 32\n",
            "  Total train batch size (w. parallel, distributed & accumulation) = 512\n",
            "  Gradient Accumulation steps = 16\n",
            "  Total optimization steps = 100\n"
          ]
        },
        {
          "output_type": "display_data",
          "data": {
            "text/plain": [
              "<IPython.core.display.HTML object>"
            ],
            "text/html": [
              "\n",
              "    <div>\n",
              "      \n",
              "      <progress value='100' max='100' style='width:300px; height:20px; vertical-align: middle;'></progress>\n",
              "      [100/100 00:11, Epoch 100/100]\n",
              "    </div>\n",
              "    <table border=\"1\" class=\"dataframe\">\n",
              "  <thead>\n",
              " <tr style=\"text-align: left;\">\n",
              "      <th>Step</th>\n",
              "      <th>Training Loss</th>\n",
              "    </tr>\n",
              "  </thead>\n",
              "  <tbody>\n",
              "  </tbody>\n",
              "</table><p>"
            ]
          },
          "metadata": {}
        },
        {
          "output_type": "stream",
          "name": "stderr",
          "text": [
            "\n",
            "\n",
            "Training completed. Do not forget to share your model on huggingface.co/models =)\n",
            "\n",
            "\n"
          ]
        },
        {
          "output_type": "execute_result",
          "data": {
            "text/plain": [
              "TrainOutput(global_step=100, training_loss=0.06406107902526856, metrics={'train_runtime': 11.4528, 'train_samples_per_second': 26.195, 'train_steps_per_second': 8.732, 'total_flos': 9798451200000.0, 'train_loss': 0.06406107902526856, 'epoch': 100.0})"
            ]
          },
          "metadata": {},
          "execution_count": 5
        }
      ]
    },
    {
      "cell_type": "markdown",
      "source": [
        "### ArgMax"
      ],
      "metadata": {
        "id": "pLphnxs_ssUW"
      },
      "id": "pLphnxs_ssUW"
    },
    {
      "cell_type": "code",
      "source": [
        "text = \"Я сказал что\"\n",
        "input_ids = tokenizer.encode(text, return_tensors=\"pt\").to(DEVICE)\n",
        "model.eval()\n",
        "with torch.no_grad():\n",
        "    out = model.generate(input_ids, \n",
        "                        do_sample=True,\n",
        "                        temperature=1.4,\n",
        "                        top_k=50,\n",
        "                        max_length=200,\n",
        "                        )\n",
        "\n",
        "generated_text = list(map(tokenizer.decode, out))[0]\n",
        "print()\n",
        "print(generated_text)"
      ],
      "metadata": {
        "colab": {
          "base_uri": "https://localhost:8080/"
        },
        "id": "6_lgQFKqYB08",
        "outputId": "00981698-93df-4b6a-9995-ccee37b4177d"
      },
      "id": "6_lgQFKqYB08",
      "execution_count": 6,
      "outputs": [
        {
          "output_type": "stream",
          "name": "stderr",
          "text": [
            "Setting `pad_token_id` to `eos_token_id`:50256 for open-end generation.\n"
          ]
        },
        {
          "output_type": "stream",
          "name": "stdout",
          "text": [
            "\n",
            "Я сказал что мне нужен другой мужчина.. и чтобы у меня была семья. Пусть его голос будет на моём сердце\n",
            "Ты и сама ответила на свой вопрос. Если ты счастлива со мной, то значит все ещё любишь. Если же ты плачешь, горюешь, жалеешь, не веришь в Бога, знай: никто другой не любил тебя.\n",
            "Посадь в клетку всех голубей и беги вдаль,\n",
            "увидь радугу и солнышек.\n",
            "Приди на мою могилу,\n",
            "накорми меня впрок.\n",
            "На лугах ярмаркок\n",
            "певцы дудки звон.\n",
            "Радуга, дай бей челн смелым.\n",
            "Грудь мужчинам, глотните\n",
            "воздуха, надышавшись им.\n",
            "Есть мед, на котором\n",
            "никогда не гаснут льют.\n",
            "Деве Марии\n",
            "исполняется пению.\n",
            "Сердце девы\n",
            "плывёт в ладу.\n",
            "Сердце девы\n",
            "страшно, бъ\n"
          ]
        }
      ]
    },
    {
      "cell_type": "markdown",
      "source": [
        "Началось с драмы личной, закончилось общественной. Налицо главная проблема сгенерированных текстов -- звучат вроде бы правдоподобно, но на больших дистанциях логическая связность слабая."
      ],
      "metadata": {
        "id": "PRuLBm2Dq6cn"
      },
      "id": "PRuLBm2Dq6cn"
    },
    {
      "cell_type": "markdown",
      "source": [
        "### Beam Search"
      ],
      "metadata": {
        "id": "nzEMokHfswQa"
      },
      "id": "nzEMokHfswQa"
    },
    {
      "cell_type": "code",
      "source": [
        "out = model.generate(input_ids, do_sample=False, num_beams=20, max_length=60)\n",
        "\n",
        "generated_text = list(map(tokenizer.decode, out))[0]\n",
        "print()\n",
        "print(generated_text)"
      ],
      "metadata": {
        "colab": {
          "base_uri": "https://localhost:8080/"
        },
        "id": "s_B4xJKvpFRd",
        "outputId": "b53e9210-4643-4d2b-a643-96ab7f515572"
      },
      "id": "s_B4xJKvpFRd",
      "execution_count": 9,
      "outputs": [
        {
          "output_type": "stream",
          "name": "stderr",
          "text": [
            "Setting `pad_token_id` to `eos_token_id`:50256 for open-end generation.\n"
          ]
        },
        {
          "output_type": "stream",
          "name": "stdout",
          "text": [
            "\n",
            "Я сказал что-нибудь?\n",
            "Выше, гордых голов гряда!\n",
            "Мы разливом второго потопа\n",
            "перемоем миров города.\n",
            "\n",
            "Дней бык пег.\n",
            "Медленна лет арба.\n",
            "Наш бог бег.\n",
            "Сердце наш барабан.\n",
            "\n",
            "\n"
          ]
        }
      ]
    },
    {
      "cell_type": "markdown",
      "source": [
        "Плохо знаю Маяковского, но вроде довольно похоже."
      ],
      "metadata": {
        "id": "EoQ4QkjEsHI3"
      },
      "id": "EoQ4QkjEsHI3"
    },
    {
      "cell_type": "markdown",
      "source": [
        "### Temperature"
      ],
      "metadata": {
        "id": "bWfYcZ8ds0Vt"
      },
      "id": "bWfYcZ8ds0Vt"
    },
    {
      "cell_type": "code",
      "source": [
        "out = model.generate(input_ids, do_sample=True, temperature=0.1, max_length=50)\n",
        "generated_text = list(map(tokenizer.decode, out))[0]\n",
        "print()\n",
        "print(generated_text)"
      ],
      "metadata": {
        "colab": {
          "base_uri": "https://localhost:8080/"
        },
        "id": "tZJr-mLaYBw3",
        "outputId": "fbce7b74-2519-4c72-e622-3ac87a652bbd"
      },
      "id": "tZJr-mLaYBw3",
      "execution_count": 17,
      "outputs": [
        {
          "output_type": "stream",
          "name": "stderr",
          "text": [
            "Setting `pad_token_id` to `eos_token_id`:50256 for open-end generation.\n"
          ]
        },
        {
          "output_type": "stream",
          "name": "stdout",
          "text": [
            "\n",
            "Я сказал что-то вроде: «Я не понимаю, что происходит».\n",
            "\n",
            "– Что происходит?\n",
            "\n",
            "– Мы не можем понять, что происходит.\n",
            "\n",
            "– Что происходит?\n",
            "\n",
            "– Мы не можем понять,\n"
          ]
        }
      ]
    },
    {
      "cell_type": "markdown",
      "source": [
        "relatable"
      ],
      "metadata": {
        "id": "VD5h_Z7Kq1j6"
      },
      "id": "VD5h_Z7Kq1j6"
    },
    {
      "cell_type": "code",
      "source": [
        ""
      ],
      "metadata": {
        "id": "aaycJvORYBQ6"
      },
      "id": "aaycJvORYBQ6",
      "execution_count": null,
      "outputs": []
    },
    {
      "cell_type": "markdown",
      "id": "ae8437e8",
      "metadata": {
        "id": "ae8437e8"
      },
      "source": [
        "### Задание  2 (2 балла)\n",
        "\n",
        "Ответьте на следующие вопросы:\n",
        "\n",
        "1) В каких статья были представлены GPT-1, GPT-2, GPT-3?\n",
        "\n",
        "2) Как собирался обучающий корпус для GPT-3? Каким образом создатели старались обеспечить высокое качество текстов в обучающей выборке?"
      ]
    },
    {
      "cell_type": "markdown",
      "source": [
        "1) Все три модели были разработаны гугловской лабораторией OpenAI.\n",
        "\n",
        "GPT-1: [Improving Language Understanding\n",
        "by Generative Pre-Training](https://www.gwern.net/docs/www/s3-us-west-2.amazonaws.com/d73fdc5ffa8627bce44dcda2fc012da638ffb158.pdf) -- 2018 год\n",
        "\n",
        "GPT-2: [Language Models are Unsupervised Multitask Learners](https://cdn.openai.com/better-language-models/language_models_are_unsupervised_multitask_learners.pdf) -- 2019 год\n",
        "\n",
        "GPT-3: [Language Models are Few-Shot Learners](https://arxiv.org/pdf/2005.14165.pdf) -- 2020 год\n",
        "\n",
        "2) Создатели взяли самый большой корпус текстовых данных -- Common Crawl dataset. Чтобы повысить качество текстов, исследователи предприняли следующее:\n",
        "- отфильтровали датасет по схожести с другими корпусами выского качества\n",
        "- применили fuzzy deduplication: удаляли дубли почти похожих фрагментов\n",
        "- аугментировали корпус в тренировочной выборке текстами из других высококачественных корпусов."
      ],
      "metadata": {
        "id": "tMLbyvDTvXsa"
      },
      "id": "tMLbyvDTvXsa"
    }
  ],
  "metadata": {
    "kernelspec": {
      "display_name": "Python 3 (ipykernel)",
      "language": "python",
      "name": "python3"
    },
    "language_info": {
      "codemirror_mode": {
        "name": "ipython",
        "version": 3
      },
      "file_extension": ".py",
      "mimetype": "text/x-python",
      "name": "python",
      "nbconvert_exporter": "python",
      "pygments_lexer": "ipython3",
      "version": "3.8.12"
    },
    "colab": {
      "name": "GPT_homework10.ipynb",
      "provenance": [],
      "collapsed_sections": [],
      "include_colab_link": true
    },
    "accelerator": "GPU"
  },
  "nbformat": 4,
  "nbformat_minor": 5
}
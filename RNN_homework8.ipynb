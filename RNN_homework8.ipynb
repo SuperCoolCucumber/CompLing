{
  "cells": [
    {
      "cell_type": "markdown",
      "metadata": {
        "id": "view-in-github",
        "colab_type": "text"
      },
      "source": [
        "<a href=\"https://colab.research.google.com/github/SuperCoolCucumber/CompLing/blob/main/RNN_homework8.ipynb\" target=\"_parent\"><img src=\"https://colab.research.google.com/assets/colab-badge.svg\" alt=\"Open In Colab\"/></a>"
      ]
    },
    {
      "cell_type": "markdown",
      "id": "1bf6f873",
      "metadata": {
        "id": "1bf6f873"
      },
      "source": [
        "# Домашнее задание № 8"
      ]
    },
    {
      "cell_type": "markdown",
      "id": "3b4bd487",
      "metadata": {
        "id": "3b4bd487"
      },
      "source": [
        "## Задание 1 (4 балла) "
      ]
    },
    {
      "cell_type": "markdown",
      "id": "bf4c4f87",
      "metadata": {
        "id": "bf4c4f87"
      },
      "source": [
        "Обучите 8 моделей для задачи классификации текста (датасет - lenta_40k ). А именно:  \n",
        "1) модель с 1 GRU слоем;   \n",
        "2) модель с 1 LSTM слоем    \n",
        "3) модель с 1 GRU и 1 LSTM слоем  \n",
        "4) модель с 1 BIGRU и 2 LSTM слоями  \n",
        "5) модель с 5 GRU слоями и 3 LSTM слоями  \n",
        "6) модель 1 BIGRU и 1 BILSTM слоями, причем так чтобы модели для forward и backward прохода отличались   \n",
        "7) модель, где последовательно идут слои: LSTM, GRU, BILSTM, BIGRU, GRU, LSTM  \n",
        "\n",
        "\n",
        "\n",
        "Параметр units и размер эмбединга можете задать любой. Оцените качество каждой модели и определите победителя."
      ]
    },
    {
      "cell_type": "code",
      "execution_count": 2,
      "id": "83db6635",
      "metadata": {
        "id": "83db6635"
      },
      "outputs": [],
      "source": [
        "import torch\n",
        "import torch.nn as nn\n",
        "import torch.nn.functional as F\n",
        "import torch.optim as optim\n",
        "import torch.utils.data\n",
        "from torch.nn.utils.rnn import pad_sequence"
      ]
    },
    {
      "cell_type": "code",
      "execution_count": 3,
      "id": "50362f6e",
      "metadata": {
        "id": "50362f6e"
      },
      "outputs": [],
      "source": [
        "import pandas as pd\n",
        "import numpy as np\n",
        "from string import punctuation\n",
        "from sklearn.model_selection import train_test_split\n",
        "from collections import Counter\n",
        "from IPython.display import Image\n",
        "from IPython.core.display import HTML \n",
        "import matplotlib.pyplot as plt\n",
        "%matplotlib inline"
      ]
    },
    {
      "cell_type": "code",
      "source": [
        "from google.colab import drive\n",
        "drive.mount('/content/drive')"
      ],
      "metadata": {
        "colab": {
          "base_uri": "https://localhost:8080/"
        },
        "id": "FvR4bkEF7yt2",
        "outputId": "27ebf74a-b444-4a1d-afc4-64db77cb688f"
      },
      "id": "FvR4bkEF7yt2",
      "execution_count": null,
      "outputs": [
        {
          "output_type": "stream",
          "name": "stdout",
          "text": [
            "Mounted at /content/drive\n"
          ]
        }
      ]
    },
    {
      "cell_type": "code",
      "execution_count": null,
      "id": "b6676dab",
      "metadata": {
        "id": "b6676dab"
      },
      "outputs": [],
      "source": [
        "data = pd.read_csv('/content/drive/MyDrive/lenta_40k.csv.zip')"
      ]
    },
    {
      "cell_type": "code",
      "source": [
        "data.dropna(subset=['topic', 'text'], inplace=True)"
      ],
      "metadata": {
        "id": "iXS5__W_0OfI"
      },
      "id": "iXS5__W_0OfI",
      "execution_count": null,
      "outputs": []
    },
    {
      "cell_type": "code",
      "source": [
        "def preprocess(text):\n",
        "    tokens = text.lower().split()\n",
        "    tokens = [token.strip(punctuation) for token in tokens]\n",
        "    return tokens"
      ],
      "metadata": {
        "id": "8KiG7Eh50TnQ"
      },
      "id": "8KiG7Eh50TnQ",
      "execution_count": null,
      "outputs": []
    },
    {
      "cell_type": "code",
      "source": [
        "vocab = Counter()\n",
        "\n",
        "for text in data.text:\n",
        "    vocab.update(preprocess(text))"
      ],
      "metadata": {
        "id": "YBt_eGQo7H_p"
      },
      "id": "YBt_eGQo7H_p",
      "execution_count": null,
      "outputs": []
    },
    {
      "cell_type": "code",
      "source": [
        "filtered_vocab = set()\n",
        "\n",
        "for word in vocab:\n",
        "    if vocab[word] > 30:\n",
        "        filtered_vocab.add(word)"
      ],
      "metadata": {
        "id": "uBJ5ayeM7IrB"
      },
      "id": "uBJ5ayeM7IrB",
      "execution_count": null,
      "outputs": []
    },
    {
      "cell_type": "code",
      "source": [
        "word2id = {'PAD':0}\n",
        "\n",
        "for word in filtered_vocab:\n",
        "    word2id[word] = len(word2id)"
      ],
      "metadata": {
        "id": "WooLP5HS7JAU"
      },
      "id": "WooLP5HS7JAU",
      "execution_count": null,
      "outputs": []
    },
    {
      "cell_type": "code",
      "source": [
        "id2word = {i:word for word, i in word2id.items()}"
      ],
      "metadata": {
        "id": "4NqaG7wX7JGp"
      },
      "id": "4NqaG7wX7JGp",
      "execution_count": null,
      "outputs": []
    },
    {
      "cell_type": "code",
      "source": [
        "class Dataset(torch.utils.data.Dataset):\n",
        "\n",
        "    def __init__(self, word2id, MAX_LEN, texts, targets):\n",
        "        \n",
        "        # храним сырой датасет\n",
        "        # еще лучше можно сделать, если считывать из файла при генерации\n",
        "        self.texts = [torch.LongTensor([word2id[w] for w in self.preprocess(t) if w in word2id][:MAX_LEN]) for t in texts]\n",
        "        self.texts = torch.nn.utils.rnn.pad_sequence(self.texts, batch_first=True)\n",
        "        \n",
        "        # мы не считаем словарь прямо тут, т.к. нам нужно шерить словарь между трейном и валидацией\n",
        "        self.word2id = word2id\n",
        "        self.MAX_LEN = MAX_LEN\n",
        "        self.length = len(texts)\n",
        "        # таргеты можно сразу целиком выделить \n",
        "        \n",
        "        self.target = torch.LongTensor(targets)\n",
        "\n",
        "    def __len__(self):\n",
        "        # нужно уметь возвращать длину датасета, в нашем случае это просто сделать\n",
        "        # если не загружать данные целиком, а читать из файла - это может быть сложнее\n",
        "        return self.length\n",
        "\n",
        "    def __getitem__(self, index):\n",
        "\n",
        "        # в index будут индексы от 0 до self.length\n",
        "        # по ним мы достанем тексты, предобработаем,переведем в векторы, западим и вернем\n",
        "\n",
        "        ids = self.texts[index]\n",
        "        y = self.target[index]\n",
        "\n",
        "        return ids, y\n",
        "    \n",
        "    def preprocess(self, text):\n",
        "        tokens = text.lower().split()\n",
        "        tokens = [token.strip(punctuation) for token in tokens]\n",
        "        tokens = [token for token in tokens if token]\n",
        "        return tokens\n"
      ],
      "metadata": {
        "id": "IpXOOMhz7JMT"
      },
      "id": "IpXOOMhz7JMT",
      "execution_count": null,
      "outputs": []
    },
    {
      "cell_type": "code",
      "source": [
        "MAX_LEN = 200"
      ],
      "metadata": {
        "id": "TyUyIg3p7JQ8"
      },
      "id": "TyUyIg3p7JQ8",
      "execution_count": null,
      "outputs": []
    },
    {
      "cell_type": "code",
      "source": [
        "texts = data.text.values\n",
        "id2label = {i:l for i,l in enumerate(set(data.topic))}\n",
        "label2id = {l:i for i,l in id2label.items()}\n",
        "targets = [label2id[l] for l in data.topic]"
      ],
      "metadata": {
        "id": "QDA7Ay9K7JVE"
      },
      "id": "QDA7Ay9K7JVE",
      "execution_count": null,
      "outputs": []
    },
    {
      "cell_type": "code",
      "source": [
        "train_texts, valid_texts, train_targets, valid_targets = train_test_split(texts, targets, test_size=0.05)"
      ],
      "metadata": {
        "id": "rdmhFLqhGirU"
      },
      "id": "rdmhFLqhGirU",
      "execution_count": null,
      "outputs": []
    },
    {
      "cell_type": "code",
      "source": [
        "training_set = Dataset(word2id, MAX_LEN, train_texts, train_targets)\n",
        "training_generator = torch.utils.data.DataLoader(training_set, batch_size=256, shuffle=True, )"
      ],
      "metadata": {
        "id": "cUpBjVkuGjyk"
      },
      "id": "cUpBjVkuGjyk",
      "execution_count": null,
      "outputs": []
    },
    {
      "cell_type": "code",
      "source": [
        "valid_set = Dataset(word2id, MAX_LEN, valid_texts, valid_targets)\n",
        "valid_generator = torch.utils.data.DataLoader(valid_set, batch_size=256, shuffle=True)"
      ],
      "metadata": {
        "id": "5tgvnSHnGkC4"
      },
      "id": "5tgvnSHnGkC4",
      "execution_count": null,
      "outputs": []
    },
    {
      "cell_type": "code",
      "source": [
        "from sklearn.metrics import f1_score\n",
        "\n",
        "def train(model, iterator, optimizer, criterion, print_every=1000):\n",
        "    \n",
        "    epoch_loss = []\n",
        "    epoch_f1 = []\n",
        "    \n",
        "    model.train()  \n",
        "\n",
        "    for i, (texts, ys) in enumerate(iterator):\n",
        "        \n",
        "        optimizer.zero_grad()   \n",
        "        predictions = model(texts.to(device)).squeeze()  \n",
        "        loss = criterion(predictions, ys.to(device))        \n",
        "        \n",
        "        \n",
        "        \n",
        "        loss.backward()\n",
        "        optimizer.step()     \n",
        "        preds = predictions.detach().to('cpu').numpy().argmax(1).tolist()\n",
        "        y_true = ys.tolist()\n",
        "        \n",
        "        epoch_loss.append(loss.item())\n",
        "        epoch_f1.append(f1_score(y_true, preds, average=\"micro\"))\n",
        "        \n",
        "        if not (i+1) % print_every:\n",
        "            print(f'Loss: {np.mean(epoch_loss)}; F1 measure: {np.mean(epoch_f1)}')\n",
        "        \n",
        "    return np.mean(epoch_f1)\n",
        "\n",
        "\n",
        "def evaluate(model, iterator, criterion):\n",
        "    \n",
        "    epoch_loss = []\n",
        "    epoch_f1 = []\n",
        "    \n",
        "    model.eval()  \n",
        "    with torch.no_grad():\n",
        "        for texts, ys in iterator:   \n",
        "\n",
        "            predictions = model(texts.to(device)).squeeze()  \n",
        "            loss = criterion(predictions, ys.to(device))        \n",
        "            preds = predictions.detach().to('cpu').numpy().argmax(1).tolist()\n",
        "            y_true = ys.tolist()\n",
        "            \n",
        "\n",
        "            epoch_loss.append(loss.item())  \n",
        "            epoch_f1.append(f1_score(y_true, preds, average=\"micro\"))\n",
        "            \n",
        "    return np.mean(epoch_f1)# / len(iterator)"
      ],
      "metadata": {
        "id": "-FwyJlOvGkK9"
      },
      "id": "-FwyJlOvGkK9",
      "execution_count": null,
      "outputs": []
    },
    {
      "cell_type": "code",
      "source": [
        "def plot_loss(f1s, f1s_eval):\n",
        "    plt.plot(f1s)\n",
        "    plt.plot(f1s_eval)\n",
        "    plt.title('model f1')\n",
        "    plt.ylabel('f1')\n",
        "    plt.xlabel('epoch')\n",
        "    plt.legend(['train', 'val'], loc='upper left')\n",
        "    plt.show()"
      ],
      "metadata": {
        "id": "ctVN01JjGCTN"
      },
      "id": "ctVN01JjGCTN",
      "execution_count": null,
      "outputs": []
    },
    {
      "cell_type": "markdown",
      "source": [
        "### 1 GRU Layer"
      ],
      "metadata": {
        "id": "oC8trFwyIwaD"
      },
      "id": "oC8trFwyIwaD"
    },
    {
      "cell_type": "code",
      "source": [
        "class Clf_1(nn.Module):\n",
        "    \n",
        "    def __init__(self, output_dim):\n",
        "        \n",
        "        super().__init__()          \n",
        "        self.VOCAB_SIZE = len(word2id)\n",
        "        self.EMB_DIM = 100\n",
        "        self.RNN_UNITS = 256\n",
        "        \n",
        "        \n",
        "        self.embedding = nn.Embedding(self.VOCAB_SIZE, self.EMB_DIM)\n",
        "        \n",
        "        self.gru = nn.GRU(self.EMB_DIM, self.RNN_UNITS, batch_first=True)\n",
        "        self.fc = nn.Linear(self.RNN_UNITS, output_dim)\n",
        "\n",
        "        self.act = nn.LogSoftmax(1) \n",
        "       \n",
        "        \n",
        "    def forward(self, text):\n",
        "\n",
        "        embedded = self.embedding(text)\n",
        "        rnn_output, (h, *_) = self.gru(embedded)\n",
        "        \n",
        "        output = self.act(self.fc(h))        \n",
        "        return output\n",
        "\n",
        "\n",
        "device = torch.device('cuda' if torch.cuda.is_available() else 'cpu')  \n",
        "model = Clf_1(len(label2id))\n",
        "optimizer = optim.Adam(model.parameters(), lr=0.001)\n",
        "criterion = nn.NLLLoss() \n",
        "model = model.to(device)\n",
        "criterion = criterion.to(device)"
      ],
      "metadata": {
        "id": "lhok56GHGkR7"
      },
      "id": "lhok56GHGkR7",
      "execution_count": null,
      "outputs": []
    },
    {
      "cell_type": "code",
      "source": [
        "f1s = []\n",
        "f1s_eval = []\n",
        "\n",
        "for i in range(10):\n",
        "    print(i)\n",
        "    f1s.append(train(model, training_generator, optimizer, criterion, 100))\n",
        "    evl = evaluate(model, valid_generator, criterion)\n",
        "    print('Eval - ', evl)\n",
        "    f1s_eval.append(evl)\n",
        "\n",
        "plot_loss(f1s, f1s_eval)"
      ],
      "metadata": {
        "colab": {
          "base_uri": "https://localhost:8080/",
          "height": 815
        },
        "id": "brp73N5gGkYz",
        "outputId": "133e6696-fa4b-4460-aca8-630b2b759143"
      },
      "id": "brp73N5gGkYz",
      "execution_count": null,
      "outputs": [
        {
          "output_type": "stream",
          "name": "stdout",
          "text": [
            "0\n",
            "Loss: 2.3483754062652586; F1 measure: 0.20703125\n",
            "Eval -  0.30416666666666664\n",
            "1\n",
            "Loss: 1.824817259311676; F1 measure: 0.396484375\n",
            "Eval -  0.5625510620915032\n",
            "2\n",
            "Loss: 1.1777021598815918; F1 measure: 0.6366796875\n",
            "Eval -  0.6571844362745098\n",
            "3\n",
            "Loss: 0.8808860778808594; F1 measure: 0.7283203125\n",
            "Eval -  0.6977890114379085\n",
            "4\n",
            "Loss: 0.6841877231001854; F1 measure: 0.78828125\n",
            "Eval -  0.7166768790849674\n",
            "5\n",
            "Loss: 0.5281546059250831; F1 measure: 0.83546875\n",
            "Eval -  0.723187295751634\n",
            "6\n",
            "Loss: 0.4043016880750656; F1 measure: 0.8739453125\n",
            "Eval -  0.7262152777777778\n",
            "7\n",
            "Loss: 0.29217993065714837; F1 measure: 0.913359375\n",
            "Eval -  0.7277726715686275\n",
            "8\n",
            "Loss: 0.200436427667737; F1 measure: 0.9437890625\n",
            "Eval -  0.7131842320261438\n",
            "9\n",
            "Loss: 0.13914611332118512; F1 measure: 0.9630859375\n",
            "Eval -  0.7216605392156863\n"
          ]
        },
        {
          "output_type": "display_data",
          "data": {
            "text/plain": [
              "<Figure size 432x288 with 1 Axes>"
            ],
            "image/png": "[encoded data removed]"
          },
          "metadata": {
            "needs_background": "light"
          }
        }
      ]
    },
    {
      "cell_type": "markdown",
      "source": [
        "Модель переобучилась 👎"
      ],
      "metadata": {
        "id": "04Rm-yjcdgWV"
      },
      "id": "04Rm-yjcdgWV"
    },
    {
      "cell_type": "markdown",
      "source": [
        "### 1 LSTM Layer"
      ],
      "metadata": {
        "id": "matLYv-dI8F1"
      },
      "id": "matLYv-dI8F1"
    },
    {
      "cell_type": "code",
      "source": [
        "class Clf_2(nn.Module):\n",
        "    \n",
        "    def __init__(self, output_dim):\n",
        "        \n",
        "        super().__init__()          \n",
        "        self.VOCAB_SIZE = len(word2id)\n",
        "        self.EMB_DIM = 100\n",
        "        self.RNN_UNITS = 256\n",
        "        \n",
        "        \n",
        "        self.embedding = nn.Embedding(self.VOCAB_SIZE, self.EMB_DIM)\n",
        "        \n",
        "        self.lstm = nn.LSTM(self.EMB_DIM, self.RNN_UNITS, batch_first=True)\n",
        "        self.fc = nn.Linear(self.RNN_UNITS, output_dim)\n",
        "\n",
        "        self.act = nn.LogSoftmax(1) \n",
        "       \n",
        "        \n",
        "    def forward(self, text):\n",
        "        embedded = self.embedding(text)\n",
        "        rnn_output, (h, *_) = self.lstm(embedded)\n",
        "        h = h.squeeze(0)\n",
        "        output = self.act(self.fc(h))        \n",
        "        return output\n",
        "\n",
        "\n",
        "device = torch.device('cuda' if torch.cuda.is_available() else 'cpu')  \n",
        "model = Clf_2(len(label2id))\n",
        "optimizer = optim.Adam(model.parameters(), lr=0.001)\n",
        "criterion = nn.NLLLoss() \n",
        "model = model.to(device)\n",
        "criterion = criterion.to(device)"
      ],
      "metadata": {
        "id": "FoB8YSJUI5yY"
      },
      "id": "FoB8YSJUI5yY",
      "execution_count": null,
      "outputs": []
    },
    {
      "cell_type": "code",
      "source": [
        "f1s = []\n",
        "f1s_eval = []\n",
        "\n",
        "for i in range(10):\n",
        "    print(i)\n",
        "    f1s.append(train(model, training_generator, optimizer, criterion, 100))\n",
        "    evl = evaluate(model, valid_generator, criterion)\n",
        "    print('Eval - ', evl)\n",
        "    f1s_eval.append(evl)\n",
        "\n",
        "plot_loss(f1s, f1s_eval)"
      ],
      "metadata": {
        "colab": {
          "base_uri": "https://localhost:8080/",
          "height": 815
        },
        "id": "RNceJqbBI6hi",
        "outputId": "90538026-bb33-4e9d-fcfe-6bfd2f041545"
      },
      "id": "RNceJqbBI6hi",
      "execution_count": null,
      "outputs": [
        {
          "output_type": "stream",
          "name": "stdout",
          "text": [
            "0\n",
            "Loss: 2.35736398935318; F1 measure: 0.20796875\n",
            "Eval -  0.2140625\n",
            "1\n",
            "Loss: 2.274958522319794; F1 measure: 0.2191796875\n",
            "Eval -  0.21188214869281047\n",
            "2\n",
            "Loss: 2.1304773020744325; F1 measure: 0.2638671875\n",
            "Eval -  0.35646956699346405\n",
            "3\n",
            "Loss: 1.80388449549675; F1 measure: 0.3864453125\n",
            "Eval -  0.4014501633986928\n",
            "4\n",
            "Loss: 1.6130768489837646; F1 measure: 0.4621875\n",
            "Eval -  0.506530841503268\n",
            "5\n",
            "Loss: 1.4001120734214783; F1 measure: 0.5519921875\n",
            "Eval -  0.5445465686274509\n",
            "6\n",
            "Loss: 1.2413177514076232; F1 measure: 0.6108984375\n",
            "Eval -  0.5777318218954248\n",
            "7\n",
            "Loss: 1.1188939040899277; F1 measure: 0.65109375\n",
            "Eval -  0.5957363153594771\n",
            "8\n",
            "Loss: 0.9935687869787216; F1 measure: 0.695546875\n",
            "Eval -  0.6209150326797386\n",
            "9\n",
            "Loss: 0.8497090196609497; F1 measure: 0.75375\n",
            "Eval -  0.651108047385621\n"
          ]
        },
        {
          "output_type": "display_data",
          "data": {
            "text/plain": [
              "<Figure size 432x288 with 1 Axes>"
            ],
            "image/png": "[encoded data removed]"
          },
          "metadata": {
            "needs_background": "light"
          }
        }
      ]
    },
    {
      "cell_type": "markdown",
      "source": [
        "Снова заметно переобучение, хотя F1 мера относительно неплохая."
      ],
      "metadata": {
        "id": "y3idYH8ad9JD"
      },
      "id": "y3idYH8ad9JD"
    },
    {
      "cell_type": "markdown",
      "source": [
        "### 1 GRU Layer and 1 LSTM Layer"
      ],
      "metadata": {
        "id": "-aaXudXyOQNw"
      },
      "id": "-aaXudXyOQNw"
    },
    {
      "cell_type": "code",
      "source": [
        "class Clf_3(nn.Module):\n",
        "    \n",
        "    def __init__(self, output_dim):\n",
        "        \n",
        "        super().__init__()          \n",
        "        self.VOCAB_SIZE = len(word2id)\n",
        "        self.EMB_DIM = 100\n",
        "        self.RNN_UNITS = 256\n",
        "        \n",
        "        \n",
        "        self.embedding = nn.Embedding(self.VOCAB_SIZE, self.EMB_DIM)\n",
        "        \n",
        "        \n",
        "        self.gru = nn.GRU(self.EMB_DIM, self.RNN_UNITS, batch_first=True)\n",
        "        self.lstm = nn.LSTM(self.RNN_UNITS, self.RNN_UNITS, batch_first=True)\n",
        "        self.fc = nn.Linear(self.RNN_UNITS, output_dim)\n",
        "\n",
        "        self.act = nn.LogSoftmax(1) \n",
        "       \n",
        "        \n",
        "    def forward(self, text):\n",
        "\n",
        "        embedded = self.embedding(text)\n",
        "        rnn_output, h = self.gru(embedded)\n",
        "        rnn_output, (h, *_) = self.lstm(rnn_output)\n",
        "        \n",
        "        h = h.squeeze(0)\n",
        "        \n",
        "        output = self.act(self.fc(h))        \n",
        "        return output\n",
        "\n",
        "\n",
        "device = torch.device('cuda' if torch.cuda.is_available() else 'cpu')  \n",
        "model = Clf_3(len(label2id))\n",
        "optimizer = optim.Adam(model.parameters(), lr=0.001)\n",
        "criterion = nn.NLLLoss() \n",
        "model = model.to(device)\n",
        "criterion = criterion.to(device)"
      ],
      "metadata": {
        "id": "41SmXyK_ZWtZ"
      },
      "id": "41SmXyK_ZWtZ",
      "execution_count": null,
      "outputs": []
    },
    {
      "cell_type": "code",
      "source": [
        "f1s = []\n",
        "f1s_eval = []\n",
        "\n",
        "for i in range(10):\n",
        "    print(i)\n",
        "    f1s.append(train(model, training_generator, optimizer, criterion, 100))\n",
        "    evl = evaluate(model, valid_generator, criterion)\n",
        "    print('Eval - ', evl)\n",
        "    f1s_eval.append(evl)\n",
        "\n",
        "plot_loss(f1s, f1s_eval)"
      ],
      "metadata": {
        "colab": {
          "base_uri": "https://localhost:8080/",
          "height": 815
        },
        "id": "ym6mhmkTW4Iu",
        "outputId": "507e3140-a722-4da7-d038-17470f4251ba"
      },
      "id": "ym6mhmkTW4Iu",
      "execution_count": null,
      "outputs": [
        {
          "output_type": "stream",
          "name": "stdout",
          "text": [
            "0\n",
            "Loss: 2.3483956813812257; F1 measure: 0.20703125\n",
            "Eval -  0.2965992647058824\n",
            "1\n",
            "Loss: 1.8973706340789795; F1 measure: 0.3516015625\n",
            "Eval -  0.4218341503267974\n",
            "2\n",
            "Loss: 1.5835507535934448; F1 measure: 0.4769921875\n",
            "Eval -  0.5514450571895425\n",
            "3\n",
            "Loss: 1.2299937558174134; F1 measure: 0.6166015625\n",
            "Eval -  0.6290083741830066\n",
            "4\n",
            "Loss: 1.0114574044942857; F1 measure: 0.695625\n",
            "Eval -  0.6424172794117646\n",
            "5\n",
            "Loss: 0.8582845216989518; F1 measure: 0.7452734375\n",
            "Eval -  0.6639297385620915\n",
            "6\n",
            "Loss: 0.7201987820863723; F1 measure: 0.79\n",
            "Eval -  0.6641186683006536\n",
            "7\n",
            "Loss: 0.5867089435458184; F1 measure: 0.83265625\n",
            "Eval -  0.6623672385620915\n",
            "8\n",
            "Loss: 0.4757296150922775; F1 measure: 0.8695703125\n",
            "Eval -  0.6830269607843138\n",
            "9\n",
            "Loss: 0.37784301817417143; F1 measure: 0.899296875\n",
            "Eval -  0.6782271241830065\n"
          ]
        },
        {
          "output_type": "display_data",
          "data": {
            "text/plain": [
              "<Figure size 432x288 with 1 Axes>"
            ],
            "image/png": "[encoded data removed]"
          },
          "metadata": {
            "needs_background": "light"
          }
        }
      ]
    },
    {
      "cell_type": "markdown",
      "source": [
        "Переобучение опять"
      ],
      "metadata": {
        "id": "xB1IQ27PeMhn"
      },
      "id": "xB1IQ27PeMhn"
    },
    {
      "cell_type": "markdown",
      "source": [
        "### 1 BiGRU Layer and 2 LSTM Layers"
      ],
      "metadata": {
        "id": "Ui9gQlcFOakx"
      },
      "id": "Ui9gQlcFOakx"
    },
    {
      "cell_type": "code",
      "source": [
        "class Clf_4(nn.Module):\n",
        "    \n",
        "    def __init__(self, output_dim):\n",
        "        \n",
        "        super().__init__()          \n",
        "        self.VOCAB_SIZE = len(word2id)\n",
        "        self.EMB_DIM = 100\n",
        "        self.RNN_UNITS = 256\n",
        "        \n",
        "        \n",
        "        self.embedding = nn.Embedding(self.VOCAB_SIZE, self.EMB_DIM)\n",
        "        \n",
        "        \n",
        "        self.gru = nn.GRU(self.EMB_DIM, self.RNN_UNITS, batch_first=True, bidirectional=True)\n",
        "        self.lstm = nn.LSTM(self.RNN_UNITS * 2, self.RNN_UNITS, num_layers=2, batch_first=True)\n",
        "        self.fc = nn.Linear(self.RNN_UNITS, output_dim)\n",
        "\n",
        "        self.act = nn.LogSoftmax(1) \n",
        "       \n",
        "        \n",
        "    def forward(self, text):\n",
        "\n",
        "        embedded = self.embedding(text)\n",
        "        # embedded_backward = torch.flip(embedded, (1, ))\n",
        "\n",
        "        rnn_output, h = self.gru(embedded)\n",
        "        rnn_output, (h, *_) = self.lstm(rnn_output)\n",
        "      \n",
        "        h = h[-1]\n",
        "        # h = h.squeeze(0)\n",
        "        # h, h_backward = h.squeeze(0), h_backward.squeeze(0)\n",
        "        \n",
        "        output = self.act(self.fc(h))        \n",
        "        return output\n",
        "\n",
        "\n",
        "device = torch.device('cuda' if torch.cuda.is_available() else 'cpu')  \n",
        "model = Clf_4(len(label2id))\n",
        "optimizer = optim.Adam(model.parameters(), lr=0.001)\n",
        "criterion = nn.NLLLoss() \n",
        "model = model.to(device)\n",
        "criterion = criterion.to(device)"
      ],
      "metadata": {
        "id": "scaQBNFZd80S"
      },
      "id": "scaQBNFZd80S",
      "execution_count": null,
      "outputs": []
    },
    {
      "cell_type": "code",
      "source": [
        "f1s = []\n",
        "f1s_eval = []\n",
        "\n",
        "for i in range(10):\n",
        "    print(i)\n",
        "    f1s.append(train(model, training_generator, optimizer, criterion, 100))\n",
        "    evl = evaluate(model, valid_generator, criterion)\n",
        "    print('Eval - ', evl)\n",
        "    f1s_eval.append(evl)\n",
        "\n",
        "plot_loss(f1s, f1s_eval)"
      ],
      "metadata": {
        "colab": {
          "base_uri": "https://localhost:8080/",
          "height": 815
        },
        "id": "HEuVLOrHnGGh",
        "outputId": "23ad2173-dd01-4eda-b511-bd3e775b7099"
      },
      "id": "HEuVLOrHnGGh",
      "execution_count": null,
      "outputs": [
        {
          "output_type": "stream",
          "name": "stdout",
          "text": [
            "0\n",
            "Loss: 2.345174939632416; F1 measure: 0.2030078125\n",
            "Eval -  0.22233966503267974\n",
            "1\n",
            "Loss: 2.2028249073028565; F1 measure: 0.237421875\n",
            "Eval -  0.32131331699346405\n",
            "2\n",
            "Loss: 1.9034745073318482; F1 measure: 0.3387890625\n",
            "Eval -  0.4040492238562091\n",
            "3\n",
            "Loss: 1.7475880217552184; F1 measure: 0.4098046875\n",
            "Eval -  0.4318270016339869\n",
            "4\n",
            "Loss: 1.6160474348068237; F1 measure: 0.4630078125\n",
            "Eval -  0.4758833741830066\n",
            "5\n",
            "Loss: 1.4769693541526794; F1 measure: 0.5128125\n",
            "Eval -  0.5414470996732026\n",
            "6\n",
            "Loss: 1.3054514527320862; F1 measure: 0.5813671875\n",
            "Eval -  0.5913654003267974\n",
            "7\n",
            "Loss: 1.1496294003725052; F1 measure: 0.6459765625\n",
            "Eval -  0.6150837418300654\n",
            "8\n",
            "Loss: 1.0511154490709305; F1 measure: 0.679375\n",
            "Eval -  0.6497855392156863\n",
            "9\n",
            "Loss: 0.9032107567787171; F1 measure: 0.725703125\n",
            "Eval -  0.6767361111111111\n"
          ]
        },
        {
          "output_type": "display_data",
          "data": {
            "text/plain": [
              "<Figure size 432x288 with 1 Axes>"
            ],
            "image/png": "[encoded data removed]"
          },
          "metadata": {
            "needs_background": "light"
          }
        }
      ]
    },
    {
      "cell_type": "markdown",
      "source": [
        "Неплохой результат тут получился, модель не переобучилась, в отличие от остальных в этой домашке, и f1 мера тоже окей."
      ],
      "metadata": {
        "id": "bhEiG1H7cNWx"
      },
      "id": "bhEiG1H7cNWx"
    },
    {
      "cell_type": "markdown",
      "source": [
        "### 5 GRU Layers and 3 LSTM Layers"
      ],
      "metadata": {
        "id": "U_hP-bWdOgfA"
      },
      "id": "U_hP-bWdOgfA"
    },
    {
      "cell_type": "code",
      "source": [
        "class Clf_5(nn.Module):\n",
        "    \n",
        "    def __init__(self, output_dim):\n",
        "        \n",
        "        super().__init__()          \n",
        "        self.VOCAB_SIZE = len(word2id)\n",
        "        self.EMB_DIM = 100\n",
        "        self.RNN_UNITS = 256\n",
        "        \n",
        "        \n",
        "        self.embedding = nn.Embedding(self.VOCAB_SIZE, self.EMB_DIM)\n",
        "        \n",
        "        \n",
        "        self.gru = nn.GRU(self.EMB_DIM, self.RNN_UNITS, num_layers=5, batch_first=True)\n",
        "        self.lstm = nn.LSTM(self.RNN_UNITS, self.RNN_UNITS, num_layers=3, batch_first=True)\n",
        "        self.fc = nn.Linear(self.RNN_UNITS, output_dim)\n",
        "\n",
        "        self.act = nn.LogSoftmax(1) \n",
        "       \n",
        "        \n",
        "    def forward(self, text):\n",
        "\n",
        "        embedded = self.embedding(text)\n",
        "        rnn_output, h = self.gru(embedded)\n",
        "        rnn_output, (h, *_) = self.lstm(rnn_output)\n",
        "        \n",
        "        \n",
        "        # h = h.squeeze(0)\n",
        "        h = h[-1]\n",
        "        \n",
        "        output = self.act(self.fc(h))        \n",
        "        return output\n",
        "\n",
        "\n",
        "device = torch.device('cuda' if torch.cuda.is_available() else 'cpu')  \n",
        "model = Clf_5(len(label2id))\n",
        "optimizer = optim.Adam(model.parameters(), lr=0.001)\n",
        "criterion = nn.NLLLoss() \n",
        "model = model.to(device)\n",
        "criterion = criterion.to(device)"
      ],
      "metadata": {
        "id": "xBHmtWmAS45r"
      },
      "id": "xBHmtWmAS45r",
      "execution_count": null,
      "outputs": []
    },
    {
      "cell_type": "code",
      "source": [
        "f1s = []\n",
        "f1s_eval = []\n",
        "\n",
        "for i in range(10):\n",
        "    print(i)\n",
        "    f1s.append(train(model, training_generator, optimizer, criterion, 100))\n",
        "    evl = evaluate(model, valid_generator, criterion)\n",
        "    print('Eval - ', evl)\n",
        "    f1s_eval.append(evl)\n",
        "\n",
        "plot_loss(f1s, f1s_eval)"
      ],
      "metadata": {
        "id": "k3SWEW0PTLGv",
        "outputId": "a6d89ebe-4e5f-4114-8f16-9ae9061a58c3",
        "colab": {
          "base_uri": "https://localhost:8080/",
          "height": 815
        }
      },
      "id": "k3SWEW0PTLGv",
      "execution_count": null,
      "outputs": [
        {
          "output_type": "stream",
          "name": "stdout",
          "text": [
            "0\n",
            "Loss: 2.3558035588264463; F1 measure: 0.20484375\n",
            "Eval -  0.2119076797385621\n",
            "1\n",
            "Loss: 2.3261216616630556; F1 measure: 0.215078125\n",
            "Eval -  0.21059027777777778\n",
            "2\n",
            "Loss: 2.322651033401489; F1 measure: 0.213984375\n",
            "Eval -  0.2123468137254902\n",
            "3\n",
            "Loss: 2.3236757707595825; F1 measure: 0.21421875\n",
            "Eval -  0.21015114379084968\n",
            "4\n",
            "Loss: 2.321301214694977; F1 measure: 0.2144921875\n",
            "Eval -  0.2099315767973856\n",
            "5\n",
            "Loss: 2.32089408159256; F1 measure: 0.218515625\n",
            "Eval -  0.17216605392156864\n",
            "6\n",
            "Loss: 2.319032652378082; F1 measure: 0.2113671875\n",
            "Eval -  0.21212724673202615\n",
            "7\n",
            "Loss: 2.319418816566467; F1 measure: 0.21984375\n",
            "Eval -  0.21146854575163399\n",
            "8\n",
            "Loss: 2.3266319680213927; F1 measure: 0.2126171875\n",
            "Eval -  0.21059027777777778\n",
            "9\n",
            "Loss: 2.324040288925171; F1 measure: 0.2150390625\n",
            "Eval -  0.21102941176470588\n"
          ]
        },
        {
          "output_type": "display_data",
          "data": {
            "text/plain": [
              "<Figure size 432x288 with 1 Axes>"
            ],
            "image/png": "[encoded data removed]"
          },
          "metadata": {
            "needs_background": "light"
          }
        }
      ]
    },
    {
      "cell_type": "markdown",
      "source": [
        "Ээээээ... не"
      ],
      "metadata": {
        "id": "gc0CJoULeYXQ"
      },
      "id": "gc0CJoULeYXQ"
    },
    {
      "cell_type": "markdown",
      "source": [
        "### 1 BIGRU Layer and 1 BILSTM Layer (different models for `forward` and `backward` propagation)"
      ],
      "metadata": {
        "id": "-JdWb75lOgqm"
      },
      "id": "-JdWb75lOgqm"
    },
    {
      "cell_type": "code",
      "source": [
        "class Clf_6(nn.Module):\n",
        "    \n",
        "    def __init__(self, output_dim):\n",
        "        \n",
        "        super().__init__()          \n",
        "        self.VOCAB_SIZE = len(word2id)\n",
        "        self.EMB_DIM = 100\n",
        "        self.RNN_UNITS = 256\n",
        "        \n",
        "        \n",
        "        self.embedding = nn.Embedding(self.VOCAB_SIZE, self.EMB_DIM)\n",
        "        \n",
        "        \n",
        "        self.gru = nn.GRU(self.EMB_DIM, self.RNN_UNITS, batch_first=True, bidirectional=True)\n",
        "        self.lstm = nn.LSTM(self.RNN_UNITS, self.RNN_UNITS, batch_first=True, bidirectional=True)\n",
        "        self.fc = nn.Linear(self.RNN_UNITS*2, output_dim)\n",
        "\n",
        "        self.act = nn.LogSoftmax(1) \n",
        "       \n",
        "        \n",
        "    def forward(self, text):\n",
        "\n",
        "        embedded = self.embedding(text)\n",
        "        embedded_backward = torch.flip(embedded, (1,))\n",
        "\n",
        "        gru_output, (h, _) = self.gru(embedded)\n",
        "        gru_output_backward, (gru_h_backward, _) = self.gru(embedded_backward)\n",
        "\n",
        "        h, gru_h_backward = h.squeeze(0), gru_h_backward.squeeze(0)\n",
        "\n",
        "         h_concat = torch.cat([h, gru_h_backward], 1)\n",
        "\n",
        "        \n",
        "        output = self.act(self.fc(h_concat))        \n",
        "        return output\n",
        "\n",
        "\n",
        "device = torch.device('cuda' if torch.cuda.is_available() else 'cpu')  \n",
        "model = Clf_6(len(label2id))\n",
        "optimizer = optim.Adam(model.parameters(), lr=0.001)\n",
        "criterion = nn.NLLLoss() \n",
        "model = model.to(device)\n",
        "criterion = criterion.to(device)"
      ],
      "metadata": {
        "id": "8V7cWVuuh2a7"
      },
      "id": "8V7cWVuuh2a7",
      "execution_count": null,
      "outputs": []
    },
    {
      "cell_type": "code",
      "source": [
        "f1s = []\n",
        "f1s_eval = []\n",
        "\n",
        "for i in range(10):\n",
        "    print(i)\n",
        "    f1s.append(train(model, training_generator, optimizer, criterion, 100))\n",
        "    evl = evaluate(model, valid_generator, criterion)\n",
        "    print('Eval - ', evl)\n",
        "    f1s_eval.append(evl)\n",
        "\n",
        "plot_loss(f1s, f1s_eval)"
      ],
      "metadata": {
        "colab": {
          "base_uri": "https://localhost:8080/",
          "height": 827
        },
        "id": "IFxyx4h9kZZY",
        "outputId": "d5f0a325-6c53-43b7-e6db-d48dd09bc81b"
      },
      "id": "IFxyx4h9kZZY",
      "execution_count": null,
      "outputs": [
        {
          "output_type": "stream",
          "name": "stdout",
          "text": [
            "0\n",
            "Loss: 2.1837838542461396; F1 measure: 0.2934765625\n",
            "Eval -  0.5599060457516339\n",
            "1\n",
            "Loss: 1.2944235515594482; F1 measure: 0.6060546875\n",
            "Eval -  0.6454503676470588\n",
            "2\n",
            "Loss: 0.9625873374938965; F1 measure: 0.706875\n",
            "Eval -  0.7175551470588235\n",
            "3\n",
            "Loss: 0.7579696434736252; F1 measure: 0.7638671875\n",
            "Eval -  0.7420853758169934\n",
            "4\n",
            "Loss: 0.6003298357129097; F1 measure: 0.80875\n",
            "Eval -  0.7568627450980392\n",
            "5\n",
            "Loss: 0.4786962988972664; F1 measure: 0.8481640625\n",
            "Eval -  0.745547385620915\n",
            "6\n",
            "Loss: 0.3469715619087219; F1 measure: 0.8916796875\n",
            "Eval -  0.7405535130718954\n",
            "7\n",
            "Loss: 0.23887377768754958; F1 measure: 0.92828125\n",
            "Eval -  0.7505412581699347\n",
            "8\n",
            "Loss: 0.1574516749382019; F1 measure: 0.9550390625\n",
            "Eval -  0.7397007761437908\n",
            "9\n",
            "Loss: 0.09649966787546874; F1 measure: 0.976015625\n",
            "Eval -  0.7366523692810457\n"
          ]
        },
        {
          "output_type": "display_data",
          "data": {
            "text/plain": [
              "<Figure size 432x288 with 1 Axes>"
            ],
            "image/png": "[encoded data removed]"
          },
          "metadata": {
            "needs_background": "light"
          }
        }
      ]
    },
    {
      "cell_type": "markdown",
      "source": [
        "I like my overfitting how I like my coffee -- bitter."
      ],
      "metadata": {
        "id": "c430vXy2egrz"
      },
      "id": "c430vXy2egrz"
    },
    {
      "cell_type": "markdown",
      "source": [
        "### Consecutive layers: LSTM, GRU, BILSTM, BIGRU, GRU, LSTM"
      ],
      "metadata": {
        "id": "5TDLzTNLOg4c"
      },
      "id": "5TDLzTNLOg4c"
    },
    {
      "cell_type": "code",
      "source": [
        "class Clf_7(nn.Module):\n",
        "    \n",
        "    def __init__(self, output_dim):\n",
        "        \n",
        "        super().__init__()          \n",
        "        self.VOCAB_SIZE = len(word2id)\n",
        "        self.EMB_DIM = 100\n",
        "        self.RNN_UNITS = 256\n",
        "        \n",
        "        \n",
        "        self.embedding = nn.Embedding(self.VOCAB_SIZE, self.EMB_DIM)\n",
        "        \n",
        "        self.lstm_1 = nn.LSTM(self.EMB_DIM, self.RNN_UNITS, batch_first=True)\n",
        "        self.gru_1 = nn.GRU(self.RNN_UNITS, self.RNN_UNITS, batch_first=True)\n",
        "        self.bilstm = nn.LSTM(self.RNN_UNITS, self.RNN_UNITS, batch_first=True, bidirectional=True)\n",
        "        self.bigru = nn.GRU(self.RNN_UNITS*2, self.RNN_UNITS*2, batch_first=True, bidirectional=True)\n",
        "        self.gru_2 = nn.GRU(self.RNN_UNITS*4, self.RNN_UNITS*2, batch_first=True)\n",
        "        self.lstm_2 = nn.LSTM(self.RNN_UNITS*2, self.RNN_UNITS, batch_first=True)\n",
        "\n",
        "\n",
        "        self.fc = nn.Linear(self.RNN_UNITS, output_dim)\n",
        "\n",
        "        self.act = nn.LogSoftmax(1) \n",
        "       \n",
        "        \n",
        "    def forward(self, text):\n",
        "\n",
        "        embedded = self.embedding(text)\n",
        "        rnn_output, (h, _) = self.lstm_1(embedded)\n",
        "        rnn_output, h = self.gru_1(rnn_output)\n",
        "        rnn_output, (h, _) = self.bilstm(rnn_output)\n",
        "        rnn_output, (h, _) = self.bigru(rnn_output)\n",
        "        rnn_output, h = self.gru_2(rnn_output)\n",
        "        rnn_output, (h, _) = self.lstm_2(rnn_output)\n",
        "        \n",
        "        \n",
        "        # h = h.squeeze(0)\n",
        "        h = h[-1]\n",
        "        \n",
        "        output = self.act(self.fc(h))        \n",
        "        return output\n",
        "\n",
        "\n",
        "device = torch.device('cuda' if torch.cuda.is_available() else 'cpu')  \n",
        "model = Clf_7(len(label2id))\n",
        "optimizer = optim.Adam(model.parameters(), lr=0.001)\n",
        "criterion = nn.NLLLoss() \n",
        "model = model.to(device)\n",
        "criterion = criterion.to(device)"
      ],
      "metadata": {
        "id": "TMBUDRwRI6z2"
      },
      "id": "TMBUDRwRI6z2",
      "execution_count": null,
      "outputs": []
    },
    {
      "cell_type": "code",
      "source": [
        "f1s = []\n",
        "f1s_eval = []\n",
        "\n",
        "for i in range(10):\n",
        "    print(i)\n",
        "    f1s.append(train(model, training_generator, optimizer, criterion, 100))\n",
        "    evl = evaluate(model, valid_generator, criterion)\n",
        "    print('Eval - ', evl)\n",
        "    f1s_eval.append(evl)\n",
        "\n",
        "plot_loss(f1s, f1s_eval)"
      ],
      "metadata": {
        "id": "2mVtFn39GkuV",
        "colab": {
          "base_uri": "https://localhost:8080/",
          "height": 827
        },
        "outputId": "db108e50-792a-4692-cf34-711e19e32a9d"
      },
      "id": "2mVtFn39GkuV",
      "execution_count": null,
      "outputs": [
        {
          "output_type": "stream",
          "name": "stdout",
          "text": [
            "0\n",
            "Loss: 2.339330153465271; F1 measure: 0.2063671875\n",
            "Eval -  0.25531045751633985\n",
            "1\n",
            "Loss: 2.146424787044525; F1 measure: 0.269296875\n",
            "Eval -  0.3059078839869281\n",
            "2\n",
            "Loss: 2.025320007801056; F1 measure: 0.3148046875\n",
            "Eval -  0.369515931372549\n",
            "3\n",
            "Loss: 1.7575332498550416; F1 measure: 0.403984375\n",
            "Eval -  0.48760723039215687\n",
            "4\n",
            "Loss: 1.4715081357955933; F1 measure: 0.52\n",
            "Eval -  0.5709865196078431\n",
            "5\n",
            "Loss: 1.284907236099243; F1 measure: 0.5871484375\n",
            "Eval -  0.6118208741830065\n",
            "6\n",
            "Loss: 1.1527072668075562; F1 measure: 0.63078125\n",
            "Eval -  0.6231413398692811\n",
            "7\n",
            "Loss: 1.047612407207489; F1 measure: 0.6586328125\n",
            "Eval -  0.6239481209150326\n",
            "8\n",
            "Loss: 0.9339974129199982; F1 measure: 0.6971484375\n",
            "Eval -  0.6652113970588236\n",
            "9\n",
            "Loss: 0.8194198209047318; F1 measure: 0.745078125\n",
            "Eval -  0.694092116013072\n"
          ]
        },
        {
          "output_type": "display_data",
          "data": {
            "text/plain": [
              "<Figure size 432x288 with 1 Axes>"
            ],
            "image/png": "[encoded data removed]"
          },
          "metadata": {
            "needs_background": "light"
          }
        }
      ]
    },
    {
      "cell_type": "markdown",
      "source": [
        "Внезапно лучший результат получился здесь. Практически нет переобучения, и линия тренировочной выборки с валидационной довольно похожи. F1 мера тоже самая высокая здесь."
      ],
      "metadata": {
        "id": "Nm0svM8odHUS"
      },
      "id": "Nm0svM8odHUS"
    },
    {
      "cell_type": "markdown",
      "source": [
        "# ¯\\ _ (ツ)_/¯"
      ],
      "metadata": {
        "id": "ojc5zwkX81S5"
      },
      "id": "ojc5zwkX81S5"
    },
    {
      "cell_type": "markdown",
      "id": "ed5d6eea",
      "metadata": {
        "id": "ed5d6eea"
      },
      "source": [
        "## Задание 2 (6 баллов)\n"
      ]
    },
    {
      "cell_type": "markdown",
      "id": "5c2c07cf",
      "metadata": {
        "id": "5c2c07cf"
      },
      "source": [
        "На данных википедии (wikiann) обучите 2 модели:  \n",
        "1) модель в которой будут использованы предобученные эмбединги слов и несколько BILSTM слоев. \n",
        "1) модель в которой будут использованы предобученные эмбединги слов и несколько BIGRU слоев. \n",
        "\n",
        "Сравните качество по метрикам. Также придумайте несколько сложных примеров и проверьте, какие сущности определяет каждая из моделей."
      ]
    },
    {
      "cell_type": "code",
      "source": [
        "pip install datasets"
      ],
      "metadata": {
        "colab": {
          "base_uri": "https://localhost:8080/"
        },
        "id": "LMbS2QuPo1ZM",
        "outputId": "cbc9a79a-e11b-443f-f723-860510beb293"
      },
      "id": "LMbS2QuPo1ZM",
      "execution_count": 4,
      "outputs": [
        {
          "output_type": "stream",
          "name": "stdout",
          "text": [
            "Collecting datasets\n",
            "  Downloading datasets-2.2.2-py3-none-any.whl (346 kB)\n",
            "\u001b[?25l\r\u001b[K     |█                               | 10 kB 35.0 MB/s eta 0:00:01\r\u001b[K     |██                              | 20 kB 39.3 MB/s eta 0:00:01\r\u001b[K     |██▉                             | 30 kB 35.5 MB/s eta 0:00:01\r\u001b[K     |███▉                            | 40 kB 22.5 MB/s eta 0:00:01\r\u001b[K     |████▊                           | 51 kB 18.8 MB/s eta 0:00:01\r\u001b[K     |█████▊                          | 61 kB 21.7 MB/s eta 0:00:01\r\u001b[K     |██████▋                         | 71 kB 21.4 MB/s eta 0:00:01\r\u001b[K     |███████▋                        | 81 kB 21.4 MB/s eta 0:00:01\r\u001b[K     |████████▌                       | 92 kB 23.2 MB/s eta 0:00:01\r\u001b[K     |█████████▌                      | 102 kB 25.0 MB/s eta 0:00:01\r\u001b[K     |██████████▍                     | 112 kB 25.0 MB/s eta 0:00:01\r\u001b[K     |███████████▍                    | 122 kB 25.0 MB/s eta 0:00:01\r\u001b[K     |████████████▎                   | 133 kB 25.0 MB/s eta 0:00:01\r\u001b[K     |█████████████▎                  | 143 kB 25.0 MB/s eta 0:00:01\r\u001b[K     |██████████████▏                 | 153 kB 25.0 MB/s eta 0:00:01\r\u001b[K     |███████████████▏                | 163 kB 25.0 MB/s eta 0:00:01\r\u001b[K     |████████████████                | 174 kB 25.0 MB/s eta 0:00:01\r\u001b[K     |█████████████████               | 184 kB 25.0 MB/s eta 0:00:01\r\u001b[K     |██████████████████              | 194 kB 25.0 MB/s eta 0:00:01\r\u001b[K     |███████████████████             | 204 kB 25.0 MB/s eta 0:00:01\r\u001b[K     |███████████████████▉            | 215 kB 25.0 MB/s eta 0:00:01\r\u001b[K     |████████████████████▉           | 225 kB 25.0 MB/s eta 0:00:01\r\u001b[K     |█████████████████████▊          | 235 kB 25.0 MB/s eta 0:00:01\r\u001b[K     |██████████████████████▊         | 245 kB 25.0 MB/s eta 0:00:01\r\u001b[K     |███████████████████████▋        | 256 kB 25.0 MB/s eta 0:00:01\r\u001b[K     |████████████████████████▋       | 266 kB 25.0 MB/s eta 0:00:01\r\u001b[K     |█████████████████████████▌      | 276 kB 25.0 MB/s eta 0:00:01\r\u001b[K     |██████████████████████████▌     | 286 kB 25.0 MB/s eta 0:00:01\r\u001b[K     |███████████████████████████▍    | 296 kB 25.0 MB/s eta 0:00:01\r\u001b[K     |████████████████████████████▍   | 307 kB 25.0 MB/s eta 0:00:01\r\u001b[K     |█████████████████████████████▎  | 317 kB 25.0 MB/s eta 0:00:01\r\u001b[K     |██████████████████████████████▎ | 327 kB 25.0 MB/s eta 0:00:01\r\u001b[K     |███████████████████████████████▏| 337 kB 25.0 MB/s eta 0:00:01\r\u001b[K     |████████████████████████████████| 346 kB 25.0 MB/s \n",
            "\u001b[?25hRequirement already satisfied: pyarrow>=6.0.0 in /usr/local/lib/python3.7/dist-packages (from datasets) (6.0.1)\n",
            "Requirement already satisfied: multiprocess in /usr/local/lib/python3.7/dist-packages (from datasets) (0.70.12.2)\n",
            "Requirement already satisfied: packaging in /usr/local/lib/python3.7/dist-packages (from datasets) (21.3)\n",
            "Requirement already satisfied: dill<0.3.5 in /usr/local/lib/python3.7/dist-packages (from datasets) (0.3.4)\n",
            "Requirement already satisfied: tqdm>=4.62.1 in /usr/local/lib/python3.7/dist-packages (from datasets) (4.64.0)\n",
            "Collecting fsspec[http]>=2021.05.0\n",
            "  Downloading fsspec-2022.5.0-py3-none-any.whl (140 kB)\n",
            "\u001b[K     |████████████████████████████████| 140 kB 72.2 MB/s \n",
            "\u001b[?25hRequirement already satisfied: numpy>=1.17 in /usr/local/lib/python3.7/dist-packages (from datasets) (1.21.6)\n",
            "Requirement already satisfied: importlib-metadata in /usr/local/lib/python3.7/dist-packages (from datasets) (4.11.3)\n",
            "Requirement already satisfied: requests>=2.19.0 in /usr/local/lib/python3.7/dist-packages (from datasets) (2.23.0)\n",
            "Collecting xxhash\n",
            "  Downloading xxhash-3.0.0-cp37-cp37m-manylinux_2_17_x86_64.manylinux2014_x86_64.whl (212 kB)\n",
            "\u001b[K     |████████████████████████████████| 212 kB 62.4 MB/s \n",
            "\u001b[?25hCollecting huggingface-hub<1.0.0,>=0.1.0\n",
            "  Downloading huggingface_hub-0.6.0-py3-none-any.whl (84 kB)\n",
            "\u001b[K     |████████████████████████████████| 84 kB 3.5 MB/s \n",
            "\u001b[?25hCollecting responses<0.19\n",
            "  Downloading responses-0.18.0-py3-none-any.whl (38 kB)\n",
            "Requirement already satisfied: pandas in /usr/local/lib/python3.7/dist-packages (from datasets) (1.3.5)\n",
            "Collecting aiohttp\n",
            "  Downloading aiohttp-3.8.1-cp37-cp37m-manylinux_2_5_x86_64.manylinux1_x86_64.manylinux_2_12_x86_64.manylinux2010_x86_64.whl (1.1 MB)\n",
            "\u001b[K     |████████████████████████████████| 1.1 MB 68.0 MB/s \n",
            "\u001b[?25hRequirement already satisfied: typing-extensions>=3.7.4.3 in /usr/local/lib/python3.7/dist-packages (from huggingface-hub<1.0.0,>=0.1.0->datasets) (4.2.0)\n",
            "Requirement already satisfied: pyyaml in /usr/local/lib/python3.7/dist-packages (from huggingface-hub<1.0.0,>=0.1.0->datasets) (3.13)\n",
            "Requirement already satisfied: filelock in /usr/local/lib/python3.7/dist-packages (from huggingface-hub<1.0.0,>=0.1.0->datasets) (3.7.0)\n",
            "Requirement already satisfied: pyparsing!=3.0.5,>=2.0.2 in /usr/local/lib/python3.7/dist-packages (from packaging->datasets) (3.0.9)\n",
            "Requirement already satisfied: certifi>=2017.4.17 in /usr/local/lib/python3.7/dist-packages (from requests>=2.19.0->datasets) (2021.10.8)\n",
            "Requirement already satisfied: idna<3,>=2.5 in /usr/local/lib/python3.7/dist-packages (from requests>=2.19.0->datasets) (2.10)\n",
            "Requirement already satisfied: urllib3!=1.25.0,!=1.25.1,<1.26,>=1.21.1 in /usr/local/lib/python3.7/dist-packages (from requests>=2.19.0->datasets) (1.24.3)\n",
            "Requirement already satisfied: chardet<4,>=3.0.2 in /usr/local/lib/python3.7/dist-packages (from requests>=2.19.0->datasets) (3.0.4)\n",
            "Collecting urllib3!=1.25.0,!=1.25.1,<1.26,>=1.21.1\n",
            "  Downloading urllib3-1.25.11-py2.py3-none-any.whl (127 kB)\n",
            "\u001b[K     |████████████████████████████████| 127 kB 75.4 MB/s \n",
            "\u001b[?25hCollecting yarl<2.0,>=1.0\n",
            "  Downloading yarl-1.7.2-cp37-cp37m-manylinux_2_5_x86_64.manylinux1_x86_64.manylinux_2_12_x86_64.manylinux2010_x86_64.whl (271 kB)\n",
            "\u001b[K     |████████████████████████████████| 271 kB 61.9 MB/s \n",
            "\u001b[?25hCollecting async-timeout<5.0,>=4.0.0a3\n",
            "  Downloading async_timeout-4.0.2-py3-none-any.whl (5.8 kB)\n",
            "Collecting asynctest==0.13.0\n",
            "  Downloading asynctest-0.13.0-py3-none-any.whl (26 kB)\n",
            "Requirement already satisfied: charset-normalizer<3.0,>=2.0 in /usr/local/lib/python3.7/dist-packages (from aiohttp->datasets) (2.0.12)\n",
            "Collecting aiosignal>=1.1.2\n",
            "  Downloading aiosignal-1.2.0-py3-none-any.whl (8.2 kB)\n",
            "Collecting frozenlist>=1.1.1\n",
            "  Downloading frozenlist-1.3.0-cp37-cp37m-manylinux_2_5_x86_64.manylinux1_x86_64.manylinux_2_17_x86_64.manylinux2014_x86_64.whl (144 kB)\n",
            "\u001b[K     |████████████████████████████████| 144 kB 72.2 MB/s \n",
            "\u001b[?25hRequirement already satisfied: attrs>=17.3.0 in /usr/local/lib/python3.7/dist-packages (from aiohttp->datasets) (21.4.0)\n",
            "Collecting multidict<7.0,>=4.5\n",
            "  Downloading multidict-6.0.2-cp37-cp37m-manylinux_2_17_x86_64.manylinux2014_x86_64.whl (94 kB)\n",
            "\u001b[K     |████████████████████████████████| 94 kB 3.8 MB/s \n",
            "\u001b[?25hRequirement already satisfied: zipp>=0.5 in /usr/local/lib/python3.7/dist-packages (from importlib-metadata->datasets) (3.8.0)\n",
            "Requirement already satisfied: pytz>=2017.3 in /usr/local/lib/python3.7/dist-packages (from pandas->datasets) (2022.1)\n",
            "Requirement already satisfied: python-dateutil>=2.7.3 in /usr/local/lib/python3.7/dist-packages (from pandas->datasets) (2.8.2)\n",
            "Requirement already satisfied: six>=1.5 in /usr/local/lib/python3.7/dist-packages (from python-dateutil>=2.7.3->pandas->datasets) (1.15.0)\n",
            "Installing collected packages: multidict, frozenlist, yarl, urllib3, asynctest, async-timeout, aiosignal, fsspec, aiohttp, xxhash, responses, huggingface-hub, datasets\n",
            "  Attempting uninstall: urllib3\n",
            "    Found existing installation: urllib3 1.24.3\n",
            "    Uninstalling urllib3-1.24.3:\n",
            "      Successfully uninstalled urllib3-1.24.3\n",
            "\u001b[31mERROR: pip's dependency resolver does not currently take into account all the packages that are installed. This behaviour is the source of the following dependency conflicts.\n",
            "datascience 0.10.6 requires folium==0.2.1, but you have folium 0.8.3 which is incompatible.\u001b[0m\n",
            "Successfully installed aiohttp-3.8.1 aiosignal-1.2.0 async-timeout-4.0.2 asynctest-0.13.0 datasets-2.2.2 frozenlist-1.3.0 fsspec-2022.5.0 huggingface-hub-0.6.0 multidict-6.0.2 responses-0.18.0 urllib3-1.25.11 xxhash-3.0.0 yarl-1.7.2\n"
          ]
        }
      ]
    },
    {
      "cell_type": "code",
      "execution_count": 5,
      "id": "fb704b1b",
      "metadata": {
        "id": "fb704b1b"
      },
      "outputs": [],
      "source": [
        "from datasets import load_dataset"
      ]
    },
    {
      "cell_type": "code",
      "execution_count": 6,
      "id": "24b4e4aa",
      "metadata": {
        "id": "24b4e4aa",
        "colab": {
          "base_uri": "https://localhost:8080/",
          "height": 200,
          "referenced_widgets": [
            "f13a1c3f0cb04cd58a06fda696c0326a",
            "e230ab17faff498aa29a1fff7b312794",
            "4e79b5b0a55b4ce89f6d580ac89656e2",
            "e4f5c33548ad49099eb957caf8a08b57",
            "2f71af98d1f24093976727f8b8cccb94",
            "c8c18522358f474889e6e86682aefb2e",
            "9ce0990de9e44325b002f463238fb3d2",
            "6a04be08d34e48fe97193e479ba4a064",
            "4af665f7ef4645f2bdf08a1f0bfa66b8",
            "4c198922c17a49378605c1e4b859ed7c",
            "6694fac5c31b452b8136086542b4ae24",
            "dea35e815b4e448ea8901cdea18d7cfd",
            "f37d6ab854c44f38bafd5d499f3ab31b",
            "d2bb9a1899554c5b83c0fa75732f26e1",
            "3ca4c5e3725e43879eb7975bf7dc78ec",
            "8748acb2822b454eb313c59973bdb2de",
            "3e79fd10203b45e4b31e4b60663aeb61",
            "1afa65aa042e47cfaa80f2fda09ef951",
            "7deab219a1914ae6af5491a66c1cd363",
            "a6d989d462be4ea88c3789db05ab71a0",
            "1b61e030d4314191955c60f677a0c31a",
            "2afbb5654e544d4d9400b33b48a47ab4",
            "4383e443c201466ebd06921d22f8c117",
            "7e62ecf8fe6c4a6f8278ec9eba8dad10",
            "da2516c47bb94063972e0550a922b1f7",
            "e96a3e75d10840b29235855cca0a6c60",
            "c530ac7e55984dfaa5c8b0b0e5e4fdc8",
            "adabbde0e2c441b8bad7c259c300393a",
            "9985c91c111b4d5aaf474eba69b0e439",
            "4c79e07a84b34c52ac370c45618e5608",
            "8a6e047fcfde45c192b9bdb231c5c5c4",
            "2470a942355a4e30940b5d693f91ecc1",
            "1761e9e6d3f84fa589c54a8fc7fc1ea0",
            "05e2bd5a28f24b74a6cb76f3709dda4f",
            "92e90ded748d45bb801d697a5ad3d4e2",
            "d9f0ac98c5794e00b6241f5a78c8270d",
            "b6643881b4a040918ae6d46b8782a9b8",
            "3ab71e17f6c34e04a59aaadf7c7a053a",
            "d5c9b91d79364ad88cc4f3d97ef78da6",
            "58a6b82de8e347feadfe0776e32ccb75",
            "4e5783111e454899a27a678d54635dd5",
            "5604551475a245a7b1791ca4a1b4ffda",
            "d92211a37a4743fbb99e18b2987eb375",
            "0469ff3dfbc445a5b8a415d3201c610c",
            "0473aa2bbab24149ad5c6a7b6218bebe",
            "5e97e51a8e4b476d930428dc5cff0764",
            "4f577cd7906f4569bfebb65b0515613b",
            "9eba53db515945f7a40f301c7a8cef97",
            "17312f05fa1d4dad8b1c10203c9fec39",
            "9ce506886c904d7d8c9c0084575003a5",
            "ea5e5412b60d4431ba4eb1b2565e02cd",
            "785fb287bebc425cbf4b726bc9136d0a",
            "25dcc763a0b6495591af62bbfb7d5895",
            "9e82cc9ca2364ce7b5c1be1239f2c5f8",
            "6f0dbd9613a84bbe910d8160d62efce1",
            "e8e4a8887eee48ff91499177e189da40",
            "6403b4e2390548a0860951d91d07b6ee",
            "f956e1623c7247e3a7d8a1c3ae32c7f0",
            "743fc75feedb475a84f5b114df0ba296",
            "cbd3e92950a4435191644297518b5601",
            "e1093c30c3d64382807951a66e15220e",
            "ba8ec732a0f74373aee013ba9150a96f",
            "91995553c9b04fb49db4d4b9eb160e76",
            "359f8416404f44d1bec34cb00945779b",
            "6831290b2e29462980598214043c0f90",
            "e590509a9c92427c8442b19926f8bc90",
            "ab89935f01a54358aba6f88d079daefb",
            "b669e8e0f1964d22830d76259f945b7c",
            "bf620fa3ce7d43d5a7b3e1d891679576",
            "72c0aae7f7174652aa8c6a7feb1611ac",
            "890b1a649e414bf89de080a855907230",
            "7da8a7fbf1fd40828cfb37f2e914b7b5",
            "776b473395264359a88c66acbeb4b1c6",
            "85fc179ac57f4ca0a91dade572435877",
            "a8df1a9118264dfd99fdc08c00e4765c",
            "40bc1f51f2634d5dbe815822b64b72f6",
            "daff2c067fdf424d9e0a55f334a1c2c8"
          ]
        },
        "outputId": "f0535404-eb7c-4046-f546-fb98123d6768"
      },
      "outputs": [
        {
          "output_type": "display_data",
          "data": {
            "text/plain": [
              "Downloading builder script:   0%|          | 0.00/3.94k [00:00<?, ?B/s]"
            ],
            "application/vnd.jupyter.widget-view+json": {
              "version_major": 2,
              "version_minor": 0,
              "model_id": "f13a1c3f0cb04cd58a06fda696c0326a"
            }
          },
          "metadata": {}
        },
        {
          "output_type": "display_data",
          "data": {
            "text/plain": [
              "Downloading metadata:   0%|          | 0.00/12.6k [00:00<?, ?B/s]"
            ],
            "application/vnd.jupyter.widget-view+json": {
              "version_major": 2,
              "version_minor": 0,
              "model_id": "dea35e815b4e448ea8901cdea18d7cfd"
            }
          },
          "metadata": {}
        },
        {
          "output_type": "stream",
          "name": "stdout",
          "text": [
            "Downloading and preparing dataset wikiann/ru (download: 223.17 MiB, generated: 9.87 MiB, post-processed: Unknown size, total: 233.04 MiB) to /root/.cache/huggingface/datasets/wikiann/ru/1.1.0/4bfd4fe4468ab78bb6e096968f61fab7a888f44f9d3371c2f3fea7e74a5a354e...\n"
          ]
        },
        {
          "output_type": "display_data",
          "data": {
            "text/plain": [
              "Downloading data:   0%|          | 0.00/234M [00:00<?, ?B/s]"
            ],
            "application/vnd.jupyter.widget-view+json": {
              "version_major": 2,
              "version_minor": 0,
              "model_id": "4383e443c201466ebd06921d22f8c117"
            }
          },
          "metadata": {}
        },
        {
          "output_type": "display_data",
          "data": {
            "text/plain": [
              "Generating validation split:   0%|          | 0/10000 [00:00<?, ? examples/s]"
            ],
            "application/vnd.jupyter.widget-view+json": {
              "version_major": 2,
              "version_minor": 0,
              "model_id": "05e2bd5a28f24b74a6cb76f3709dda4f"
            }
          },
          "metadata": {}
        },
        {
          "output_type": "display_data",
          "data": {
            "text/plain": [
              "Generating test split:   0%|          | 0/10000 [00:00<?, ? examples/s]"
            ],
            "application/vnd.jupyter.widget-view+json": {
              "version_major": 2,
              "version_minor": 0,
              "model_id": "0473aa2bbab24149ad5c6a7b6218bebe"
            }
          },
          "metadata": {}
        },
        {
          "output_type": "display_data",
          "data": {
            "text/plain": [
              "Generating train split:   0%|          | 0/20000 [00:00<?, ? examples/s]"
            ],
            "application/vnd.jupyter.widget-view+json": {
              "version_major": 2,
              "version_minor": 0,
              "model_id": "e8e4a8887eee48ff91499177e189da40"
            }
          },
          "metadata": {}
        },
        {
          "output_type": "stream",
          "name": "stdout",
          "text": [
            "Dataset wikiann downloaded and prepared to /root/.cache/huggingface/datasets/wikiann/ru/1.1.0/4bfd4fe4468ab78bb6e096968f61fab7a888f44f9d3371c2f3fea7e74a5a354e. Subsequent calls will reuse this data.\n"
          ]
        },
        {
          "output_type": "display_data",
          "data": {
            "text/plain": [
              "  0%|          | 0/3 [00:00<?, ?it/s]"
            ],
            "application/vnd.jupyter.widget-view+json": {
              "version_major": 2,
              "version_minor": 0,
              "model_id": "ab89935f01a54358aba6f88d079daefb"
            }
          },
          "metadata": {}
        }
      ],
      "source": [
        "data = load_dataset('wikiann', 'ru')"
      ]
    },
    {
      "cell_type": "code",
      "execution_count": 7,
      "id": "8035db14",
      "metadata": {
        "id": "8035db14",
        "colab": {
          "base_uri": "https://localhost:8080/"
        },
        "outputId": "05bb6be4-e764-46da-db2f-99c8616503db"
      },
      "outputs": [
        {
          "output_type": "execute_result",
          "data": {
            "text/plain": [
              "DatasetDict({\n",
              "    validation: Dataset({\n",
              "        features: ['tokens', 'ner_tags', 'langs', 'spans'],\n",
              "        num_rows: 10000\n",
              "    })\n",
              "    test: Dataset({\n",
              "        features: ['tokens', 'ner_tags', 'langs', 'spans'],\n",
              "        num_rows: 10000\n",
              "    })\n",
              "    train: Dataset({\n",
              "        features: ['tokens', 'ner_tags', 'langs', 'spans'],\n",
              "        num_rows: 20000\n",
              "    })\n",
              "})"
            ]
          },
          "metadata": {},
          "execution_count": 7
        }
      ],
      "source": [
        "data"
      ]
    },
    {
      "cell_type": "code",
      "source": [
        "vocab = Counter()\n",
        "\n",
        "for text in data['train']['tokens']:\n",
        "    vocab.update([x.lower() for x in text])\n",
        "\n",
        "for text in data['validation']['tokens']:\n",
        "    vocab.update([x.lower() for x in text])\n",
        "\n",
        "for text in data['test']['tokens']:\n",
        "    vocab.update([x.lower() for x in text])"
      ],
      "metadata": {
        "id": "3O4_t_cSGMM4"
      },
      "id": "3O4_t_cSGMM4",
      "execution_count": 8,
      "outputs": []
    },
    {
      "cell_type": "code",
      "source": [
        "len(vocab)"
      ],
      "metadata": {
        "colab": {
          "base_uri": "https://localhost:8080/"
        },
        "id": "wAsSqqUp0ZE_",
        "outputId": "a974fee2-aa63-45b8-e2aa-4da469804e4e"
      },
      "id": "wAsSqqUp0ZE_",
      "execution_count": 9,
      "outputs": [
        {
          "output_type": "execute_result",
          "data": {
            "text/plain": [
              "59524"
            ]
          },
          "metadata": {},
          "execution_count": 9
        }
      ]
    },
    {
      "cell_type": "code",
      "source": [
        "word2id = {'PAD':0}\n",
        "\n",
        "for word in vocab:\n",
        "    word2id[word] = len(word2id)"
      ],
      "metadata": {
        "id": "t16rT0bRGXqP"
      },
      "id": "t16rT0bRGXqP",
      "execution_count": 10,
      "outputs": []
    },
    {
      "cell_type": "code",
      "source": [
        "id2word = {i:word for word, i in word2id.items()}"
      ],
      "metadata": {
        "id": "VCedN2MHHxzB"
      },
      "id": "VCedN2MHHxzB",
      "execution_count": 11,
      "outputs": []
    },
    {
      "cell_type": "code",
      "source": [
        ""
      ],
      "metadata": {
        "id": "JxLgHsTgq4gD"
      },
      "id": "JxLgHsTgq4gD",
      "execution_count": 11,
      "outputs": []
    },
    {
      "cell_type": "code",
      "source": [
        ""
      ],
      "metadata": {
        "id": "Z3BBp3Zdq4Rj"
      },
      "id": "Z3BBp3Zdq4Rj",
      "execution_count": 11,
      "outputs": []
    },
    {
      "cell_type": "code",
      "source": [
        ""
      ],
      "metadata": {
        "id": "D3jRnhEDq5xU"
      },
      "id": "D3jRnhEDq5xU",
      "execution_count": 11,
      "outputs": []
    },
    {
      "cell_type": "code",
      "source": [
        ""
      ],
      "metadata": {
        "id": "0XQ_YniIq1tv"
      },
      "id": "0XQ_YniIq1tv",
      "execution_count": 11,
      "outputs": []
    },
    {
      "cell_type": "code",
      "source": [
        "tags = set()\n",
        "for seq in data['train']['ner_tags']:\n",
        "    tags.update(seq)\n",
        "\n",
        "label2id = {'PAD':0}\n",
        "for tag in tags:\n",
        "    label2id[tag] = len(label2id)\n",
        "\n",
        "    \n",
        "id2label = {i:l for l, i in label2id.items()}\n",
        "tags = [id2label[i] for i in range(len(label2id))]"
      ],
      "metadata": {
        "id": "xbMPrYgQp6-W"
      },
      "id": "xbMPrYgQp6-W",
      "execution_count": 12,
      "outputs": []
    },
    {
      "cell_type": "code",
      "source": [
        "MAX_LEN = max(len(s) for s in data['train']['tokens'])"
      ],
      "metadata": {
        "id": "fGuPypFgqtEE"
      },
      "id": "fGuPypFgqtEE",
      "execution_count": 13,
      "outputs": []
    },
    {
      "cell_type": "code",
      "source": [
        "MAX_LEN"
      ],
      "metadata": {
        "colab": {
          "base_uri": "https://localhost:8080/"
        },
        "id": "fBhWeosaq9Cd",
        "outputId": "23f84e00-e487-4ce7-c66a-a70f18402fe5"
      },
      "id": "fBhWeosaq9Cd",
      "execution_count": 14,
      "outputs": [
        {
          "output_type": "execute_result",
          "data": {
            "text/plain": [
              "54"
            ]
          },
          "metadata": {},
          "execution_count": 14
        }
      ]
    },
    {
      "cell_type": "code",
      "source": [
        "class Dataset(torch.utils.data.Dataset):\n",
        "\n",
        "    def __init__(self, word2id, label2id, MAX_LEN, texts, labels):\n",
        "        \n",
        "        self.texts = [torch.LongTensor([word2id[w.lower()] for w in t][:MAX_LEN]) for t in texts]\n",
        "        self.texts = torch.nn.utils.rnn.pad_sequence(self.texts, batch_first=True)\n",
        "        self.targets = [torch.LongTensor([label2id[l] for l in seq][:MAX_LEN]) for seq in labels]\n",
        "        self.targets = torch.nn.utils.rnn.pad_sequence(self.targets, batch_first=True)\n",
        "        \n",
        "        self.word2id = word2id\n",
        "        self.label2id = label2id\n",
        "        self.MAX_LEN = MAX_LEN\n",
        "        self.length = len(texts)\n",
        "    \n",
        "    def __len__(self):\n",
        "        return self.length\n",
        "\n",
        "    def __getitem__(self, index):\n",
        "        ids = self.texts[index]\n",
        "        y = self.targets[index]\n",
        "\n",
        "        return ids, y\n",
        "    \n",
        "    def preprocess(self, text):\n",
        "        tokens = text.lower().split()\n",
        "        tokens = [token.strip(punctuation) for token in tokens]\n",
        "        tokens = [token for token in tokens if token]\n",
        "        return tokens\n"
      ],
      "metadata": {
        "id": "ssAqdZyZrA86"
      },
      "id": "ssAqdZyZrA86",
      "execution_count": 15,
      "outputs": []
    },
    {
      "cell_type": "code",
      "source": [
        "BATCH_SIZE = 256"
      ],
      "metadata": {
        "id": "cgFtjC3KrA1y"
      },
      "id": "cgFtjC3KrA1y",
      "execution_count": 16,
      "outputs": []
    },
    {
      "cell_type": "code",
      "source": [
        "train_texts = data['train']['tokens']\n",
        "valid_texts = data['validation']['tokens']\n",
        "train_labels = data['train']['ner_tags']\n",
        "valid_labels = data['validation']['ner_tags']"
      ],
      "metadata": {
        "id": "GtxFyzRSrc7r"
      },
      "id": "GtxFyzRSrc7r",
      "execution_count": 17,
      "outputs": []
    },
    {
      "cell_type": "code",
      "source": [
        "training_set = Dataset(word2id, label2id, MAX_LEN, train_texts, train_labels)\n",
        "training_generator = torch.utils.data.DataLoader(training_set, batch_size=BATCH_SIZE, shuffle=True, )"
      ],
      "metadata": {
        "id": "FHpwg6G4rc0Y"
      },
      "id": "FHpwg6G4rc0Y",
      "execution_count": 18,
      "outputs": []
    },
    {
      "cell_type": "code",
      "source": [
        "valid_set = Dataset(word2id, label2id, MAX_LEN, valid_texts, valid_labels)\n",
        "valid_generator = torch.utils.data.DataLoader(valid_set, batch_size=BATCH_SIZE, shuffle=True)"
      ],
      "metadata": {
        "id": "ffW63s9qrctO"
      },
      "id": "ffW63s9qrctO",
      "execution_count": 19,
      "outputs": []
    },
    {
      "cell_type": "code",
      "source": [
        "def train(model, iterator, optimizer, criterion, print_every=1000):\n",
        "    \n",
        "    epoch_loss = []\n",
        "    model.train()  \n",
        "\n",
        "    for i, (texts, ys) in enumerate(iterator):\n",
        "        \n",
        "        optimizer.zero_grad()   \n",
        "        predictions = model(texts.to(device))\n",
        "        loss = criterion(predictions.permute(0, 2, 1), ys.to(device))\n",
        "        \n",
        "        loss.backward()\n",
        "        optimizer.step()     \n",
        "        preds = predictions.detach().to('cpu').numpy().argmax(1).tolist()\n",
        "        y_true = ys.tolist()\n",
        "        \n",
        "        epoch_loss.append(loss.item())\n",
        "        \n",
        "        if not (i+1) % print_every:\n",
        "            print(f'Loss: {np.mean(epoch_loss)}')\n",
        "        \n",
        "    return np.mean(epoch_loss)\n",
        "\n",
        "\n",
        "def evaluate(model, iterator, criterion):\n",
        "    \n",
        "    epoch_loss = []\n",
        "\n",
        "    \n",
        "    model.eval()  \n",
        "    with torch.no_grad():\n",
        "        for texts, ys in iterator:   \n",
        "            \n",
        "            predictions = model(texts.to(device)).squeeze()  \n",
        "            loss = criterion(predictions.permute(0, 2, 1), ys.to(device))        \n",
        "            preds = predictions.detach().to('cpu').numpy().argmax(1).tolist()\n",
        "            y_true = ys.tolist()\n",
        "          \n",
        "            \n",
        "\n",
        "            epoch_loss.append(loss.item())\n",
        "            \n",
        "    return np.mean(epoch_loss)\n",
        "   "
      ],
      "metadata": {
        "id": "BRrpJOMirciu"
      },
      "id": "BRrpJOMirciu",
      "execution_count": 24,
      "outputs": []
    },
    {
      "cell_type": "code",
      "source": [
        "# функция для классификейшн репорта\n",
        "\n",
        "def evaluate_(model, iterator):\n",
        "    \n",
        "    #epoch_loss = []\n",
        "    preds_ = []\n",
        "    y_true_ = []\n",
        "    \n",
        "    model.eval()  \n",
        "    with torch.no_grad():\n",
        "        for texts, ys in iterator:   \n",
        "            \n",
        "            predictions = model(texts.to(device)).squeeze()      \n",
        "            preds = predictions.detach().to('cpu').exp().numpy().argmax(-1).tolist()\n",
        "            y_true = ys.tolist()\n",
        "            preds_.append(preds)\n",
        "            y_true_.append(y_true)\n",
        "            \n",
        "\n",
        "    return preds_, y_true_"
      ],
      "metadata": {
        "id": "L5gWuS1few4Q"
      },
      "id": "L5gWuS1few4Q",
      "execution_count": 74,
      "outputs": []
    },
    {
      "cell_type": "markdown",
      "source": [
        "### Модель без предобученных эмбеддингов"
      ],
      "metadata": {
        "id": "QCva1OmVx9Un"
      },
      "id": "QCva1OmVx9Un"
    },
    {
      "cell_type": "code",
      "source": [
        "class Clf_1(nn.Module):\n",
        "    \n",
        "    def __init__(self, output_dim):\n",
        "        \n",
        "        super().__init__()          \n",
        "        self.VOCAB_SIZE = len(word2id)\n",
        "        self.EMB_DIM = 100\n",
        "        self.LSTM_UNITS = 128\n",
        "        \n",
        "        \n",
        "        self.embedding = nn.Embedding(self.VOCAB_SIZE, self.EMB_DIM)\n",
        "        self.rnn = nn.LSTM(self.EMB_DIM, self.LSTM_UNITS, num_layers=3, bidirectional=True,\n",
        "                            batch_first=True) \n",
        "\n",
        "        \n",
        "        self.fc = nn.Linear(self.LSTM_UNITS*2,output_dim)\n",
        "        self.act = nn.LogSoftmax(2) \n",
        "        \n",
        "        \n",
        "    def forward(self, text):\n",
        "\n",
        "        embedded = self.embedding(text)\n",
        "        rnn_output, (h, *_) = self.rnn(embedded)\n",
        "        hidden = self.fc(rnn_output)\n",
        "        outputs=self.act(hidden)\n",
        "\n",
        "        return outputs\n",
        "\n",
        "\n",
        "device = torch.device('cuda' if torch.cuda.is_available() else 'cpu')  \n",
        "model = Clf_1(len(label2id))\n",
        "optimizer = optim.Adam(model.parameters(), lr=0.001)\n",
        "criterion = nn.NLLLoss() \n",
        "model = model.to(device)\n",
        "criterion = criterion.to(device)"
      ],
      "metadata": {
        "id": "JZYmFmNWrcTy"
      },
      "id": "JZYmFmNWrcTy",
      "execution_count": 26,
      "outputs": []
    },
    {
      "cell_type": "code",
      "source": [
        "losses = []\n",
        "losses_eval = []\n",
        "\n",
        "for i in range(10):\n",
        "    print(i)\n",
        "    losses.append(train(model, training_generator, optimizer, criterion, 30))\n",
        "    losses_eval.append(evaluate(model, valid_generator, criterion))"
      ],
      "metadata": {
        "colab": {
          "base_uri": "https://localhost:8080/"
        },
        "id": "3u9QUVzrrAoR",
        "outputId": "983d5602-dfab-4c97-c64b-f05e7e935dab"
      },
      "id": "3u9QUVzrrAoR",
      "execution_count": 27,
      "outputs": [
        {
          "output_type": "stream",
          "name": "stdout",
          "text": [
            "0\n",
            "Loss: 0.5085907027125358\n",
            "Loss: 0.35519709512591363\n",
            "1\n",
            "Loss: 0.15740079830090206\n",
            "Loss: 0.14887315804759663\n",
            "2\n",
            "Loss: 0.1165227822959423\n",
            "Loss: 0.11144593109687169\n",
            "3\n",
            "Loss: 0.08435073619087537\n",
            "Loss: 0.08005057536065578\n",
            "4\n",
            "Loss: 0.0614657711237669\n",
            "Loss: 0.05988193893184265\n",
            "5\n",
            "Loss: 0.048633808145920436\n",
            "Loss: 0.04765169142434995\n",
            "6\n",
            "Loss: 0.03765592413643996\n",
            "Loss: 0.0376977731163303\n",
            "7\n",
            "Loss: 0.030411065307756266\n",
            "Loss: 0.029572005694111187\n",
            "8\n",
            "Loss: 0.02316584965835015\n",
            "Loss: 0.023104074007521073\n",
            "9\n",
            "Loss: 0.017065872810781\n",
            "Loss: 0.01717985641832153\n"
          ]
        }
      ]
    },
    {
      "cell_type": "code",
      "source": [
        "preds, y_true = evaluate_(model, valid_generator)"
      ],
      "metadata": {
        "id": "1qzDkYemHYyx"
      },
      "id": "1qzDkYemHYyx",
      "execution_count": 76,
      "outputs": []
    },
    {
      "cell_type": "code",
      "source": [
        "from sklearn.metrics import classification_report"
      ],
      "metadata": {
        "id": "cC8TFppCJ-Gs"
      },
      "id": "cC8TFppCJ-Gs",
      "execution_count": 77,
      "outputs": []
    },
    {
      "cell_type": "code",
      "source": [
        "print(classification_report(np.vstack(y_true).reshape(-1), np.vstack(preds).reshape(-1)))"
      ],
      "metadata": {
        "colab": {
          "base_uri": "https://localhost:8080/"
        },
        "id": "HUxee3oph2um",
        "outputId": "6eda184c-c659-4a89-fc3f-5a4d8d5d4e03"
      },
      "id": "HUxee3oph2um",
      "execution_count": 78,
      "outputs": [
        {
          "output_type": "stream",
          "name": "stdout",
          "text": [
            "              precision    recall  f1-score   support\n",
            "\n",
            "           0       1.00      1.00      1.00    469728\n",
            "           1       0.93      0.93      0.93     39967\n",
            "           2       0.84      0.80      0.82      3590\n",
            "           3       0.89      0.88      0.89      7570\n",
            "           4       0.62      0.64      0.63      3891\n",
            "           5       0.72      0.79      0.75      7297\n",
            "           6       0.73      0.72      0.72      4851\n",
            "           7       0.76      0.67      0.71      3106\n",
            "\n",
            "    accuracy                           0.98    540000\n",
            "   macro avg       0.81      0.80      0.81    540000\n",
            "weighted avg       0.98      0.98      0.98    540000\n",
            "\n"
          ]
        }
      ]
    },
    {
      "cell_type": "markdown",
      "source": [
        "Получилось уже неплохо. Берем эмбеддинги."
      ],
      "metadata": {
        "id": "9NFa6AA4yDJo"
      },
      "id": "9NFa6AA4yDJo"
    },
    {
      "cell_type": "code",
      "source": [
        "pip install fasttext"
      ],
      "metadata": {
        "colab": {
          "base_uri": "https://localhost:8080/"
        },
        "id": "ccoUaE2tpWfJ",
        "outputId": "098c065a-9682-457c-d194-00a650fe9b11"
      },
      "id": "ccoUaE2tpWfJ",
      "execution_count": 80,
      "outputs": [
        {
          "output_type": "stream",
          "name": "stdout",
          "text": [
            "Collecting fasttext\n",
            "  Downloading fasttext-0.9.2.tar.gz (68 kB)\n",
            "\u001b[?25l\r\u001b[K     |████▊                           | 10 kB 37.0 MB/s eta 0:00:01\r\u001b[K     |█████████▌                      | 20 kB 42.3 MB/s eta 0:00:01\r\u001b[K     |██████████████▎                 | 30 kB 46.6 MB/s eta 0:00:01\r\u001b[K     |███████████████████             | 40 kB 33.6 MB/s eta 0:00:01\r\u001b[K     |███████████████████████▉        | 51 kB 32.8 MB/s eta 0:00:01\r\u001b[K     |████████████████████████████▋   | 61 kB 36.6 MB/s eta 0:00:01\r\u001b[K     |████████████████████████████████| 68 kB 8.0 MB/s \n",
            "\u001b[?25hCollecting pybind11>=2.2\n",
            "  Using cached pybind11-2.9.2-py2.py3-none-any.whl (213 kB)\n",
            "Requirement already satisfied: setuptools>=0.7.0 in /usr/local/lib/python3.7/dist-packages (from fasttext) (57.4.0)\n",
            "Requirement already satisfied: numpy in /usr/local/lib/python3.7/dist-packages (from fasttext) (1.21.6)\n",
            "Building wheels for collected packages: fasttext\n",
            "  Building wheel for fasttext (setup.py) ... \u001b[?25l\u001b[?25hdone\n",
            "  Created wheel for fasttext: filename=fasttext-0.9.2-cp37-cp37m-linux_x86_64.whl size=3148409 sha256=f018e0f4e5990cf6ff939653331f80090343fce9dae0425ad700e3cda866d840\n",
            "  Stored in directory: /root/.cache/pip/wheels/4e/ca/bf/b020d2be95f7641801a6597a29c8f4f19e38f9c02a345bab9b\n",
            "Successfully built fasttext\n",
            "Installing collected packages: pybind11, fasttext\n",
            "Successfully installed fasttext-0.9.2 pybind11-2.9.2\n"
          ]
        }
      ]
    },
    {
      "cell_type": "code",
      "source": [
        "import fasttext.util"
      ],
      "metadata": {
        "id": "L67MO0vCu57W"
      },
      "id": "L67MO0vCu57W",
      "execution_count": 81,
      "outputs": []
    },
    {
      "cell_type": "code",
      "source": [
        "fasttext.util.download_model('ru')"
      ],
      "metadata": {
        "colab": {
          "base_uri": "https://localhost:8080/",
          "height": 71
        },
        "id": "6QgN4HRf5gP_",
        "outputId": "6ee2a2f9-5192-4935-92b2-888c5a22160f"
      },
      "id": "6QgN4HRf5gP_",
      "execution_count": 83,
      "outputs": [
        {
          "output_type": "stream",
          "name": "stdout",
          "text": [
            "Downloading https://dl.fbaipublicfiles.com/fasttext/vectors-crawl/cc.ru.300.bin.gz\n",
            "\n"
          ]
        },
        {
          "output_type": "execute_result",
          "data": {
            "text/plain": [
              "'cc.ru.300.bin'"
            ],
            "application/vnd.google.colaboratory.intrinsic+json": {
              "type": "string"
            }
          },
          "metadata": {},
          "execution_count": 83
        }
      ]
    },
    {
      "cell_type": "code",
      "source": [
        "ft = fasttext.load_model('cc.ru.300.bin')"
      ],
      "metadata": {
        "colab": {
          "base_uri": "https://localhost:8080/"
        },
        "id": "yr0eRZtZpiE9",
        "outputId": "abdfdc48-3d59-481e-d173-29bab7dcc366"
      },
      "id": "yr0eRZtZpiE9",
      "execution_count": 84,
      "outputs": [
        {
          "output_type": "stream",
          "name": "stderr",
          "text": [
            "Warning : `load_model` does not return WordVectorModel or SupervisedModel any more, but a `FastText` object which is very similar.\n"
          ]
        }
      ]
    },
    {
      "cell_type": "code",
      "source": [
        "weights = np.zeros((len(word2id), 300))\n",
        "\n",
        "for word, i in word2id.items():\n",
        "    if word == 'PAD':\n",
        "        continue\n",
        "    \n",
        "    try:\n",
        "        weights[i] = ft.get_word_vector(word)\n",
        "    \n",
        "    \n",
        "    except KeyError:\n",
        "        weights[i] = ft.get_word_vector('опрагпллирао')"
      ],
      "metadata": {
        "id": "GwhqEP3C5w4G"
      },
      "id": "GwhqEP3C5w4G",
      "execution_count": 85,
      "outputs": []
    },
    {
      "cell_type": "markdown",
      "source": [
        "### Pretrained embeddings + 3 BILSTM Layers"
      ],
      "metadata": {
        "id": "rgt8E5OVAK8j"
      },
      "id": "rgt8E5OVAK8j"
    },
    {
      "cell_type": "code",
      "source": [
        "class Clf_NER(nn.Module):\n",
        "    \n",
        "    def __init__(self, output_dim):\n",
        "        \n",
        "        super().__init__()          \n",
        "        self.VOCAB_SIZE = len(word2id)\n",
        "        self.EMB_DIM = 100\n",
        "        self.LSTM_UNITS = 128\n",
        "        \n",
        "        \n",
        "        self.embedding = nn.Embedding(self.VOCAB_SIZE, self.EMB_DIM)\n",
        "        self.embedding.from_pretrained(torch.tensor(weights), freeze=True)\n",
        "        self.rnn = nn.LSTM(self.EMB_DIM, self.LSTM_UNITS, num_layers=3, bidirectional=True,\n",
        "                            batch_first=True) \n",
        "\n",
        "        \n",
        "        self.fc = nn.Linear(self.LSTM_UNITS*2,output_dim)\n",
        "        self.act = nn.LogSoftmax(2) \n",
        "        \n",
        "        \n",
        "    def forward(self, text):\n",
        "\n",
        "        embedded = self.embedding(text)\n",
        "        rnn_output, (h, *_) = self.rnn(embedded)\n",
        "        hidden = self.fc(rnn_output)\n",
        "        outputs=self.act(hidden)\n",
        "\n",
        "        return outputs\n",
        "\n",
        "\n",
        "device = torch.device('cuda' if torch.cuda.is_available() else 'cpu')  \n",
        "model = Clf_NER(len(label2id))\n",
        "optimizer = optim.Adam(model.parameters(), lr=0.001)\n",
        "criterion = nn.NLLLoss() \n",
        "model = model.to(device)\n",
        "criterion = criterion.to(device)"
      ],
      "metadata": {
        "id": "Xl-_PgoZ7i7P"
      },
      "id": "Xl-_PgoZ7i7P",
      "execution_count": 86,
      "outputs": []
    },
    {
      "cell_type": "code",
      "source": [
        "losses = []\n",
        "losses_eval = []\n",
        "\n",
        "for i in range(10):\n",
        "    print(i)\n",
        "    losses.append(train(model, training_generator, optimizer, criterion, 30))\n",
        "    losses_eval.append(evaluate(model, valid_generator, criterion))"
      ],
      "metadata": {
        "colab": {
          "base_uri": "https://localhost:8080/"
        },
        "id": "L2CCLH4271FV",
        "outputId": "b7abcd10-db07-4d56-e590-bf6901538800"
      },
      "id": "L2CCLH4271FV",
      "execution_count": 87,
      "outputs": [
        {
          "output_type": "stream",
          "name": "stdout",
          "text": [
            "0\n",
            "Loss: 0.5060306519269944\n",
            "Loss: 0.35399831309914587\n",
            "1\n",
            "Loss: 0.15362345278263093\n",
            "Loss: 0.14615263727804026\n",
            "2\n",
            "Loss: 0.11779039179285368\n",
            "Loss: 0.1092203926295042\n",
            "3\n",
            "Loss: 0.08144937679171563\n",
            "Loss: 0.07891586249073347\n",
            "4\n",
            "Loss: 0.062016659726699196\n",
            "Loss: 0.06185525928934415\n",
            "5\n",
            "Loss: 0.05145336017012596\n",
            "Loss: 0.04978426868716876\n",
            "6\n",
            "Loss: 0.04039431338508924\n",
            "Loss: 0.0398798830807209\n",
            "7\n",
            "Loss: 0.03126350101083517\n",
            "Loss: 0.031552460975944996\n",
            "8\n",
            "Loss: 0.02495182380080223\n",
            "Loss: 0.02389958134541909\n",
            "9\n",
            "Loss: 0.018792898487299682\n",
            "Loss: 0.018114553422977527\n"
          ]
        }
      ]
    },
    {
      "cell_type": "code",
      "source": [
        "preds, y_true = evaluate_(model, valid_generator)"
      ],
      "metadata": {
        "id": "VpcqF_RHpMLP"
      },
      "id": "VpcqF_RHpMLP",
      "execution_count": 88,
      "outputs": []
    },
    {
      "cell_type": "code",
      "source": [
        "print(classification_report(np.vstack(y_true).reshape(-1), np.vstack(preds).reshape(-1)))"
      ],
      "metadata": {
        "colab": {
          "base_uri": "https://localhost:8080/"
        },
        "id": "POhuB6mUp2-F",
        "outputId": "ba07c862-8333-4e12-f08d-29ef445f2e9a"
      },
      "id": "POhuB6mUp2-F",
      "execution_count": 89,
      "outputs": [
        {
          "output_type": "stream",
          "name": "stdout",
          "text": [
            "              precision    recall  f1-score   support\n",
            "\n",
            "           0       1.00      1.00      1.00    469728\n",
            "           1       0.93      0.93      0.93     39967\n",
            "           2       0.86      0.81      0.83      3590\n",
            "           3       0.91      0.88      0.90      7570\n",
            "           4       0.66      0.59      0.62      3891\n",
            "           5       0.75      0.76      0.75      7297\n",
            "           6       0.68      0.77      0.72      4851\n",
            "           7       0.69      0.71      0.70      3106\n",
            "\n",
            "    accuracy                           0.98    540000\n",
            "   macro avg       0.81      0.81      0.81    540000\n",
            "weighted avg       0.98      0.98      0.98    540000\n",
            "\n"
          ]
        }
      ]
    },
    {
      "cell_type": "markdown",
      "source": [
        "С эмбеддингами получилось чуть лучше, чем без них."
      ],
      "metadata": {
        "id": "xvHc2XtEAT7E"
      },
      "id": "xvHc2XtEAT7E"
    },
    {
      "cell_type": "markdown",
      "source": [
        "### Pretrained embeddings + 3 BIGRU Layers"
      ],
      "metadata": {
        "id": "-qww1KKAAho8"
      },
      "id": "-qww1KKAAho8"
    },
    {
      "cell_type": "code",
      "source": [
        "class Clf_NER1(nn.Module):\n",
        "    \n",
        "    def __init__(self, output_dim):\n",
        "        \n",
        "        super().__init__()          \n",
        "        self.VOCAB_SIZE = len(word2id)\n",
        "        self.EMB_DIM = 100\n",
        "        self.RNN_UNITS = 128\n",
        "        \n",
        "        \n",
        "        self.embedding = nn.Embedding(self.VOCAB_SIZE, self.EMB_DIM)\n",
        "        self.embedding.from_pretrained(torch.tensor(weights), freeze=True)\n",
        "        self.rnn = nn.GRU(self.EMB_DIM, self.RNN_UNITS, num_layers=3, bidirectional=True,\n",
        "                            batch_first=True) \n",
        "\n",
        "        \n",
        "        self.fc = nn.Linear(self.RNN_UNITS*2,output_dim)\n",
        "        self.act = nn.LogSoftmax(2) \n",
        "        \n",
        "        \n",
        "    def forward(self, text):\n",
        "\n",
        "        embedded = self.embedding(text)\n",
        "        rnn_output, (h, *_) = self.rnn(embedded)\n",
        "        hidden = self.fc(rnn_output)\n",
        "        outputs=self.act(hidden)\n",
        "\n",
        "        return outputs\n",
        "\n",
        "\n",
        "device = torch.device('cuda' if torch.cuda.is_available() else 'cpu')  \n",
        "model = Clf_NER1(len(label2id))\n",
        "optimizer = optim.Adam(model.parameters(), lr=0.001)\n",
        "criterion = nn.NLLLoss() \n",
        "model = model.to(device)\n",
        "criterion = criterion.to(device)"
      ],
      "metadata": {
        "id": "wNbDCy2m7-LD"
      },
      "id": "wNbDCy2m7-LD",
      "execution_count": 90,
      "outputs": []
    },
    {
      "cell_type": "code",
      "source": [
        "losses = []\n",
        "losses_eval = []\n",
        "\n",
        "for i in range(10):\n",
        "    print(i)\n",
        "    losses.append(train(model, training_generator, optimizer, criterion, 30))\n",
        "    losses_eval.append(evaluate(model, valid_generator, criterion))"
      ],
      "metadata": {
        "colab": {
          "base_uri": "https://localhost:8080/"
        },
        "id": "Kz_l3jMNAi2r",
        "outputId": "3b21a6bf-a84a-402e-ea17-495f86f8285c"
      },
      "id": "Kz_l3jMNAi2r",
      "execution_count": 91,
      "outputs": [
        {
          "output_type": "stream",
          "name": "stdout",
          "text": [
            "0\n",
            "Loss: 0.3229008659720421\n",
            "Loss: 0.23870091065764426\n",
            "1\n",
            "Loss: 0.12306731740633646\n",
            "Loss: 0.11440419703722\n",
            "2\n",
            "Loss: 0.08614640310406685\n",
            "Loss: 0.08148945445815722\n",
            "3\n",
            "Loss: 0.06278864219784737\n",
            "Loss: 0.06271479601661364\n",
            "4\n",
            "Loss: 0.05155533278981845\n",
            "Loss: 0.05009308755397797\n",
            "5\n",
            "Loss: 0.041873448093732196\n",
            "Loss: 0.0405319563113153\n",
            "6\n",
            "Loss: 0.03323234456280867\n",
            "Loss: 0.032257254763195915\n",
            "7\n",
            "Loss: 0.025202795242269833\n",
            "Loss: 0.02470658269400398\n",
            "8\n",
            "Loss: 0.01992003063981732\n",
            "Loss: 0.018954713456332685\n",
            "9\n",
            "Loss: 0.014051747974008322\n",
            "Loss: 0.01399322496727109\n"
          ]
        }
      ]
    },
    {
      "cell_type": "code",
      "source": [
        "preds, y_true = evaluate_(model, valid_generator)"
      ],
      "metadata": {
        "id": "32XQR5_BqGJK"
      },
      "id": "32XQR5_BqGJK",
      "execution_count": 92,
      "outputs": []
    },
    {
      "cell_type": "code",
      "source": [
        "print(classification_report(np.vstack(y_true).reshape(-1), np.vstack(preds).reshape(-1)))"
      ],
      "metadata": {
        "colab": {
          "base_uri": "https://localhost:8080/"
        },
        "id": "JrxZKChaqJl0",
        "outputId": "ba83036e-94e3-4554-c57e-8e295b7b49db"
      },
      "id": "JrxZKChaqJl0",
      "execution_count": 93,
      "outputs": [
        {
          "output_type": "stream",
          "name": "stdout",
          "text": [
            "              precision    recall  f1-score   support\n",
            "\n",
            "           0       1.00      1.00      1.00    469728\n",
            "           1       0.92      0.94      0.93     39967\n",
            "           2       0.75      0.84      0.79      3590\n",
            "           3       0.85      0.91      0.88      7570\n",
            "           4       0.68      0.56      0.61      3891\n",
            "           5       0.78      0.74      0.76      7297\n",
            "           6       0.74      0.72      0.73      4851\n",
            "           7       0.77      0.70      0.73      3106\n",
            "\n",
            "    accuracy                           0.98    540000\n",
            "   macro avg       0.81      0.80      0.80    540000\n",
            "weighted avg       0.98      0.98      0.98    540000\n",
            "\n"
          ]
        }
      ]
    },
    {
      "cell_type": "markdown",
      "source": [
        "Еще небольшое улучшение."
      ],
      "metadata": {
        "id": "FIfKrX85BlFs"
      },
      "id": "FIfKrX85BlFs"
    }
  ],
  "metadata": {
    "kernelspec": {
      "display_name": "Python 3 (ipykernel)",
      "language": "python",
      "name": "python3"
    },
    "language_info": {
      "codemirror_mode": {
        "name": "ipython",
        "version": 3
      },
      "file_extension": ".py",
      "mimetype": "text/x-python",
      "name": "python",
      "nbconvert_exporter": "python",
      "pygments_lexer": "ipython3",
      "version": "3.8.12"
    },
    "colab": {
      "name": "RNN_homework8.ipynb",
      "provenance": [],
      "collapsed_sections": [],
      "include_colab_link": true
    },
    "accelerator": "GPU",
    "widgets": {
      "application/vnd.jupyter.widget-state+json": {
        "f13a1c3f0cb04cd58a06fda696c0326a": {
          "model_module": "@jupyter-widgets/controls",
          "model_name": "HBoxModel",
          "model_module_version": "1.5.0",
          "state": {
            "_dom_classes": [],
            "_model_module": "@jupyter-widgets/controls",
            "_model_module_version": "1.5.0",
            "_model_name": "HBoxModel",
            "_view_count": null,
            "_view_module": "@jupyter-widgets/controls",
            "_view_module_version": "1.5.0",
            "_view_name": "HBoxView",
            "box_style": "",
            "children": [
              "IPY_MODEL_e230ab17faff498aa29a1fff7b312794",
              "IPY_MODEL_4e79b5b0a55b4ce89f6d580ac89656e2",
              "IPY_MODEL_e4f5c33548ad49099eb957caf8a08b57"
            ],
            "layout": "IPY_MODEL_2f71af98d1f24093976727f8b8cccb94"
          }
        },
        "e230ab17faff498aa29a1fff7b312794": {
          "model_module": "@jupyter-widgets/controls",
          "model_name": "HTMLModel",
          "model_module_version": "1.5.0",
          "state": {
            "_dom_classes": [],
            "_model_module": "@jupyter-widgets/controls",
            "_model_module_version": "1.5.0",
            "_model_name": "HTMLModel",
            "_view_count": null,
            "_view_module": "@jupyter-widgets/controls",
            "_view_module_version": "1.5.0",
            "_view_name": "HTMLView",
            "description": "",
            "description_tooltip": null,
            "layout": "IPY_MODEL_c8c18522358f474889e6e86682aefb2e",
            "placeholder": "​",
            "style": "IPY_MODEL_9ce0990de9e44325b002f463238fb3d2",
            "value": "Downloading builder script: "
          }
        },
        "4e79b5b0a55b4ce89f6d580ac89656e2": {
          "model_module": "@jupyter-widgets/controls",
          "model_name": "FloatProgressModel",
          "model_module_version": "1.5.0",
          "state": {
            "_dom_classes": [],
            "_model_module": "@jupyter-widgets/controls",
            "_model_module_version": "1.5.0",
            "_model_name": "FloatProgressModel",
            "_view_count": null,
            "_view_module": "@jupyter-widgets/controls",
            "_view_module_version": "1.5.0",
            "_view_name": "ProgressView",
            "bar_style": "success",
            "description": "",
            "description_tooltip": null,
            "layout": "IPY_MODEL_6a04be08d34e48fe97193e479ba4a064",
            "max": 3937,
            "min": 0,
            "orientation": "horizontal",
            "style": "IPY_MODEL_4af665f7ef4645f2bdf08a1f0bfa66b8",
            "value": 3937
          }
        },
        "e4f5c33548ad49099eb957caf8a08b57": {
          "model_module": "@jupyter-widgets/controls",
          "model_name": "HTMLModel",
          "model_module_version": "1.5.0",
          "state": {
            "_dom_classes": [],
            "_model_module": "@jupyter-widgets/controls",
            "_model_module_version": "1.5.0",
            "_model_name": "HTMLModel",
            "_view_count": null,
            "_view_module": "@jupyter-widgets/controls",
            "_view_module_version": "1.5.0",
            "_view_name": "HTMLView",
            "description": "",
            "description_tooltip": null,
            "layout": "IPY_MODEL_4c198922c17a49378605c1e4b859ed7c",
            "placeholder": "​",
            "style": "IPY_MODEL_6694fac5c31b452b8136086542b4ae24",
            "value": " 11.6k/? [00:00&lt;00:00, 379kB/s]"
          }
        },
        "2f71af98d1f24093976727f8b8cccb94": {
          "model_module": "@jupyter-widgets/base",
          "model_name": "LayoutModel",
          "model_module_version": "1.2.0",
          "state": {
            "_model_module": "@jupyter-widgets/base",
            "_model_module_version": "1.2.0",
            "_model_name": "LayoutModel",
            "_view_count": null,
            "_view_module": "@jupyter-widgets/base",
            "_view_module_version": "1.2.0",
            "_view_name": "LayoutView",
            "align_content": null,
            "align_items": null,
            "align_self": null,
            "border": null,
            "bottom": null,
            "display": null,
            "flex": null,
            "flex_flow": null,
            "grid_area": null,
            "grid_auto_columns": null,
            "grid_auto_flow": null,
            "grid_auto_rows": null,
            "grid_column": null,
            "grid_gap": null,
            "grid_row": null,
            "grid_template_areas": null,
            "grid_template_columns": null,
            "grid_template_rows": null,
            "height": null,
            "justify_content": null,
            "justify_items": null,
            "left": null,
            "margin": null,
            "max_height": null,
            "max_width": null,
            "min_height": null,
            "min_width": null,
            "object_fit": null,
            "object_position": null,
            "order": null,
            "overflow": null,
            "overflow_x": null,
            "overflow_y": null,
            "padding": null,
            "right": null,
            "top": null,
            "visibility": null,
            "width": null
          }
        },
        "c8c18522358f474889e6e86682aefb2e": {
          "model_module": "@jupyter-widgets/base",
          "model_name": "LayoutModel",
          "model_module_version": "1.2.0",
          "state": {
            "_model_module": "@jupyter-widgets/base",
            "_model_module_version": "1.2.0",
            "_model_name": "LayoutModel",
            "_view_count": null,
            "_view_module": "@jupyter-widgets/base",
            "_view_module_version": "1.2.0",
            "_view_name": "LayoutView",
            "align_content": null,
            "align_items": null,
            "align_self": null,
            "border": null,
            "bottom": null,
            "display": null,
            "flex": null,
            "flex_flow": null,
            "grid_area": null,
            "grid_auto_columns": null,
            "grid_auto_flow": null,
            "grid_auto_rows": null,
            "grid_column": null,
            "grid_gap": null,
            "grid_row": null,
            "grid_template_areas": null,
            "grid_template_columns": null,
            "grid_template_rows": null,
            "height": null,
            "justify_content": null,
            "justify_items": null,
            "left": null,
            "margin": null,
            "max_height": null,
            "max_width": null,
            "min_height": null,
            "min_width": null,
            "object_fit": null,
            "object_position": null,
            "order": null,
            "overflow": null,
            "overflow_x": null,
            "overflow_y": null,
            "padding": null,
            "right": null,
            "top": null,
            "visibility": null,
            "width": null
          }
        },
        "9ce0990de9e44325b002f463238fb3d2": {
          "model_module": "@jupyter-widgets/controls",
          "model_name": "DescriptionStyleModel",
          "model_module_version": "1.5.0",
          "state": {
            "_model_module": "@jupyter-widgets/controls",
            "_model_module_version": "1.5.0",
            "_model_name": "DescriptionStyleModel",
            "_view_count": null,
            "_view_module": "@jupyter-widgets/base",
            "_view_module_version": "1.2.0",
            "_view_name": "StyleView",
            "description_width": ""
          }
        },
        "6a04be08d34e48fe97193e479ba4a064": {
          "model_module": "@jupyter-widgets/base",
          "model_name": "LayoutModel",
          "model_module_version": "1.2.0",
          "state": {
            "_model_module": "@jupyter-widgets/base",
            "_model_module_version": "1.2.0",
            "_model_name": "LayoutModel",
            "_view_count": null,
            "_view_module": "@jupyter-widgets/base",
            "_view_module_version": "1.2.0",
            "_view_name": "LayoutView",
            "align_content": null,
            "align_items": null,
            "align_self": null,
            "border": null,
            "bottom": null,
            "display": null,
            "flex": null,
            "flex_flow": null,
            "grid_area": null,
            "grid_auto_columns": null,
            "grid_auto_flow": null,
            "grid_auto_rows": null,
            "grid_column": null,
            "grid_gap": null,
            "grid_row": null,
            "grid_template_areas": null,
            "grid_template_columns": null,
            "grid_template_rows": null,
            "height": null,
            "justify_content": null,
            "justify_items": null,
            "left": null,
            "margin": null,
            "max_height": null,
            "max_width": null,
            "min_height": null,
            "min_width": null,
            "object_fit": null,
            "object_position": null,
            "order": null,
            "overflow": null,
            "overflow_x": null,
            "overflow_y": null,
            "padding": null,
            "right": null,
            "top": null,
            "visibility": null,
            "width": null
          }
        },
        "4af665f7ef4645f2bdf08a1f0bfa66b8": {
          "model_module": "@jupyter-widgets/controls",
          "model_name": "ProgressStyleModel",
          "model_module_version": "1.5.0",
          "state": {
            "_model_module": "@jupyter-widgets/controls",
            "_model_module_version": "1.5.0",
            "_model_name": "ProgressStyleModel",
            "_view_count": null,
            "_view_module": "@jupyter-widgets/base",
            "_view_module_version": "1.2.0",
            "_view_name": "StyleView",
            "bar_color": null,
            "description_width": ""
          }
        },
        "4c198922c17a49378605c1e4b859ed7c": {
          "model_module": "@jupyter-widgets/base",
          "model_name": "LayoutModel",
          "model_module_version": "1.2.0",
          "state": {
            "_model_module": "@jupyter-widgets/base",
            "_model_module_version": "1.2.0",
            "_model_name": "LayoutModel",
            "_view_count": null,
            "_view_module": "@jupyter-widgets/base",
            "_view_module_version": "1.2.0",
            "_view_name": "LayoutView",
            "align_content": null,
            "align_items": null,
            "align_self": null,
            "border": null,
            "bottom": null,
            "display": null,
            "flex": null,
            "flex_flow": null,
            "grid_area": null,
            "grid_auto_columns": null,
            "grid_auto_flow": null,
            "grid_auto_rows": null,
            "grid_column": null,
            "grid_gap": null,
            "grid_row": null,
            "grid_template_areas": null,
            "grid_template_columns": null,
            "grid_template_rows": null,
            "height": null,
            "justify_content": null,
            "justify_items": null,
            "left": null,
            "margin": null,
            "max_height": null,
            "max_width": null,
            "min_height": null,
            "min_width": null,
            "object_fit": null,
            "object_position": null,
            "order": null,
            "overflow": null,
            "overflow_x": null,
            "overflow_y": null,
            "padding": null,
            "right": null,
            "top": null,
            "visibility": null,
            "width": null
          }
        },
        "6694fac5c31b452b8136086542b4ae24": {
          "model_module": "@jupyter-widgets/controls",
          "model_name": "DescriptionStyleModel",
          "model_module_version": "1.5.0",
          "state": {
            "_model_module": "@jupyter-widgets/controls",
            "_model_module_version": "1.5.0",
            "_model_name": "DescriptionStyleModel",
            "_view_count": null,
            "_view_module": "@jupyter-widgets/base",
            "_view_module_version": "1.2.0",
            "_view_name": "StyleView",
            "description_width": ""
          }
        },
        "dea35e815b4e448ea8901cdea18d7cfd": {
          "model_module": "@jupyter-widgets/controls",
          "model_name": "HBoxModel",
          "model_module_version": "1.5.0",
          "state": {
            "_dom_classes": [],
            "_model_module": "@jupyter-widgets/controls",
            "_model_module_version": "1.5.0",
            "_model_name": "HBoxModel",
            "_view_count": null,
            "_view_module": "@jupyter-widgets/controls",
            "_view_module_version": "1.5.0",
            "_view_name": "HBoxView",
            "box_style": "",
            "children": [
              "IPY_MODEL_f37d6ab854c44f38bafd5d499f3ab31b",
              "IPY_MODEL_d2bb9a1899554c5b83c0fa75732f26e1",
              "IPY_MODEL_3ca4c5e3725e43879eb7975bf7dc78ec"
            ],
            "layout": "IPY_MODEL_8748acb2822b454eb313c59973bdb2de"
          }
        },
        "f37d6ab854c44f38bafd5d499f3ab31b": {
          "model_module": "@jupyter-widgets/controls",
          "model_name": "HTMLModel",
          "model_module_version": "1.5.0",
          "state": {
            "_dom_classes": [],
            "_model_module": "@jupyter-widgets/controls",
            "_model_module_version": "1.5.0",
            "_model_name": "HTMLModel",
            "_view_count": null,
            "_view_module": "@jupyter-widgets/controls",
            "_view_module_version": "1.5.0",
            "_view_name": "HTMLView",
            "description": "",
            "description_tooltip": null,
            "layout": "IPY_MODEL_3e79fd10203b45e4b31e4b60663aeb61",
            "placeholder": "​",
            "style": "IPY_MODEL_1afa65aa042e47cfaa80f2fda09ef951",
            "value": "Downloading metadata: "
          }
        },
        "d2bb9a1899554c5b83c0fa75732f26e1": {
          "model_module": "@jupyter-widgets/controls",
          "model_name": "FloatProgressModel",
          "model_module_version": "1.5.0",
          "state": {
            "_dom_classes": [],
            "_model_module": "@jupyter-widgets/controls",
            "_model_module_version": "1.5.0",
            "_model_name": "FloatProgressModel",
            "_view_count": null,
            "_view_module": "@jupyter-widgets/controls",
            "_view_module_version": "1.5.0",
            "_view_name": "ProgressView",
            "bar_style": "success",
            "description": "",
            "description_tooltip": null,
            "layout": "IPY_MODEL_7deab219a1914ae6af5491a66c1cd363",
            "max": 12617,
            "min": 0,
            "orientation": "horizontal",
            "style": "IPY_MODEL_a6d989d462be4ea88c3789db05ab71a0",
            "value": 12617
          }
        },
        "3ca4c5e3725e43879eb7975bf7dc78ec": {
          "model_module": "@jupyter-widgets/controls",
          "model_name": "HTMLModel",
          "model_module_version": "1.5.0",
          "state": {
            "_dom_classes": [],
            "_model_module": "@jupyter-widgets/controls",
            "_model_module_version": "1.5.0",
            "_model_name": "HTMLModel",
            "_view_count": null,
            "_view_module": "@jupyter-widgets/controls",
            "_view_module_version": "1.5.0",
            "_view_name": "HTMLView",
            "description": "",
            "description_tooltip": null,
            "layout": "IPY_MODEL_1b61e030d4314191955c60f677a0c31a",
            "placeholder": "​",
            "style": "IPY_MODEL_2afbb5654e544d4d9400b33b48a47ab4",
            "value": " 617k/? [00:00&lt;00:00, 15.0MB/s]"
          }
        },
        "8748acb2822b454eb313c59973bdb2de": {
          "model_module": "@jupyter-widgets/base",
          "model_name": "LayoutModel",
          "model_module_version": "1.2.0",
          "state": {
            "_model_module": "@jupyter-widgets/base",
            "_model_module_version": "1.2.0",
            "_model_name": "LayoutModel",
            "_view_count": null,
            "_view_module": "@jupyter-widgets/base",
            "_view_module_version": "1.2.0",
            "_view_name": "LayoutView",
            "align_content": null,
            "align_items": null,
            "align_self": null,
            "border": null,
            "bottom": null,
            "display": null,
            "flex": null,
            "flex_flow": null,
            "grid_area": null,
            "grid_auto_columns": null,
            "grid_auto_flow": null,
            "grid_auto_rows": null,
            "grid_column": null,
            "grid_gap": null,
            "grid_row": null,
            "grid_template_areas": null,
            "grid_template_columns": null,
            "grid_template_rows": null,
            "height": null,
            "justify_content": null,
            "justify_items": null,
            "left": null,
            "margin": null,
            "max_height": null,
            "max_width": null,
            "min_height": null,
            "min_width": null,
            "object_fit": null,
            "object_position": null,
            "order": null,
            "overflow": null,
            "overflow_x": null,
            "overflow_y": null,
            "padding": null,
            "right": null,
            "top": null,
            "visibility": null,
            "width": null
          }
        },
        "3e79fd10203b45e4b31e4b60663aeb61": {
          "model_module": "@jupyter-widgets/base",
          "model_name": "LayoutModel",
          "model_module_version": "1.2.0",
          "state": {
            "_model_module": "@jupyter-widgets/base",
            "_model_module_version": "1.2.0",
            "_model_name": "LayoutModel",
            "_view_count": null,
            "_view_module": "@jupyter-widgets/base",
            "_view_module_version": "1.2.0",
            "_view_name": "LayoutView",
            "align_content": null,
            "align_items": null,
            "align_self": null,
            "border": null,
            "bottom": null,
            "display": null,
            "flex": null,
            "flex_flow": null,
            "grid_area": null,
            "grid_auto_columns": null,
            "grid_auto_flow": null,
            "grid_auto_rows": null,
            "grid_column": null,
            "grid_gap": null,
            "grid_row": null,
            "grid_template_areas": null,
            "grid_template_columns": null,
            "grid_template_rows": null,
            "height": null,
            "justify_content": null,
            "justify_items": null,
            "left": null,
            "margin": null,
            "max_height": null,
            "max_width": null,
            "min_height": null,
            "min_width": null,
            "object_fit": null,
            "object_position": null,
            "order": null,
            "overflow": null,
            "overflow_x": null,
            "overflow_y": null,
            "padding": null,
            "right": null,
            "top": null,
            "visibility": null,
            "width": null
          }
        },
        "1afa65aa042e47cfaa80f2fda09ef951": {
          "model_module": "@jupyter-widgets/controls",
          "model_name": "DescriptionStyleModel",
          "model_module_version": "1.5.0",
          "state": {
            "_model_module": "@jupyter-widgets/controls",
            "_model_module_version": "1.5.0",
            "_model_name": "DescriptionStyleModel",
            "_view_count": null,
            "_view_module": "@jupyter-widgets/base",
            "_view_module_version": "1.2.0",
            "_view_name": "StyleView",
            "description_width": ""
          }
        },
        "7deab219a1914ae6af5491a66c1cd363": {
          "model_module": "@jupyter-widgets/base",
          "model_name": "LayoutModel",
          "model_module_version": "1.2.0",
          "state": {
            "_model_module": "@jupyter-widgets/base",
            "_model_module_version": "1.2.0",
            "_model_name": "LayoutModel",
            "_view_count": null,
            "_view_module": "@jupyter-widgets/base",
            "_view_module_version": "1.2.0",
            "_view_name": "LayoutView",
            "align_content": null,
            "align_items": null,
            "align_self": null,
            "border": null,
            "bottom": null,
            "display": null,
            "flex": null,
            "flex_flow": null,
            "grid_area": null,
            "grid_auto_columns": null,
            "grid_auto_flow": null,
            "grid_auto_rows": null,
            "grid_column": null,
            "grid_gap": null,
            "grid_row": null,
            "grid_template_areas": null,
            "grid_template_columns": null,
            "grid_template_rows": null,
            "height": null,
            "justify_content": null,
            "justify_items": null,
            "left": null,
            "margin": null,
            "max_height": null,
            "max_width": null,
            "min_height": null,
            "min_width": null,
            "object_fit": null,
            "object_position": null,
            "order": null,
            "overflow": null,
            "overflow_x": null,
            "overflow_y": null,
            "padding": null,
            "right": null,
            "top": null,
            "visibility": null,
            "width": null
          }
        },
        "a6d989d462be4ea88c3789db05ab71a0": {
          "model_module": "@jupyter-widgets/controls",
          "model_name": "ProgressStyleModel",
          "model_module_version": "1.5.0",
          "state": {
            "_model_module": "@jupyter-widgets/controls",
            "_model_module_version": "1.5.0",
            "_model_name": "ProgressStyleModel",
            "_view_count": null,
            "_view_module": "@jupyter-widgets/base",
            "_view_module_version": "1.2.0",
            "_view_name": "StyleView",
            "bar_color": null,
            "description_width": ""
          }
        },
        "1b61e030d4314191955c60f677a0c31a": {
          "model_module": "@jupyter-widgets/base",
          "model_name": "LayoutModel",
          "model_module_version": "1.2.0",
          "state": {
            "_model_module": "@jupyter-widgets/base",
            "_model_module_version": "1.2.0",
            "_model_name": "LayoutModel",
            "_view_count": null,
            "_view_module": "@jupyter-widgets/base",
            "_view_module_version": "1.2.0",
            "_view_name": "LayoutView",
            "align_content": null,
            "align_items": null,
            "align_self": null,
            "border": null,
            "bottom": null,
            "display": null,
            "flex": null,
            "flex_flow": null,
            "grid_area": null,
            "grid_auto_columns": null,
            "grid_auto_flow": null,
            "grid_auto_rows": null,
            "grid_column": null,
            "grid_gap": null,
            "grid_row": null,
            "grid_template_areas": null,
            "grid_template_columns": null,
            "grid_template_rows": null,
            "height": null,
            "justify_content": null,
            "justify_items": null,
            "left": null,
            "margin": null,
            "max_height": null,
            "max_width": null,
            "min_height": null,
            "min_width": null,
            "object_fit": null,
            "object_position": null,
            "order": null,
            "overflow": null,
            "overflow_x": null,
            "overflow_y": null,
            "padding": null,
            "right": null,
            "top": null,
            "visibility": null,
            "width": null
          }
        },
        "2afbb5654e544d4d9400b33b48a47ab4": {
          "model_module": "@jupyter-widgets/controls",
          "model_name": "DescriptionStyleModel",
          "model_module_version": "1.5.0",
          "state": {
            "_model_module": "@jupyter-widgets/controls",
            "_model_module_version": "1.5.0",
            "_model_name": "DescriptionStyleModel",
            "_view_count": null,
            "_view_module": "@jupyter-widgets/base",
            "_view_module_version": "1.2.0",
            "_view_name": "StyleView",
            "description_width": ""
          }
        },
        "4383e443c201466ebd06921d22f8c117": {
          "model_module": "@jupyter-widgets/controls",
          "model_name": "HBoxModel",
          "model_module_version": "1.5.0",
          "state": {
            "_dom_classes": [],
            "_model_module": "@jupyter-widgets/controls",
            "_model_module_version": "1.5.0",
            "_model_name": "HBoxModel",
            "_view_count": null,
            "_view_module": "@jupyter-widgets/controls",
            "_view_module_version": "1.5.0",
            "_view_name": "HBoxView",
            "box_style": "",
            "children": [
              "IPY_MODEL_7e62ecf8fe6c4a6f8278ec9eba8dad10",
              "IPY_MODEL_da2516c47bb94063972e0550a922b1f7",
              "IPY_MODEL_e96a3e75d10840b29235855cca0a6c60"
            ],
            "layout": "IPY_MODEL_c530ac7e55984dfaa5c8b0b0e5e4fdc8"
          }
        },
        "7e62ecf8fe6c4a6f8278ec9eba8dad10": {
          "model_module": "@jupyter-widgets/controls",
          "model_name": "HTMLModel",
          "model_module_version": "1.5.0",
          "state": {
            "_dom_classes": [],
            "_model_module": "@jupyter-widgets/controls",
            "_model_module_version": "1.5.0",
            "_model_name": "HTMLModel",
            "_view_count": null,
            "_view_module": "@jupyter-widgets/controls",
            "_view_module_version": "1.5.0",
            "_view_name": "HTMLView",
            "description": "",
            "description_tooltip": null,
            "layout": "IPY_MODEL_adabbde0e2c441b8bad7c259c300393a",
            "placeholder": "​",
            "style": "IPY_MODEL_9985c91c111b4d5aaf474eba69b0e439",
            "value": "Downloading data: 100%"
          }
        },
        "da2516c47bb94063972e0550a922b1f7": {
          "model_module": "@jupyter-widgets/controls",
          "model_name": "FloatProgressModel",
          "model_module_version": "1.5.0",
          "state": {
            "_dom_classes": [],
            "_model_module": "@jupyter-widgets/controls",
            "_model_module_version": "1.5.0",
            "_model_name": "FloatProgressModel",
            "_view_count": null,
            "_view_module": "@jupyter-widgets/controls",
            "_view_module_version": "1.5.0",
            "_view_name": "ProgressView",
            "bar_style": "success",
            "description": "",
            "description_tooltip": null,
            "layout": "IPY_MODEL_4c79e07a84b34c52ac370c45618e5608",
            "max": 234008884,
            "min": 0,
            "orientation": "horizontal",
            "style": "IPY_MODEL_8a6e047fcfde45c192b9bdb231c5c5c4",
            "value": 234008884
          }
        },
        "e96a3e75d10840b29235855cca0a6c60": {
          "model_module": "@jupyter-widgets/controls",
          "model_name": "HTMLModel",
          "model_module_version": "1.5.0",
          "state": {
            "_dom_classes": [],
            "_model_module": "@jupyter-widgets/controls",
            "_model_module_version": "1.5.0",
            "_model_name": "HTMLModel",
            "_view_count": null,
            "_view_module": "@jupyter-widgets/controls",
            "_view_module_version": "1.5.0",
            "_view_name": "HTMLView",
            "description": "",
            "description_tooltip": null,
            "layout": "IPY_MODEL_2470a942355a4e30940b5d693f91ecc1",
            "placeholder": "​",
            "style": "IPY_MODEL_1761e9e6d3f84fa589c54a8fc7fc1ea0",
            "value": " 234M/234M [00:21&lt;00:00, 13.8MB/s]"
          }
        },
        "c530ac7e55984dfaa5c8b0b0e5e4fdc8": {
          "model_module": "@jupyter-widgets/base",
          "model_name": "LayoutModel",
          "model_module_version": "1.2.0",
          "state": {
            "_model_module": "@jupyter-widgets/base",
            "_model_module_version": "1.2.0",
            "_model_name": "LayoutModel",
            "_view_count": null,
            "_view_module": "@jupyter-widgets/base",
            "_view_module_version": "1.2.0",
            "_view_name": "LayoutView",
            "align_content": null,
            "align_items": null,
            "align_self": null,
            "border": null,
            "bottom": null,
            "display": null,
            "flex": null,
            "flex_flow": null,
            "grid_area": null,
            "grid_auto_columns": null,
            "grid_auto_flow": null,
            "grid_auto_rows": null,
            "grid_column": null,
            "grid_gap": null,
            "grid_row": null,
            "grid_template_areas": null,
            "grid_template_columns": null,
            "grid_template_rows": null,
            "height": null,
            "justify_content": null,
            "justify_items": null,
            "left": null,
            "margin": null,
            "max_height": null,
            "max_width": null,
            "min_height": null,
            "min_width": null,
            "object_fit": null,
            "object_position": null,
            "order": null,
            "overflow": null,
            "overflow_x": null,
            "overflow_y": null,
            "padding": null,
            "right": null,
            "top": null,
            "visibility": null,
            "width": null
          }
        },
        "adabbde0e2c441b8bad7c259c300393a": {
          "model_module": "@jupyter-widgets/base",
          "model_name": "LayoutModel",
          "model_module_version": "1.2.0",
          "state": {
            "_model_module": "@jupyter-widgets/base",
            "_model_module_version": "1.2.0",
            "_model_name": "LayoutModel",
            "_view_count": null,
            "_view_module": "@jupyter-widgets/base",
            "_view_module_version": "1.2.0",
            "_view_name": "LayoutView",
            "align_content": null,
            "align_items": null,
            "align_self": null,
            "border": null,
            "bottom": null,
            "display": null,
            "flex": null,
            "flex_flow": null,
            "grid_area": null,
            "grid_auto_columns": null,
            "grid_auto_flow": null,
            "grid_auto_rows": null,
            "grid_column": null,
            "grid_gap": null,
            "grid_row": null,
            "grid_template_areas": null,
            "grid_template_columns": null,
            "grid_template_rows": null,
            "height": null,
            "justify_content": null,
            "justify_items": null,
            "left": null,
            "margin": null,
            "max_height": null,
            "max_width": null,
            "min_height": null,
            "min_width": null,
            "object_fit": null,
            "object_position": null,
            "order": null,
            "overflow": null,
            "overflow_x": null,
            "overflow_y": null,
            "padding": null,
            "right": null,
            "top": null,
            "visibility": null,
            "width": null
          }
        },
        "9985c91c111b4d5aaf474eba69b0e439": {
          "model_module": "@jupyter-widgets/controls",
          "model_name": "DescriptionStyleModel",
          "model_module_version": "1.5.0",
          "state": {
            "_model_module": "@jupyter-widgets/controls",
            "_model_module_version": "1.5.0",
            "_model_name": "DescriptionStyleModel",
            "_view_count": null,
            "_view_module": "@jupyter-widgets/base",
            "_view_module_version": "1.2.0",
            "_view_name": "StyleView",
            "description_width": ""
          }
        },
        "4c79e07a84b34c52ac370c45618e5608": {
          "model_module": "@jupyter-widgets/base",
          "model_name": "LayoutModel",
          "model_module_version": "1.2.0",
          "state": {
            "_model_module": "@jupyter-widgets/base",
            "_model_module_version": "1.2.0",
            "_model_name": "LayoutModel",
            "_view_count": null,
            "_view_module": "@jupyter-widgets/base",
            "_view_module_version": "1.2.0",
            "_view_name": "LayoutView",
            "align_content": null,
            "align_items": null,
            "align_self": null,
            "border": null,
            "bottom": null,
            "display": null,
            "flex": null,
            "flex_flow": null,
            "grid_area": null,
            "grid_auto_columns": null,
            "grid_auto_flow": null,
            "grid_auto_rows": null,
            "grid_column": null,
            "grid_gap": null,
            "grid_row": null,
            "grid_template_areas": null,
            "grid_template_columns": null,
            "grid_template_rows": null,
            "height": null,
            "justify_content": null,
            "justify_items": null,
            "left": null,
            "margin": null,
            "max_height": null,
            "max_width": null,
            "min_height": null,
            "min_width": null,
            "object_fit": null,
            "object_position": null,
            "order": null,
            "overflow": null,
            "overflow_x": null,
            "overflow_y": null,
            "padding": null,
            "right": null,
            "top": null,
            "visibility": null,
            "width": null
          }
        },
        "8a6e047fcfde45c192b9bdb231c5c5c4": {
          "model_module": "@jupyter-widgets/controls",
          "model_name": "ProgressStyleModel",
          "model_module_version": "1.5.0",
          "state": {
            "_model_module": "@jupyter-widgets/controls",
            "_model_module_version": "1.5.0",
            "_model_name": "ProgressStyleModel",
            "_view_count": null,
            "_view_module": "@jupyter-widgets/base",
            "_view_module_version": "1.2.0",
            "_view_name": "StyleView",
            "bar_color": null,
            "description_width": ""
          }
        },
        "2470a942355a4e30940b5d693f91ecc1": {
          "model_module": "@jupyter-widgets/base",
          "model_name": "LayoutModel",
          "model_module_version": "1.2.0",
          "state": {
            "_model_module": "@jupyter-widgets/base",
            "_model_module_version": "1.2.0",
            "_model_name": "LayoutModel",
            "_view_count": null,
            "_view_module": "@jupyter-widgets/base",
            "_view_module_version": "1.2.0",
            "_view_name": "LayoutView",
            "align_content": null,
            "align_items": null,
            "align_self": null,
            "border": null,
            "bottom": null,
            "display": null,
            "flex": null,
            "flex_flow": null,
            "grid_area": null,
            "grid_auto_columns": null,
            "grid_auto_flow": null,
            "grid_auto_rows": null,
            "grid_column": null,
            "grid_gap": null,
            "grid_row": null,
            "grid_template_areas": null,
            "grid_template_columns": null,
            "grid_template_rows": null,
            "height": null,
            "justify_content": null,
            "justify_items": null,
            "left": null,
            "margin": null,
            "max_height": null,
            "max_width": null,
            "min_height": null,
            "min_width": null,
            "object_fit": null,
            "object_position": null,
            "order": null,
            "overflow": null,
            "overflow_x": null,
            "overflow_y": null,
            "padding": null,
            "right": null,
            "top": null,
            "visibility": null,
            "width": null
          }
        },
        "1761e9e6d3f84fa589c54a8fc7fc1ea0": {
          "model_module": "@jupyter-widgets/controls",
          "model_name": "DescriptionStyleModel",
          "model_module_version": "1.5.0",
          "state": {
            "_model_module": "@jupyter-widgets/controls",
            "_model_module_version": "1.5.0",
            "_model_name": "DescriptionStyleModel",
            "_view_count": null,
            "_view_module": "@jupyter-widgets/base",
            "_view_module_version": "1.2.0",
            "_view_name": "StyleView",
            "description_width": ""
          }
        },
        "05e2bd5a28f24b74a6cb76f3709dda4f": {
          "model_module": "@jupyter-widgets/controls",
          "model_name": "HBoxModel",
          "model_module_version": "1.5.0",
          "state": {
            "_dom_classes": [],
            "_model_module": "@jupyter-widgets/controls",
            "_model_module_version": "1.5.0",
            "_model_name": "HBoxModel",
            "_view_count": null,
            "_view_module": "@jupyter-widgets/controls",
            "_view_module_version": "1.5.0",
            "_view_name": "HBoxView",
            "box_style": "",
            "children": [
              "IPY_MODEL_92e90ded748d45bb801d697a5ad3d4e2",
              "IPY_MODEL_d9f0ac98c5794e00b6241f5a78c8270d",
              "IPY_MODEL_b6643881b4a040918ae6d46b8782a9b8"
            ],
            "layout": "IPY_MODEL_3ab71e17f6c34e04a59aaadf7c7a053a"
          }
        },
        "92e90ded748d45bb801d697a5ad3d4e2": {
          "model_module": "@jupyter-widgets/controls",
          "model_name": "HTMLModel",
          "model_module_version": "1.5.0",
          "state": {
            "_dom_classes": [],
            "_model_module": "@jupyter-widgets/controls",
            "_model_module_version": "1.5.0",
            "_model_name": "HTMLModel",
            "_view_count": null,
            "_view_module": "@jupyter-widgets/controls",
            "_view_module_version": "1.5.0",
            "_view_name": "HTMLView",
            "description": "",
            "description_tooltip": null,
            "layout": "IPY_MODEL_d5c9b91d79364ad88cc4f3d97ef78da6",
            "placeholder": "​",
            "style": "IPY_MODEL_58a6b82de8e347feadfe0776e32ccb75",
            "value": "Generating validation split:  97%"
          }
        },
        "d9f0ac98c5794e00b6241f5a78c8270d": {
          "model_module": "@jupyter-widgets/controls",
          "model_name": "FloatProgressModel",
          "model_module_version": "1.5.0",
          "state": {
            "_dom_classes": [],
            "_model_module": "@jupyter-widgets/controls",
            "_model_module_version": "1.5.0",
            "_model_name": "FloatProgressModel",
            "_view_count": null,
            "_view_module": "@jupyter-widgets/controls",
            "_view_module_version": "1.5.0",
            "_view_name": "ProgressView",
            "bar_style": "",
            "description": "",
            "description_tooltip": null,
            "layout": "IPY_MODEL_4e5783111e454899a27a678d54635dd5",
            "max": 10000,
            "min": 0,
            "orientation": "horizontal",
            "style": "IPY_MODEL_5604551475a245a7b1791ca4a1b4ffda",
            "value": 10000
          }
        },
        "b6643881b4a040918ae6d46b8782a9b8": {
          "model_module": "@jupyter-widgets/controls",
          "model_name": "HTMLModel",
          "model_module_version": "1.5.0",
          "state": {
            "_dom_classes": [],
            "_model_module": "@jupyter-widgets/controls",
            "_model_module_version": "1.5.0",
            "_model_name": "HTMLModel",
            "_view_count": null,
            "_view_module": "@jupyter-widgets/controls",
            "_view_module_version": "1.5.0",
            "_view_name": "HTMLView",
            "description": "",
            "description_tooltip": null,
            "layout": "IPY_MODEL_d92211a37a4743fbb99e18b2987eb375",
            "placeholder": "​",
            "style": "IPY_MODEL_0469ff3dfbc445a5b8a415d3201c610c",
            "value": " 9676/10000 [00:01&lt;00:00, 6678.70 examples/s]"
          }
        },
        "3ab71e17f6c34e04a59aaadf7c7a053a": {
          "model_module": "@jupyter-widgets/base",
          "model_name": "LayoutModel",
          "model_module_version": "1.2.0",
          "state": {
            "_model_module": "@jupyter-widgets/base",
            "_model_module_version": "1.2.0",
            "_model_name": "LayoutModel",
            "_view_count": null,
            "_view_module": "@jupyter-widgets/base",
            "_view_module_version": "1.2.0",
            "_view_name": "LayoutView",
            "align_content": null,
            "align_items": null,
            "align_self": null,
            "border": null,
            "bottom": null,
            "display": null,
            "flex": null,
            "flex_flow": null,
            "grid_area": null,
            "grid_auto_columns": null,
            "grid_auto_flow": null,
            "grid_auto_rows": null,
            "grid_column": null,
            "grid_gap": null,
            "grid_row": null,
            "grid_template_areas": null,
            "grid_template_columns": null,
            "grid_template_rows": null,
            "height": null,
            "justify_content": null,
            "justify_items": null,
            "left": null,
            "margin": null,
            "max_height": null,
            "max_width": null,
            "min_height": null,
            "min_width": null,
            "object_fit": null,
            "object_position": null,
            "order": null,
            "overflow": null,
            "overflow_x": null,
            "overflow_y": null,
            "padding": null,
            "right": null,
            "top": null,
            "visibility": null,
            "width": null
          }
        },
        "d5c9b91d79364ad88cc4f3d97ef78da6": {
          "model_module": "@jupyter-widgets/base",
          "model_name": "LayoutModel",
          "model_module_version": "1.2.0",
          "state": {
            "_model_module": "@jupyter-widgets/base",
            "_model_module_version": "1.2.0",
            "_model_name": "LayoutModel",
            "_view_count": null,
            "_view_module": "@jupyter-widgets/base",
            "_view_module_version": "1.2.0",
            "_view_name": "LayoutView",
            "align_content": null,
            "align_items": null,
            "align_self": null,
            "border": null,
            "bottom": null,
            "display": null,
            "flex": null,
            "flex_flow": null,
            "grid_area": null,
            "grid_auto_columns": null,
            "grid_auto_flow": null,
            "grid_auto_rows": null,
            "grid_column": null,
            "grid_gap": null,
            "grid_row": null,
            "grid_template_areas": null,
            "grid_template_columns": null,
            "grid_template_rows": null,
            "height": null,
            "justify_content": null,
            "justify_items": null,
            "left": null,
            "margin": null,
            "max_height": null,
            "max_width": null,
            "min_height": null,
            "min_width": null,
            "object_fit": null,
            "object_position": null,
            "order": null,
            "overflow": null,
            "overflow_x": null,
            "overflow_y": null,
            "padding": null,
            "right": null,
            "top": null,
            "visibility": null,
            "width": null
          }
        },
        "58a6b82de8e347feadfe0776e32ccb75": {
          "model_module": "@jupyter-widgets/controls",
          "model_name": "DescriptionStyleModel",
          "model_module_version": "1.5.0",
          "state": {
            "_model_module": "@jupyter-widgets/controls",
            "_model_module_version": "1.5.0",
            "_model_name": "DescriptionStyleModel",
            "_view_count": null,
            "_view_module": "@jupyter-widgets/base",
            "_view_module_version": "1.2.0",
            "_view_name": "StyleView",
            "description_width": ""
          }
        },
        "4e5783111e454899a27a678d54635dd5": {
          "model_module": "@jupyter-widgets/base",
          "model_name": "LayoutModel",
          "model_module_version": "1.2.0",
          "state": {
            "_model_module": "@jupyter-widgets/base",
            "_model_module_version": "1.2.0",
            "_model_name": "LayoutModel",
            "_view_count": null,
            "_view_module": "@jupyter-widgets/base",
            "_view_module_version": "1.2.0",
            "_view_name": "LayoutView",
            "align_content": null,
            "align_items": null,
            "align_self": null,
            "border": null,
            "bottom": null,
            "display": null,
            "flex": null,
            "flex_flow": null,
            "grid_area": null,
            "grid_auto_columns": null,
            "grid_auto_flow": null,
            "grid_auto_rows": null,
            "grid_column": null,
            "grid_gap": null,
            "grid_row": null,
            "grid_template_areas": null,
            "grid_template_columns": null,
            "grid_template_rows": null,
            "height": null,
            "justify_content": null,
            "justify_items": null,
            "left": null,
            "margin": null,
            "max_height": null,
            "max_width": null,
            "min_height": null,
            "min_width": null,
            "object_fit": null,
            "object_position": null,
            "order": null,
            "overflow": null,
            "overflow_x": null,
            "overflow_y": null,
            "padding": null,
            "right": null,
            "top": null,
            "visibility": null,
            "width": null
          }
        },
        "5604551475a245a7b1791ca4a1b4ffda": {
          "model_module": "@jupyter-widgets/controls",
          "model_name": "ProgressStyleModel",
          "model_module_version": "1.5.0",
          "state": {
            "_model_module": "@jupyter-widgets/controls",
            "_model_module_version": "1.5.0",
            "_model_name": "ProgressStyleModel",
            "_view_count": null,
            "_view_module": "@jupyter-widgets/base",
            "_view_module_version": "1.2.0",
            "_view_name": "StyleView",
            "bar_color": null,
            "description_width": ""
          }
        },
        "d92211a37a4743fbb99e18b2987eb375": {
          "model_module": "@jupyter-widgets/base",
          "model_name": "LayoutModel",
          "model_module_version": "1.2.0",
          "state": {
            "_model_module": "@jupyter-widgets/base",
            "_model_module_version": "1.2.0",
            "_model_name": "LayoutModel",
            "_view_count": null,
            "_view_module": "@jupyter-widgets/base",
            "_view_module_version": "1.2.0",
            "_view_name": "LayoutView",
            "align_content": null,
            "align_items": null,
            "align_self": null,
            "border": null,
            "bottom": null,
            "display": null,
            "flex": null,
            "flex_flow": null,
            "grid_area": null,
            "grid_auto_columns": null,
            "grid_auto_flow": null,
            "grid_auto_rows": null,
            "grid_column": null,
            "grid_gap": null,
            "grid_row": null,
            "grid_template_areas": null,
            "grid_template_columns": null,
            "grid_template_rows": null,
            "height": null,
            "justify_content": null,
            "justify_items": null,
            "left": null,
            "margin": null,
            "max_height": null,
            "max_width": null,
            "min_height": null,
            "min_width": null,
            "object_fit": null,
            "object_position": null,
            "order": null,
            "overflow": null,
            "overflow_x": null,
            "overflow_y": null,
            "padding": null,
            "right": null,
            "top": null,
            "visibility": null,
            "width": null
          }
        },
        "0469ff3dfbc445a5b8a415d3201c610c": {
          "model_module": "@jupyter-widgets/controls",
          "model_name": "DescriptionStyleModel",
          "model_module_version": "1.5.0",
          "state": {
            "_model_module": "@jupyter-widgets/controls",
            "_model_module_version": "1.5.0",
            "_model_name": "DescriptionStyleModel",
            "_view_count": null,
            "_view_module": "@jupyter-widgets/base",
            "_view_module_version": "1.2.0",
            "_view_name": "StyleView",
            "description_width": ""
          }
        },
        "0473aa2bbab24149ad5c6a7b6218bebe": {
          "model_module": "@jupyter-widgets/controls",
          "model_name": "HBoxModel",
          "model_module_version": "1.5.0",
          "state": {
            "_dom_classes": [],
            "_model_module": "@jupyter-widgets/controls",
            "_model_module_version": "1.5.0",
            "_model_name": "HBoxModel",
            "_view_count": null,
            "_view_module": "@jupyter-widgets/controls",
            "_view_module_version": "1.5.0",
            "_view_name": "HBoxView",
            "box_style": "",
            "children": [
              "IPY_MODEL_5e97e51a8e4b476d930428dc5cff0764",
              "IPY_MODEL_4f577cd7906f4569bfebb65b0515613b",
              "IPY_MODEL_9eba53db515945f7a40f301c7a8cef97"
            ],
            "layout": "IPY_MODEL_17312f05fa1d4dad8b1c10203c9fec39"
          }
        },
        "5e97e51a8e4b476d930428dc5cff0764": {
          "model_module": "@jupyter-widgets/controls",
          "model_name": "HTMLModel",
          "model_module_version": "1.5.0",
          "state": {
            "_dom_classes": [],
            "_model_module": "@jupyter-widgets/controls",
            "_model_module_version": "1.5.0",
            "_model_name": "HTMLModel",
            "_view_count": null,
            "_view_module": "@jupyter-widgets/controls",
            "_view_module_version": "1.5.0",
            "_view_name": "HTMLView",
            "description": "",
            "description_tooltip": null,
            "layout": "IPY_MODEL_9ce506886c904d7d8c9c0084575003a5",
            "placeholder": "​",
            "style": "IPY_MODEL_ea5e5412b60d4431ba4eb1b2565e02cd",
            "value": "Generating test split:  96%"
          }
        },
        "4f577cd7906f4569bfebb65b0515613b": {
          "model_module": "@jupyter-widgets/controls",
          "model_name": "FloatProgressModel",
          "model_module_version": "1.5.0",
          "state": {
            "_dom_classes": [],
            "_model_module": "@jupyter-widgets/controls",
            "_model_module_version": "1.5.0",
            "_model_name": "FloatProgressModel",
            "_view_count": null,
            "_view_module": "@jupyter-widgets/controls",
            "_view_module_version": "1.5.0",
            "_view_name": "ProgressView",
            "bar_style": "",
            "description": "",
            "description_tooltip": null,
            "layout": "IPY_MODEL_785fb287bebc425cbf4b726bc9136d0a",
            "max": 10000,
            "min": 0,
            "orientation": "horizontal",
            "style": "IPY_MODEL_25dcc763a0b6495591af62bbfb7d5895",
            "value": 10000
          }
        },
        "9eba53db515945f7a40f301c7a8cef97": {
          "model_module": "@jupyter-widgets/controls",
          "model_name": "HTMLModel",
          "model_module_version": "1.5.0",
          "state": {
            "_dom_classes": [],
            "_model_module": "@jupyter-widgets/controls",
            "_model_module_version": "1.5.0",
            "_model_name": "HTMLModel",
            "_view_count": null,
            "_view_module": "@jupyter-widgets/controls",
            "_view_module_version": "1.5.0",
            "_view_name": "HTMLView",
            "description": "",
            "description_tooltip": null,
            "layout": "IPY_MODEL_9e82cc9ca2364ce7b5c1be1239f2c5f8",
            "placeholder": "​",
            "style": "IPY_MODEL_6f0dbd9613a84bbe910d8160d62efce1",
            "value": " 9573/10000 [00:01&lt;00:00, 6377.94 examples/s]"
          }
        },
        "17312f05fa1d4dad8b1c10203c9fec39": {
          "model_module": "@jupyter-widgets/base",
          "model_name": "LayoutModel",
          "model_module_version": "1.2.0",
          "state": {
            "_model_module": "@jupyter-widgets/base",
            "_model_module_version": "1.2.0",
            "_model_name": "LayoutModel",
            "_view_count": null,
            "_view_module": "@jupyter-widgets/base",
            "_view_module_version": "1.2.0",
            "_view_name": "LayoutView",
            "align_content": null,
            "align_items": null,
            "align_self": null,
            "border": null,
            "bottom": null,
            "display": null,
            "flex": null,
            "flex_flow": null,
            "grid_area": null,
            "grid_auto_columns": null,
            "grid_auto_flow": null,
            "grid_auto_rows": null,
            "grid_column": null,
            "grid_gap": null,
            "grid_row": null,
            "grid_template_areas": null,
            "grid_template_columns": null,
            "grid_template_rows": null,
            "height": null,
            "justify_content": null,
            "justify_items": null,
            "left": null,
            "margin": null,
            "max_height": null,
            "max_width": null,
            "min_height": null,
            "min_width": null,
            "object_fit": null,
            "object_position": null,
            "order": null,
            "overflow": null,
            "overflow_x": null,
            "overflow_y": null,
            "padding": null,
            "right": null,
            "top": null,
            "visibility": null,
            "width": null
          }
        },
        "9ce506886c904d7d8c9c0084575003a5": {
          "model_module": "@jupyter-widgets/base",
          "model_name": "LayoutModel",
          "model_module_version": "1.2.0",
          "state": {
            "_model_module": "@jupyter-widgets/base",
            "_model_module_version": "1.2.0",
            "_model_name": "LayoutModel",
            "_view_count": null,
            "_view_module": "@jupyter-widgets/base",
            "_view_module_version": "1.2.0",
            "_view_name": "LayoutView",
            "align_content": null,
            "align_items": null,
            "align_self": null,
            "border": null,
            "bottom": null,
            "display": null,
            "flex": null,
            "flex_flow": null,
            "grid_area": null,
            "grid_auto_columns": null,
            "grid_auto_flow": null,
            "grid_auto_rows": null,
            "grid_column": null,
            "grid_gap": null,
            "grid_row": null,
            "grid_template_areas": null,
            "grid_template_columns": null,
            "grid_template_rows": null,
            "height": null,
            "justify_content": null,
            "justify_items": null,
            "left": null,
            "margin": null,
            "max_height": null,
            "max_width": null,
            "min_height": null,
            "min_width": null,
            "object_fit": null,
            "object_position": null,
            "order": null,
            "overflow": null,
            "overflow_x": null,
            "overflow_y": null,
            "padding": null,
            "right": null,
            "top": null,
            "visibility": null,
            "width": null
          }
        },
        "ea5e5412b60d4431ba4eb1b2565e02cd": {
          "model_module": "@jupyter-widgets/controls",
          "model_name": "DescriptionStyleModel",
          "model_module_version": "1.5.0",
          "state": {
            "_model_module": "@jupyter-widgets/controls",
            "_model_module_version": "1.5.0",
            "_model_name": "DescriptionStyleModel",
            "_view_count": null,
            "_view_module": "@jupyter-widgets/base",
            "_view_module_version": "1.2.0",
            "_view_name": "StyleView",
            "description_width": ""
          }
        },
        "785fb287bebc425cbf4b726bc9136d0a": {
          "model_module": "@jupyter-widgets/base",
          "model_name": "LayoutModel",
          "model_module_version": "1.2.0",
          "state": {
            "_model_module": "@jupyter-widgets/base",
            "_model_module_version": "1.2.0",
            "_model_name": "LayoutModel",
            "_view_count": null,
            "_view_module": "@jupyter-widgets/base",
            "_view_module_version": "1.2.0",
            "_view_name": "LayoutView",
            "align_content": null,
            "align_items": null,
            "align_self": null,
            "border": null,
            "bottom": null,
            "display": null,
            "flex": null,
            "flex_flow": null,
            "grid_area": null,
            "grid_auto_columns": null,
            "grid_auto_flow": null,
            "grid_auto_rows": null,
            "grid_column": null,
            "grid_gap": null,
            "grid_row": null,
            "grid_template_areas": null,
            "grid_template_columns": null,
            "grid_template_rows": null,
            "height": null,
            "justify_content": null,
            "justify_items": null,
            "left": null,
            "margin": null,
            "max_height": null,
            "max_width": null,
            "min_height": null,
            "min_width": null,
            "object_fit": null,
            "object_position": null,
            "order": null,
            "overflow": null,
            "overflow_x": null,
            "overflow_y": null,
            "padding": null,
            "right": null,
            "top": null,
            "visibility": null,
            "width": null
          }
        },
        "25dcc763a0b6495591af62bbfb7d5895": {
          "model_module": "@jupyter-widgets/controls",
          "model_name": "ProgressStyleModel",
          "model_module_version": "1.5.0",
          "state": {
            "_model_module": "@jupyter-widgets/controls",
            "_model_module_version": "1.5.0",
            "_model_name": "ProgressStyleModel",
            "_view_count": null,
            "_view_module": "@jupyter-widgets/base",
            "_view_module_version": "1.2.0",
            "_view_name": "StyleView",
            "bar_color": null,
            "description_width": ""
          }
        },
        "9e82cc9ca2364ce7b5c1be1239f2c5f8": {
          "model_module": "@jupyter-widgets/base",
          "model_name": "LayoutModel",
          "model_module_version": "1.2.0",
          "state": {
            "_model_module": "@jupyter-widgets/base",
            "_model_module_version": "1.2.0",
            "_model_name": "LayoutModel",
            "_view_count": null,
            "_view_module": "@jupyter-widgets/base",
            "_view_module_version": "1.2.0",
            "_view_name": "LayoutView",
            "align_content": null,
            "align_items": null,
            "align_self": null,
            "border": null,
            "bottom": null,
            "display": null,
            "flex": null,
            "flex_flow": null,
            "grid_area": null,
            "grid_auto_columns": null,
            "grid_auto_flow": null,
            "grid_auto_rows": null,
            "grid_column": null,
            "grid_gap": null,
            "grid_row": null,
            "grid_template_areas": null,
            "grid_template_columns": null,
            "grid_template_rows": null,
            "height": null,
            "justify_content": null,
            "justify_items": null,
            "left": null,
            "margin": null,
            "max_height": null,
            "max_width": null,
            "min_height": null,
            "min_width": null,
            "object_fit": null,
            "object_position": null,
            "order": null,
            "overflow": null,
            "overflow_x": null,
            "overflow_y": null,
            "padding": null,
            "right": null,
            "top": null,
            "visibility": null,
            "width": null
          }
        },
        "6f0dbd9613a84bbe910d8160d62efce1": {
          "model_module": "@jupyter-widgets/controls",
          "model_name": "DescriptionStyleModel",
          "model_module_version": "1.5.0",
          "state": {
            "_model_module": "@jupyter-widgets/controls",
            "_model_module_version": "1.5.0",
            "_model_name": "DescriptionStyleModel",
            "_view_count": null,
            "_view_module": "@jupyter-widgets/base",
            "_view_module_version": "1.2.0",
            "_view_name": "StyleView",
            "description_width": ""
          }
        },
        "e8e4a8887eee48ff91499177e189da40": {
          "model_module": "@jupyter-widgets/controls",
          "model_name": "HBoxModel",
          "model_module_version": "1.5.0",
          "state": {
            "_dom_classes": [],
            "_model_module": "@jupyter-widgets/controls",
            "_model_module_version": "1.5.0",
            "_model_name": "HBoxModel",
            "_view_count": null,
            "_view_module": "@jupyter-widgets/controls",
            "_view_module_version": "1.5.0",
            "_view_name": "HBoxView",
            "box_style": "",
            "children": [
              "IPY_MODEL_6403b4e2390548a0860951d91d07b6ee",
              "IPY_MODEL_f956e1623c7247e3a7d8a1c3ae32c7f0",
              "IPY_MODEL_743fc75feedb475a84f5b114df0ba296"
            ],
            "layout": "IPY_MODEL_cbd3e92950a4435191644297518b5601"
          }
        },
        "6403b4e2390548a0860951d91d07b6ee": {
          "model_module": "@jupyter-widgets/controls",
          "model_name": "HTMLModel",
          "model_module_version": "1.5.0",
          "state": {
            "_dom_classes": [],
            "_model_module": "@jupyter-widgets/controls",
            "_model_module_version": "1.5.0",
            "_model_name": "HTMLModel",
            "_view_count": null,
            "_view_module": "@jupyter-widgets/controls",
            "_view_module_version": "1.5.0",
            "_view_name": "HTMLView",
            "description": "",
            "description_tooltip": null,
            "layout": "IPY_MODEL_e1093c30c3d64382807951a66e15220e",
            "placeholder": "​",
            "style": "IPY_MODEL_ba8ec732a0f74373aee013ba9150a96f",
            "value": "Generating train split:  97%"
          }
        },
        "f956e1623c7247e3a7d8a1c3ae32c7f0": {
          "model_module": "@jupyter-widgets/controls",
          "model_name": "FloatProgressModel",
          "model_module_version": "1.5.0",
          "state": {
            "_dom_classes": [],
            "_model_module": "@jupyter-widgets/controls",
            "_model_module_version": "1.5.0",
            "_model_name": "FloatProgressModel",
            "_view_count": null,
            "_view_module": "@jupyter-widgets/controls",
            "_view_module_version": "1.5.0",
            "_view_name": "ProgressView",
            "bar_style": "",
            "description": "",
            "description_tooltip": null,
            "layout": "IPY_MODEL_91995553c9b04fb49db4d4b9eb160e76",
            "max": 20000,
            "min": 0,
            "orientation": "horizontal",
            "style": "IPY_MODEL_359f8416404f44d1bec34cb00945779b",
            "value": 20000
          }
        },
        "743fc75feedb475a84f5b114df0ba296": {
          "model_module": "@jupyter-widgets/controls",
          "model_name": "HTMLModel",
          "model_module_version": "1.5.0",
          "state": {
            "_dom_classes": [],
            "_model_module": "@jupyter-widgets/controls",
            "_model_module_version": "1.5.0",
            "_model_name": "HTMLModel",
            "_view_count": null,
            "_view_module": "@jupyter-widgets/controls",
            "_view_module_version": "1.5.0",
            "_view_name": "HTMLView",
            "description": "",
            "description_tooltip": null,
            "layout": "IPY_MODEL_6831290b2e29462980598214043c0f90",
            "placeholder": "​",
            "style": "IPY_MODEL_e590509a9c92427c8442b19926f8bc90",
            "value": " 19457/20000 [00:03&lt;00:00, 6444.37 examples/s]"
          }
        },
        "cbd3e92950a4435191644297518b5601": {
          "model_module": "@jupyter-widgets/base",
          "model_name": "LayoutModel",
          "model_module_version": "1.2.0",
          "state": {
            "_model_module": "@jupyter-widgets/base",
            "_model_module_version": "1.2.0",
            "_model_name": "LayoutModel",
            "_view_count": null,
            "_view_module": "@jupyter-widgets/base",
            "_view_module_version": "1.2.0",
            "_view_name": "LayoutView",
            "align_content": null,
            "align_items": null,
            "align_self": null,
            "border": null,
            "bottom": null,
            "display": null,
            "flex": null,
            "flex_flow": null,
            "grid_area": null,
            "grid_auto_columns": null,
            "grid_auto_flow": null,
            "grid_auto_rows": null,
            "grid_column": null,
            "grid_gap": null,
            "grid_row": null,
            "grid_template_areas": null,
            "grid_template_columns": null,
            "grid_template_rows": null,
            "height": null,
            "justify_content": null,
            "justify_items": null,
            "left": null,
            "margin": null,
            "max_height": null,
            "max_width": null,
            "min_height": null,
            "min_width": null,
            "object_fit": null,
            "object_position": null,
            "order": null,
            "overflow": null,
            "overflow_x": null,
            "overflow_y": null,
            "padding": null,
            "right": null,
            "top": null,
            "visibility": null,
            "width": null
          }
        },
        "e1093c30c3d64382807951a66e15220e": {
          "model_module": "@jupyter-widgets/base",
          "model_name": "LayoutModel",
          "model_module_version": "1.2.0",
          "state": {
            "_model_module": "@jupyter-widgets/base",
            "_model_module_version": "1.2.0",
            "_model_name": "LayoutModel",
            "_view_count": null,
            "_view_module": "@jupyter-widgets/base",
            "_view_module_version": "1.2.0",
            "_view_name": "LayoutView",
            "align_content": null,
            "align_items": null,
            "align_self": null,
            "border": null,
            "bottom": null,
            "display": null,
            "flex": null,
            "flex_flow": null,
            "grid_area": null,
            "grid_auto_columns": null,
            "grid_auto_flow": null,
            "grid_auto_rows": null,
            "grid_column": null,
            "grid_gap": null,
            "grid_row": null,
            "grid_template_areas": null,
            "grid_template_columns": null,
            "grid_template_rows": null,
            "height": null,
            "justify_content": null,
            "justify_items": null,
            "left": null,
            "margin": null,
            "max_height": null,
            "max_width": null,
            "min_height": null,
            "min_width": null,
            "object_fit": null,
            "object_position": null,
            "order": null,
            "overflow": null,
            "overflow_x": null,
            "overflow_y": null,
            "padding": null,
            "right": null,
            "top": null,
            "visibility": null,
            "width": null
          }
        },
        "ba8ec732a0f74373aee013ba9150a96f": {
          "model_module": "@jupyter-widgets/controls",
          "model_name": "DescriptionStyleModel",
          "model_module_version": "1.5.0",
          "state": {
            "_model_module": "@jupyter-widgets/controls",
            "_model_module_version": "1.5.0",
            "_model_name": "DescriptionStyleModel",
            "_view_count": null,
            "_view_module": "@jupyter-widgets/base",
            "_view_module_version": "1.2.0",
            "_view_name": "StyleView",
            "description_width": ""
          }
        },
        "91995553c9b04fb49db4d4b9eb160e76": {
          "model_module": "@jupyter-widgets/base",
          "model_name": "LayoutModel",
          "model_module_version": "1.2.0",
          "state": {
            "_model_module": "@jupyter-widgets/base",
            "_model_module_version": "1.2.0",
            "_model_name": "LayoutModel",
            "_view_count": null,
            "_view_module": "@jupyter-widgets/base",
            "_view_module_version": "1.2.0",
            "_view_name": "LayoutView",
            "align_content": null,
            "align_items": null,
            "align_self": null,
            "border": null,
            "bottom": null,
            "display": null,
            "flex": null,
            "flex_flow": null,
            "grid_area": null,
            "grid_auto_columns": null,
            "grid_auto_flow": null,
            "grid_auto_rows": null,
            "grid_column": null,
            "grid_gap": null,
            "grid_row": null,
            "grid_template_areas": null,
            "grid_template_columns": null,
            "grid_template_rows": null,
            "height": null,
            "justify_content": null,
            "justify_items": null,
            "left": null,
            "margin": null,
            "max_height": null,
            "max_width": null,
            "min_height": null,
            "min_width": null,
            "object_fit": null,
            "object_position": null,
            "order": null,
            "overflow": null,
            "overflow_x": null,
            "overflow_y": null,
            "padding": null,
            "right": null,
            "top": null,
            "visibility": null,
            "width": null
          }
        },
        "359f8416404f44d1bec34cb00945779b": {
          "model_module": "@jupyter-widgets/controls",
          "model_name": "ProgressStyleModel",
          "model_module_version": "1.5.0",
          "state": {
            "_model_module": "@jupyter-widgets/controls",
            "_model_module_version": "1.5.0",
            "_model_name": "ProgressStyleModel",
            "_view_count": null,
            "_view_module": "@jupyter-widgets/base",
            "_view_module_version": "1.2.0",
            "_view_name": "StyleView",
            "bar_color": null,
            "description_width": ""
          }
        },
        "6831290b2e29462980598214043c0f90": {
          "model_module": "@jupyter-widgets/base",
          "model_name": "LayoutModel",
          "model_module_version": "1.2.0",
          "state": {
            "_model_module": "@jupyter-widgets/base",
            "_model_module_version": "1.2.0",
            "_model_name": "LayoutModel",
            "_view_count": null,
            "_view_module": "@jupyter-widgets/base",
            "_view_module_version": "1.2.0",
            "_view_name": "LayoutView",
            "align_content": null,
            "align_items": null,
            "align_self": null,
            "border": null,
            "bottom": null,
            "display": null,
            "flex": null,
            "flex_flow": null,
            "grid_area": null,
            "grid_auto_columns": null,
            "grid_auto_flow": null,
            "grid_auto_rows": null,
            "grid_column": null,
            "grid_gap": null,
            "grid_row": null,
            "grid_template_areas": null,
            "grid_template_columns": null,
            "grid_template_rows": null,
            "height": null,
            "justify_content": null,
            "justify_items": null,
            "left": null,
            "margin": null,
            "max_height": null,
            "max_width": null,
            "min_height": null,
            "min_width": null,
            "object_fit": null,
            "object_position": null,
            "order": null,
            "overflow": null,
            "overflow_x": null,
            "overflow_y": null,
            "padding": null,
            "right": null,
            "top": null,
            "visibility": null,
            "width": null
          }
        },
        "e590509a9c92427c8442b19926f8bc90": {
          "model_module": "@jupyter-widgets/controls",
          "model_name": "DescriptionStyleModel",
          "model_module_version": "1.5.0",
          "state": {
            "_model_module": "@jupyter-widgets/controls",
            "_model_module_version": "1.5.0",
            "_model_name": "DescriptionStyleModel",
            "_view_count": null,
            "_view_module": "@jupyter-widgets/base",
            "_view_module_version": "1.2.0",
            "_view_name": "StyleView",
            "description_width": ""
          }
        },
        "ab89935f01a54358aba6f88d079daefb": {
          "model_module": "@jupyter-widgets/controls",
          "model_name": "HBoxModel",
          "model_module_version": "1.5.0",
          "state": {
            "_dom_classes": [],
            "_model_module": "@jupyter-widgets/controls",
            "_model_module_version": "1.5.0",
            "_model_name": "HBoxModel",
            "_view_count": null,
            "_view_module": "@jupyter-widgets/controls",
            "_view_module_version": "1.5.0",
            "_view_name": "HBoxView",
            "box_style": "",
            "children": [
              "IPY_MODEL_b669e8e0f1964d22830d76259f945b7c",
              "IPY_MODEL_bf620fa3ce7d43d5a7b3e1d891679576",
              "IPY_MODEL_72c0aae7f7174652aa8c6a7feb1611ac"
            ],
            "layout": "IPY_MODEL_890b1a649e414bf89de080a855907230"
          }
        },
        "b669e8e0f1964d22830d76259f945b7c": {
          "model_module": "@jupyter-widgets/controls",
          "model_name": "HTMLModel",
          "model_module_version": "1.5.0",
          "state": {
            "_dom_classes": [],
            "_model_module": "@jupyter-widgets/controls",
            "_model_module_version": "1.5.0",
            "_model_name": "HTMLModel",
            "_view_count": null,
            "_view_module": "@jupyter-widgets/controls",
            "_view_module_version": "1.5.0",
            "_view_name": "HTMLView",
            "description": "",
            "description_tooltip": null,
            "layout": "IPY_MODEL_7da8a7fbf1fd40828cfb37f2e914b7b5",
            "placeholder": "​",
            "style": "IPY_MODEL_776b473395264359a88c66acbeb4b1c6",
            "value": "100%"
          }
        },
        "bf620fa3ce7d43d5a7b3e1d891679576": {
          "model_module": "@jupyter-widgets/controls",
          "model_name": "FloatProgressModel",
          "model_module_version": "1.5.0",
          "state": {
            "_dom_classes": [],
            "_model_module": "@jupyter-widgets/controls",
            "_model_module_version": "1.5.0",
            "_model_name": "FloatProgressModel",
            "_view_count": null,
            "_view_module": "@jupyter-widgets/controls",
            "_view_module_version": "1.5.0",
            "_view_name": "ProgressView",
            "bar_style": "success",
            "description": "",
            "description_tooltip": null,
            "layout": "IPY_MODEL_85fc179ac57f4ca0a91dade572435877",
            "max": 3,
            "min": 0,
            "orientation": "horizontal",
            "style": "IPY_MODEL_a8df1a9118264dfd99fdc08c00e4765c",
            "value": 3
          }
        },
        "72c0aae7f7174652aa8c6a7feb1611ac": {
          "model_module": "@jupyter-widgets/controls",
          "model_name": "HTMLModel",
          "model_module_version": "1.5.0",
          "state": {
            "_dom_classes": [],
            "_model_module": "@jupyter-widgets/controls",
            "_model_module_version": "1.5.0",
            "_model_name": "HTMLModel",
            "_view_count": null,
            "_view_module": "@jupyter-widgets/controls",
            "_view_module_version": "1.5.0",
            "_view_name": "HTMLView",
            "description": "",
            "description_tooltip": null,
            "layout": "IPY_MODEL_40bc1f51f2634d5dbe815822b64b72f6",
            "placeholder": "​",
            "style": "IPY_MODEL_daff2c067fdf424d9e0a55f334a1c2c8",
            "value": " 3/3 [00:00&lt;00:00, 73.88it/s]"
          }
        },
        "890b1a649e414bf89de080a855907230": {
          "model_module": "@jupyter-widgets/base",
          "model_name": "LayoutModel",
          "model_module_version": "1.2.0",
          "state": {
            "_model_module": "@jupyter-widgets/base",
            "_model_module_version": "1.2.0",
            "_model_name": "LayoutModel",
            "_view_count": null,
            "_view_module": "@jupyter-widgets/base",
            "_view_module_version": "1.2.0",
            "_view_name": "LayoutView",
            "align_content": null,
            "align_items": null,
            "align_self": null,
            "border": null,
            "bottom": null,
            "display": null,
            "flex": null,
            "flex_flow": null,
            "grid_area": null,
            "grid_auto_columns": null,
            "grid_auto_flow": null,
            "grid_auto_rows": null,
            "grid_column": null,
            "grid_gap": null,
            "grid_row": null,
            "grid_template_areas": null,
            "grid_template_columns": null,
            "grid_template_rows": null,
            "height": null,
            "justify_content": null,
            "justify_items": null,
            "left": null,
            "margin": null,
            "max_height": null,
            "max_width": null,
            "min_height": null,
            "min_width": null,
            "object_fit": null,
            "object_position": null,
            "order": null,
            "overflow": null,
            "overflow_x": null,
            "overflow_y": null,
            "padding": null,
            "right": null,
            "top": null,
            "visibility": null,
            "width": null
          }
        },
        "7da8a7fbf1fd40828cfb37f2e914b7b5": {
          "model_module": "@jupyter-widgets/base",
          "model_name": "LayoutModel",
          "model_module_version": "1.2.0",
          "state": {
            "_model_module": "@jupyter-widgets/base",
            "_model_module_version": "1.2.0",
            "_model_name": "LayoutModel",
            "_view_count": null,
            "_view_module": "@jupyter-widgets/base",
            "_view_module_version": "1.2.0",
            "_view_name": "LayoutView",
            "align_content": null,
            "align_items": null,
            "align_self": null,
            "border": null,
            "bottom": null,
            "display": null,
            "flex": null,
            "flex_flow": null,
            "grid_area": null,
            "grid_auto_columns": null,
            "grid_auto_flow": null,
            "grid_auto_rows": null,
            "grid_column": null,
            "grid_gap": null,
            "grid_row": null,
            "grid_template_areas": null,
            "grid_template_columns": null,
            "grid_template_rows": null,
            "height": null,
            "justify_content": null,
            "justify_items": null,
            "left": null,
            "margin": null,
            "max_height": null,
            "max_width": null,
            "min_height": null,
            "min_width": null,
            "object_fit": null,
            "object_position": null,
            "order": null,
            "overflow": null,
            "overflow_x": null,
            "overflow_y": null,
            "padding": null,
            "right": null,
            "top": null,
            "visibility": null,
            "width": null
          }
        },
        "776b473395264359a88c66acbeb4b1c6": {
          "model_module": "@jupyter-widgets/controls",
          "model_name": "DescriptionStyleModel",
          "model_module_version": "1.5.0",
          "state": {
            "_model_module": "@jupyter-widgets/controls",
            "_model_module_version": "1.5.0",
            "_model_name": "DescriptionStyleModel",
            "_view_count": null,
            "_view_module": "@jupyter-widgets/base",
            "_view_module_version": "1.2.0",
            "_view_name": "StyleView",
            "description_width": ""
          }
        },
        "85fc179ac57f4ca0a91dade572435877": {
          "model_module": "@jupyter-widgets/base",
          "model_name": "LayoutModel",
          "model_module_version": "1.2.0",
          "state": {
            "_model_module": "@jupyter-widgets/base",
            "_model_module_version": "1.2.0",
            "_model_name": "LayoutModel",
            "_view_count": null,
            "_view_module": "@jupyter-widgets/base",
            "_view_module_version": "1.2.0",
            "_view_name": "LayoutView",
            "align_content": null,
            "align_items": null,
            "align_self": null,
            "border": null,
            "bottom": null,
            "display": null,
            "flex": null,
            "flex_flow": null,
            "grid_area": null,
            "grid_auto_columns": null,
            "grid_auto_flow": null,
            "grid_auto_rows": null,
            "grid_column": null,
            "grid_gap": null,
            "grid_row": null,
            "grid_template_areas": null,
            "grid_template_columns": null,
            "grid_template_rows": null,
            "height": null,
            "justify_content": null,
            "justify_items": null,
            "left": null,
            "margin": null,
            "max_height": null,
            "max_width": null,
            "min_height": null,
            "min_width": null,
            "object_fit": null,
            "object_position": null,
            "order": null,
            "overflow": null,
            "overflow_x": null,
            "overflow_y": null,
            "padding": null,
            "right": null,
            "top": null,
            "visibility": null,
            "width": null
          }
        },
        "a8df1a9118264dfd99fdc08c00e4765c": {
          "model_module": "@jupyter-widgets/controls",
          "model_name": "ProgressStyleModel",
          "model_module_version": "1.5.0",
          "state": {
            "_model_module": "@jupyter-widgets/controls",
            "_model_module_version": "1.5.0",
            "_model_name": "ProgressStyleModel",
            "_view_count": null,
            "_view_module": "@jupyter-widgets/base",
            "_view_module_version": "1.2.0",
            "_view_name": "StyleView",
            "bar_color": null,
            "description_width": ""
          }
        },
        "40bc1f51f2634d5dbe815822b64b72f6": {
          "model_module": "@jupyter-widgets/base",
          "model_name": "LayoutModel",
          "model_module_version": "1.2.0",
          "state": {
            "_model_module": "@jupyter-widgets/base",
            "_model_module_version": "1.2.0",
            "_model_name": "LayoutModel",
            "_view_count": null,
            "_view_module": "@jupyter-widgets/base",
            "_view_module_version": "1.2.0",
            "_view_name": "LayoutView",
            "align_content": null,
            "align_items": null,
            "align_self": null,
            "border": null,
            "bottom": null,
            "display": null,
            "flex": null,
            "flex_flow": null,
            "grid_area": null,
            "grid_auto_columns": null,
            "grid_auto_flow": null,
            "grid_auto_rows": null,
            "grid_column": null,
            "grid_gap": null,
            "grid_row": null,
            "grid_template_areas": null,
            "grid_template_columns": null,
            "grid_template_rows": null,
            "height": null,
            "justify_content": null,
            "justify_items": null,
            "left": null,
            "margin": null,
            "max_height": null,
            "max_width": null,
            "min_height": null,
            "min_width": null,
            "object_fit": null,
            "object_position": null,
            "order": null,
            "overflow": null,
            "overflow_x": null,
            "overflow_y": null,
            "padding": null,
            "right": null,
            "top": null,
            "visibility": null,
            "width": null
          }
        },
        "daff2c067fdf424d9e0a55f334a1c2c8": {
          "model_module": "@jupyter-widgets/controls",
          "model_name": "DescriptionStyleModel",
          "model_module_version": "1.5.0",
          "state": {
            "_model_module": "@jupyter-widgets/controls",
            "_model_module_version": "1.5.0",
            "_model_name": "DescriptionStyleModel",
            "_view_count": null,
            "_view_module": "@jupyter-widgets/base",
            "_view_module_version": "1.2.0",
            "_view_name": "StyleView",
            "description_width": ""
          }
        }
      }
    }
  },
  "nbformat": 4,
  "nbformat_minor": 5
}
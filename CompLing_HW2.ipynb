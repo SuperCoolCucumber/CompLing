{
 "cells": [
  {
   "cell_type": "markdown",
   "id": "f3705663",
   "metadata": {},
   "source": [
    "# Домашнее задание № 2. Мешок слов"
   ]
  },
  {
   "cell_type": "markdown",
   "id": "0cf72d19",
   "metadata": {},
   "source": [
    "## Задание 1 (3 балла)"
   ]
  },
  {
   "cell_type": "markdown",
   "id": "4a045e99",
   "metadata": {},
   "source": [
    "У векторайзеров в sklearn есть встроенная токенизация на регулярных выражениях. Найдите способо заменить её на кастомную токенизацию"
   ]
  },
  {
   "cell_type": "markdown",
   "id": "90b4d453",
   "metadata": {},
   "source": [
    "Обучите векторайзер с дефолтной токенизацией и с токенизацией razdel.tokenize. Обучите классификатор с каждым из векторайзеров. Сравните метрики и выберите победителя. \n",
    "\n",
    "(в вашей тетрадке должен быть код обучения и все метрики; если вы сдаете в .py файлах то сохраните полученные метрики в отдельном файле или в комментариях)"
   ]
  },
  {
   "cell_type": "code",
   "execution_count": 152,
   "id": "129c4d2e",
   "metadata": {
    "scrolled": true
   },
   "outputs": [],
   "source": [
    "import numpy as np\n",
    "import pandas as pd\n",
    "import math\n",
    "from sklearn.feature_extraction.text import CountVectorizer, TfidfVectorizer\n",
    "from sklearn.linear_model import LogisticRegression\n",
    "from sklearn.tree import DecisionTreeClassifier\n",
    "from sklearn.neighbors import KNeighborsClassifier\n",
    "from sklearn.naive_bayes import MultinomialNB\n",
    "from sklearn.ensemble import RandomForestClassifier\n",
    "from sklearn.model_selection import train_test_split\n",
    "from sklearn.metrics import classification_report\n",
    "from razdel import tokenize\n",
    "from nltk.corpus import stopwords\n",
    "import matplotlib.pyplot as plt"
   ]
  },
  {
   "cell_type": "code",
   "execution_count": 2,
   "id": "8bbc2365",
   "metadata": {
    "scrolled": true
   },
   "outputs": [],
   "source": [
    "data = pd.read_csv('labeled.csv')"
   ]
  },
  {
   "cell_type": "code",
   "execution_count": 3,
   "id": "01341538",
   "metadata": {},
   "outputs": [
    {
     "data": {
      "text/html": [
       "<div>\n",
       "<style scoped>\n",
       "    .dataframe tbody tr th:only-of-type {\n",
       "        vertical-align: middle;\n",
       "    }\n",
       "\n",
       "    .dataframe tbody tr th {\n",
       "        vertical-align: top;\n",
       "    }\n",
       "\n",
       "    .dataframe thead th {\n",
       "        text-align: right;\n",
       "    }\n",
       "</style>\n",
       "<table border=\"1\" class=\"dataframe\">\n",
       "  <thead>\n",
       "    <tr style=\"text-align: right;\">\n",
       "      <th></th>\n",
       "      <th>comment</th>\n",
       "      <th>toxic</th>\n",
       "    </tr>\n",
       "  </thead>\n",
       "  <tbody>\n",
       "    <tr>\n",
       "      <th>0</th>\n",
       "      <td>Верблюдов-то за что? Дебилы, бл...\\n</td>\n",
       "      <td>1.0</td>\n",
       "    </tr>\n",
       "    <tr>\n",
       "      <th>1</th>\n",
       "      <td>Хохлы, это отдушина затюканого россиянина, мол...</td>\n",
       "      <td>1.0</td>\n",
       "    </tr>\n",
       "    <tr>\n",
       "      <th>2</th>\n",
       "      <td>Собаке - собачья смерть\\n</td>\n",
       "      <td>1.0</td>\n",
       "    </tr>\n",
       "    <tr>\n",
       "      <th>3</th>\n",
       "      <td>Страницу обнови, дебил. Это тоже не оскорблени...</td>\n",
       "      <td>1.0</td>\n",
       "    </tr>\n",
       "    <tr>\n",
       "      <th>4</th>\n",
       "      <td>тебя не убедил 6-страничный пдф в том, что Скр...</td>\n",
       "      <td>1.0</td>\n",
       "    </tr>\n",
       "  </tbody>\n",
       "</table>\n",
       "</div>"
      ],
      "text/plain": [
       "                                             comment  toxic\n",
       "0               Верблюдов-то за что? Дебилы, бл...\\n    1.0\n",
       "1  Хохлы, это отдушина затюканого россиянина, мол...    1.0\n",
       "2                          Собаке - собачья смерть\\n    1.0\n",
       "3  Страницу обнови, дебил. Это тоже не оскорблени...    1.0\n",
       "4  тебя не убедил 6-страничный пдф в том, что Скр...    1.0"
      ]
     },
     "execution_count": 3,
     "metadata": {},
     "output_type": "execute_result"
    }
   ],
   "source": [
    "data.head()"
   ]
  },
  {
   "cell_type": "code",
   "execution_count": 4,
   "id": "58c5da4a",
   "metadata": {},
   "outputs": [],
   "source": [
    "# разделение данных на train и test в соотношении 90/10\n",
    "\n",
    "train, test = train_test_split(data, test_size=0.1, shuffle=True)"
   ]
  },
  {
   "cell_type": "code",
   "execution_count": 8,
   "id": "fe5ac7df",
   "metadata": {},
   "outputs": [],
   "source": [
    "y_train = train.toxic.values\n",
    "y_test = test.toxic.values"
   ]
  },
  {
   "cell_type": "code",
   "execution_count": 6,
   "id": "5ad78875",
   "metadata": {},
   "outputs": [],
   "source": [
    "# векторизация со стандартной токенизацией\n",
    "\n",
    "default_vectorizer = CountVectorizer()\n",
    "X_def = default_vectorizer.fit_transform(train.comment)\n",
    "X_test_1 = default_vectorizer.transform(test.comment)"
   ]
  },
  {
   "cell_type": "code",
   "execution_count": 7,
   "id": "0fca244b",
   "metadata": {},
   "outputs": [],
   "source": [
    "# векторизация с токенизацией razdel\n",
    "\n",
    "def cust_tokenizer(text):\n",
    "    tokens = list(tokenize(text))\n",
    "    tokens = [_.text for _ in tokens]\n",
    "    return(tokens)\n",
    "\n",
    "cust_vectorizer = CountVectorizer(tokenizer=cust_tokenizer)\n",
    "X_cust = cust_vectorizer.fit_transform(train.comment)\n",
    "X_test_2 = cust_vectorizer.transform(test.comment)"
   ]
  },
  {
   "cell_type": "code",
   "execution_count": 15,
   "id": "0c6640ff",
   "metadata": {},
   "outputs": [],
   "source": [
    "# берем логистическую регрессию и учим ее сначала на дефолтных векторах\n",
    "\n",
    "clf = LogisticRegression(C=0.1, class_weight='balanced', max_iter=1000).fit(X_def, y_train)\n",
    "\n",
    "pred_1 = clf.predict(X_test_1)"
   ]
  },
  {
   "cell_type": "code",
   "execution_count": 17,
   "id": "e5258dc3",
   "metadata": {},
   "outputs": [
    {
     "name": "stdout",
     "output_type": "stream",
     "text": [
      "              precision    recall  f1-score   support\n",
      "\n",
      "         0.0       0.92      0.82      0.87       961\n",
      "         1.0       0.71      0.85      0.77       481\n",
      "\n",
      "    accuracy                           0.83      1442\n",
      "   macro avg       0.81      0.84      0.82      1442\n",
      "weighted avg       0.85      0.83      0.84      1442\n",
      "\n"
     ]
    }
   ],
   "source": [
    "print(classification_report(y_test, pred_1, zero_division=0))"
   ]
  },
  {
   "cell_type": "code",
   "execution_count": 18,
   "id": "50e32628",
   "metadata": {},
   "outputs": [],
   "source": [
    "# а потом на векторах с токенизацией раздела\n",
    "\n",
    "clf = LogisticRegression(C=0.1, class_weight='balanced', max_iter=1000).fit(X_cust, y_train)\n",
    "\n",
    "pred_2 = clf.predict(X_test_2)"
   ]
  },
  {
   "cell_type": "code",
   "execution_count": 19,
   "id": "37f75786",
   "metadata": {},
   "outputs": [
    {
     "name": "stdout",
     "output_type": "stream",
     "text": [
      "              precision    recall  f1-score   support\n",
      "\n",
      "         0.0       0.92      0.83      0.87       961\n",
      "         1.0       0.72      0.85      0.78       481\n",
      "\n",
      "    accuracy                           0.84      1442\n",
      "   macro avg       0.82      0.84      0.82      1442\n",
      "weighted avg       0.85      0.84      0.84      1442\n",
      "\n"
     ]
    }
   ],
   "source": [
    "print(classification_report(y_test, pred_2, zero_division=0))"
   ]
  },
  {
   "cell_type": "markdown",
   "id": "c62c7576-7623-464a-a323-24692b984149",
   "metadata": {},
   "source": [
    "Метрики для обоих классификаторов практически одинаковые. Однако в репорте видно, что классификатор с токенизацией razdel все же чуть лучше по практически каждому параметру."
   ]
  },
  {
   "cell_type": "markdown",
   "id": "1ffa9f76",
   "metadata": {},
   "source": [
    "## Задание 2 (3 балла)"
   ]
  },
  {
   "cell_type": "markdown",
   "id": "5f358949",
   "metadata": {},
   "source": [
    "Преобразуйте таблицу с абсолютными частотностями в семинарской тетрадке в таблицу с tfidf значениями. (Таблица - https://i.ibb.co/r5Nc2HC/abs-bow.jpg) Формула tfidf есть в семинаре на картнике с пояснениями на английском. \n",
    "Считать нужно в питоне. Формат итоговой таблицы может быть любым, главное, чтобы был код и можно было воспроизвести вычисления. "
   ]
  },
  {
   "cell_type": "code",
   "execution_count": null,
   "id": "c5b50abc",
   "metadata": {},
   "outputs": [],
   "source": [
    "# ваш код"
   ]
  },
  {
   "cell_type": "code",
   "execution_count": null,
   "id": "dd1d04ba",
   "metadata": {},
   "outputs": [],
   "source": []
  },
  {
   "cell_type": "code",
   "execution_count": null,
   "id": "a6fdf398",
   "metadata": {},
   "outputs": [],
   "source": []
  },
  {
   "cell_type": "markdown",
   "id": "2f5bc8de",
   "metadata": {},
   "source": [
    "## Задание 3 (2 балла)"
   ]
  },
  {
   "cell_type": "markdown",
   "id": "f8961bbf",
   "metadata": {},
   "source": [
    "Обучите 2 любых разных классификатора из семинара. Предскажите токсичность для текстов из тестовой выборки (используйте одну и ту же выборку для обоих классификаторов) и найдите 10 самых токсичных для каждого из классификаторов. Сравните получаемые тексты - какие тексты совпадают, какие отличаются, правда ли тексты токсичные?"
   ]
  },
  {
   "cell_type": "markdown",
   "id": "b46681ef",
   "metadata": {},
   "source": [
    "Требования к классификаторам:   \n",
    "а) один должен использовать CountVectorizer, другой TfidfVectorizer  \n",
    "б) у векторазера должны быть вручную заданы как минимум 5 параметров  \n",
    "в) у классификатора должно быть задано вручную как минимум 2 параметра  \n",
    "г)  f1 мера каждого из классификаторов должна быть минимум 0.75  "
   ]
  },
  {
   "cell_type": "code",
   "execution_count": 26,
   "id": "ed77d7b1",
   "metadata": {},
   "outputs": [],
   "source": [
    "vect1 = CountVectorizer(max_df=0.6, min_df=8, ngram_range=(1, 2), encoding='utf-8', tokenizer=cust_tokenizer, max_features=8000)\n",
    "vect2 = TfidfVectorizer(max_df=0.4, min_df=6, ngram_range=(1, 2), tokenizer=cust_tokenizer, max_features=6000)\n",
    "\n",
    "X1 = vect1.fit_transform(train.comment)\n",
    "X_test1 = vect1.transform(test.comment) \n",
    "\n",
    "X2 = vect2.fit_transform(train.comment)\n",
    "X_test2 = vect2.transform(test.comment)"
   ]
  },
  {
   "cell_type": "code",
   "execution_count": 31,
   "id": "7cd916f1",
   "metadata": {},
   "outputs": [
    {
     "name": "stdout",
     "output_type": "stream",
     "text": [
      "              precision    recall  f1-score   support\n",
      "\n",
      "         0.0       0.90      0.84      0.87       961\n",
      "         1.0       0.72      0.82      0.77       481\n",
      "\n",
      "    accuracy                           0.83      1442\n",
      "   macro avg       0.81      0.83      0.82      1442\n",
      "weighted avg       0.84      0.83      0.84      1442\n",
      "\n"
     ]
    }
   ],
   "source": [
    "clf = MultinomialNB(alpha=1.0, fit_prior=False)\n",
    "clf.fit(X1, y_train) \n",
    "preds = clf.predict(X_test1)\n",
    "\n",
    "print(classification_report(y_test, preds))"
   ]
  },
  {
   "cell_type": "code",
   "execution_count": 35,
   "id": "90e1cde6",
   "metadata": {},
   "outputs": [
    {
     "name": "stdout",
     "output_type": "stream",
     "text": [
      "              precision    recall  f1-score   support\n",
      "\n",
      "         0.0       0.80      0.83      0.82       961\n",
      "         1.0       0.64      0.59      0.61       481\n",
      "\n",
      "    accuracy                           0.75      1442\n",
      "   macro avg       0.72      0.71      0.72      1442\n",
      "weighted avg       0.75      0.75      0.75      1442\n",
      "\n"
     ]
    }
   ],
   "source": [
    "clf = KNeighborsClassifier(n_neighbors=10, metric='cosine')\n",
    "clf.fit(X2, y_train)\n",
    "preds = clf.predict(X_test2)\n",
    "\n",
    "print(classification_report(y_test, preds))"
   ]
  },
  {
   "cell_type": "code",
   "execution_count": 37,
   "id": "17545353-5816-49c6-80cf-a8f00342d7fe",
   "metadata": {},
   "outputs": [
    {
     "ename": "SyntaxError",
     "evalue": "invalid syntax (3025171876.py, line 7)",
     "output_type": "error",
     "traceback": [
      "\u001b[0;36m  File \u001b[0;32m\"/tmp/ipykernel_35004/3025171876.py\"\u001b[0;36m, line \u001b[0;32m7\u001b[0m\n\u001b[0;31m    sort???[:10]\u001b[0m\n\u001b[0m        ^\u001b[0m\n\u001b[0;31mSyntaxError\u001b[0m\u001b[0;31m:\u001b[0m invalid syntax\n"
     ]
    }
   ],
   "source": [
    "# функция для выделения 10 самых токсичных текстов\n",
    "\n",
    "probs = clf.predict_proba(X_test1)\n",
    "\n",
    "def tox(probs):\n",
    "    probs = [p[1] for p in probs]\n",
    "    sort???[:10]\n",
    "    "
   ]
  },
  {
   "cell_type": "markdown",
   "id": "68324753",
   "metadata": {},
   "source": [
    "## *Задание 4 (2 балла)"
   ]
  },
  {
   "cell_type": "markdown",
   "id": "c7794f97",
   "metadata": {},
   "source": [
    "Для классификаторов LogisticRegression, Decision Trees, Naive Bayes, Random Forest найдите способ извлечь важность признаков для предсказания токсичного класса. Сопоставьте полученные числа со словами (или нграммами) в словаре и найдите топ - 5 \"токсичных\" слов для каждого из классификаторов. \n",
    "\n",
    "Важное требование: в топе не должно быть стоп-слов. Для этого вам нужно будет правильным образом настроить векторизацию."
   ]
  },
  {
   "cell_type": "markdown",
   "id": "3c54b05a-8e4d-4d54-b3d6-987ba4d8d156",
   "metadata": {},
   "source": [
    "## LogisticRegression"
   ]
  },
  {
   "cell_type": "code",
   "execution_count": 49,
   "id": "2640f4b1-ac97-4c0c-a30c-645a10769dba",
   "metadata": {},
   "outputs": [
    {
     "name": "stderr",
     "output_type": "stream",
     "text": [
      "[nltk_data] Downloading package stopwords to /home/daria/nltk_data...\n",
      "[nltk_data]   Unzipping corpora/stopwords.zip.\n"
     ]
    },
    {
     "data": {
      "text/plain": [
       "True"
      ]
     },
     "execution_count": 49,
     "metadata": {},
     "output_type": "execute_result"
    }
   ],
   "source": [
    "import nltk\n",
    "nltk.download('stopwords')"
   ]
  },
  {
   "cell_type": "code",
   "execution_count": 106,
   "id": "eaf9062a",
   "metadata": {},
   "outputs": [],
   "source": [
    "train, test = train_test_split(data, shuffle=True)\n",
    "\n",
    "train = train.reset_index(drop=True)\n",
    "test = test.reset_index(drop=True)\n",
    "\n",
    "y = train.toxic.values\n",
    "y_test = test.toxic.values\n",
    "\n",
    "vectorizer = CountVectorizer(max_df=0.6, min_df=8, ngram_range=(1, 2), max_features=8000, stop_words=stopwords.words('russian'))\n",
    "X = vectorizer.fit_transform(train.comment)\n",
    "X_test = vectorizer.transform(test.comment) \n",
    "\n",
    "clf = LogisticRegression(C=0.1, class_weight='balanced').fit(X, y)\n",
    "\n",
    "importance = clf.coef_[0]"
   ]
  },
  {
   "cell_type": "code",
   "execution_count": 107,
   "id": "53d604a6-8d99-47e1-8907-8e574653ae67",
   "metadata": {},
   "outputs": [],
   "source": [
    "importance = {i: v for i, v in enumerate(importance)}"
   ]
  },
  {
   "cell_type": "code",
   "execution_count": 108,
   "id": "1924fb96-3d6b-4a49-b983-3f765d0c44b5",
   "metadata": {},
   "outputs": [
    {
     "data": {
      "text/plain": [
       "['хохлы', 'хохлов', 'тебе', 'дебил', 'нахуй']"
      ]
     },
     "execution_count": 108,
     "metadata": {},
     "output_type": "execute_result"
    }
   ],
   "source": [
    "[vectorizer.get_feature_names_out()[i] for i, _ in sorted(importance.items(), reverse=True, key=lambda x: x[1])][:5]"
   ]
  },
  {
   "cell_type": "markdown",
   "id": "e9e65353-1261-4e56-a168-642c0ff673f2",
   "metadata": {},
   "source": [
    "## Decision Trees"
   ]
  },
  {
   "cell_type": "code",
   "execution_count": 114,
   "id": "34a3f7ee-0613-4dc8-8125-9f9f5c9d4e38",
   "metadata": {},
   "outputs": [],
   "source": [
    "clf = DecisionTreeClassifier(class_weight='balanced')\n",
    "clf.fit(X, y)\n",
    "\n",
    "importance = {i: v for i, v in enumerate(clf.feature_importances_)}"
   ]
  },
  {
   "cell_type": "code",
   "execution_count": 115,
   "id": "1a971202-30dd-487b-9a3b-87615e906ee5",
   "metadata": {},
   "outputs": [
    {
     "data": {
      "text/plain": [
       "['тебе', 'хохлы', 'очень', 'нахуй', 'хохлов']"
      ]
     },
     "execution_count": 115,
     "metadata": {},
     "output_type": "execute_result"
    }
   ],
   "source": [
    "[vectorizer.get_feature_names_out()[i] for i, _ in sorted(importance.items(), reverse=True, key=lambda x: x[1])][:5]"
   ]
  },
  {
   "cell_type": "markdown",
   "id": "f26abf6d-c7f5-4dc8-91fc-832064fb0d82",
   "metadata": {},
   "source": [
    "## Naive Bayes"
   ]
  },
  {
   "cell_type": "code",
   "execution_count": 150,
   "id": "da9b9ee4-e5bd-4d6e-8ae3-512736dba8ba",
   "metadata": {},
   "outputs": [
    {
     "name": "stderr",
     "output_type": "stream",
     "text": [
      "/home/daria/.local/lib/python3.9/site-packages/sklearn/utils/deprecation.py:103: FutureWarning: Attribute `coef_` was deprecated in version 0.24 and will be removed in 1.1 (renaming of 0.26).\n",
      "  warnings.warn(msg, category=FutureWarning)\n"
     ]
    }
   ],
   "source": [
    "vectorizer = TfidfVectorizer(max_df=0.6, min_df=8, ngram_range=(1, 2), max_features=8000, stop_words=stopwords.words('russian'))\n",
    "X = vectorizer.fit_transform(train.comment)\n",
    "X_test = vectorizer.transform(test.comment) \n",
    "\n",
    "clf = MultinomialNB(alpha=1.2, fit_prior=False)\n",
    "clf.fit(X, y)\n",
    "\n",
    "importance = {i: v for i, v in enumerate(clf.coef_[0])}"
   ]
  },
  {
   "cell_type": "code",
   "execution_count": 151,
   "id": "2d76eea5-3b8d-43b0-8e68-2d7030e10a47",
   "metadata": {},
   "outputs": [
    {
     "data": {
      "text/plain": [
       "['это', 'тебе', 'просто', 'хохлы', 'почему']"
      ]
     },
     "execution_count": 151,
     "metadata": {},
     "output_type": "execute_result"
    }
   ],
   "source": [
    "[vectorizer.get_feature_names_out()[i] for i, _ in sorted(importance.items(), reverse=True, key=lambda x: x[1])][:5]"
   ]
  },
  {
   "cell_type": "markdown",
   "id": "e03c9bed-e0ce-4b3b-b056-7a6bd8a90506",
   "metadata": {},
   "source": [
    "## Random Forest"
   ]
  },
  {
   "cell_type": "code",
   "execution_count": 153,
   "id": "29359c26-c433-45ed-8466-c23b87617eef",
   "metadata": {},
   "outputs": [],
   "source": [
    "vectorizer = TfidfVectorizer(max_df=0.6, min_df=8, ngram_range=(1, 2), max_features=8000, stop_words=stopwords.words('russian'))\n",
    "X = vectorizer.fit_transform(train.comment)\n",
    "X_test = vectorizer.transform(test.comment) \n",
    "\n",
    "clf = RandomForestClassifier(class_weight='balanced')\n",
    "clf.fit(X, y)\n",
    "\n",
    "importance = {i: v for i, v in enumerate(clf.feature_importances_)}"
   ]
  },
  {
   "cell_type": "code",
   "execution_count": 154,
   "id": "78ce4fde-2b96-43ee-8144-c842f4b0384b",
   "metadata": {},
   "outputs": [
    {
     "data": {
      "text/plain": [
       "['это', 'очень', 'тебе', 'хохлы', 'хохлов']"
      ]
     },
     "execution_count": 154,
     "metadata": {},
     "output_type": "execute_result"
    }
   ],
   "source": [
    "[vectorizer.get_feature_names_out()[i] for i, _ in sorted(importance.items(), reverse=True, key=lambda x: x[1])][:5]"
   ]
  },
  {
   "cell_type": "code",
   "execution_count": null,
   "id": "664088c1-8e89-4e3b-a047-0d629262e34c",
   "metadata": {},
   "outputs": [],
   "source": []
  }
 ],
 "metadata": {
  "kernelspec": {
   "display_name": "Python 3 (ipykernel)",
   "language": "python",
   "name": "python3"
  },
  "language_info": {
   "codemirror_mode": {
    "name": "ipython",
    "version": 3
   },
   "file_extension": ".py",
   "mimetype": "text/x-python",
   "name": "python",
   "nbconvert_exporter": "python",
   "pygments_lexer": "ipython3",
   "version": "3.9.5"
  }
 },
 "nbformat": 4,
 "nbformat_minor": 5
}

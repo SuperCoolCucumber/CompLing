{
 "cells": [
  {
   "cell_type": "markdown",
   "id": "6af66482",
   "metadata": {},
   "source": [
    "#### Важное требование ко всей домашке в целом: в jupyter ноутбуке не должно был лишнего кода (т.е. если вы взяли за основу семинар, не забудьте удалить все лишнее)"
   ]
  },
  {
   "cell_type": "code",
   "execution_count": 1,
   "id": "1aed5eae",
   "metadata": {},
   "outputs": [
    {
     "name": "stderr",
     "output_type": "stream",
     "text": [
      "2022-01-27 16:34:13.662677: W tensorflow/stream_executor/platform/default/dso_loader.cc:64] Could not load dynamic library 'libcudart.so.11.0'; dlerror: libcudart.so.11.0: cannot open shared object file: No such file or directory\n",
      "2022-01-27 16:34:13.662742: I tensorflow/stream_executor/cuda/cudart_stub.cc:29] Ignore above cudart dlerror if you do not have a GPU set up on your machine.\n"
     ]
    }
   ],
   "source": [
    "import tensorflow as tf\n",
    "import numpy as np\n",
    "import pandas as pd\n",
    "from string import punctuation\n",
    "from sklearn.model_selection import train_test_split\n",
    "from collections import Counter\n",
    "import matplotlib.pyplot as plt\n",
    "from sklearn.decomposition import TruncatedSVD\n",
    "from sklearn.feature_extraction.text import CountVectorizer\n",
    "from sklearn.metrics.pairwise import cosine_distances"
   ]
  },
  {
   "cell_type": "code",
   "execution_count": 2,
   "id": "0ff0edb5-a479-4ce5-83bd-4993e63767fe",
   "metadata": {},
   "outputs": [],
   "source": [
    "wiki = open('wiki_data.txt').read().split('\\n')"
   ]
  },
  {
   "cell_type": "code",
   "execution_count": 43,
   "id": "ed908832",
   "metadata": {
    "tags": []
   },
   "outputs": [],
   "source": [
    "cv = CountVectorizer(max_features=10000)\n",
    "svd = TruncatedSVD(200)\n",
    "\n",
    "X = cv.fit_transform(wiki)\n",
    "X_svd = svd.fit_transform(X)\n",
    "\n",
    "embeddings = svd.components_.T\n",
    "\n",
    "id2word = cv.get_feature_names_out()\n",
    "word2id = {word:i for i,word in enumerate(id2word)}\n",
    "\n",
    "def most_similar(word, embeddings):\n",
    "    similar = [id2word[i] for i in \n",
    "               cosine_distances(embeddings[word2id[word]].reshape(1, -1), embeddings).argsort()[0][:10]]\n",
    "    return similar"
   ]
  },
  {
   "cell_type": "code",
   "execution_count": 6,
   "id": "6a6a3d16-6b0e-45f8-9ea4-5ecbbd7c8658",
   "metadata": {},
   "outputs": [],
   "source": [
    "import nltk\n",
    "from nltk.corpus import stopwords\n",
    "from pymystem3 import Mystem\n",
    "from string import punctuation"
   ]
  },
  {
   "cell_type": "code",
   "execution_count": 7,
   "id": "2c40fa06-6e60-4882-b8fe-2ef14605ddfc",
   "metadata": {},
   "outputs": [],
   "source": [
    "mystem = Mystem() \n",
    "russian_stopwords = stopwords.words(\"russian\")"
   ]
  },
  {
   "cell_type": "markdown",
   "id": "9c422aa0",
   "metadata": {},
   "source": [
    "# Задание 1 (3 балла)"
   ]
  },
  {
   "cell_type": "markdown",
   "id": "e4a72790",
   "metadata": {},
   "source": [
    "Обучите word2vec модели с негативным семплированием (cbow и skip-gram) с помощью tensorflow аналогично тому, как это было сделано в семинаре. Вам нужно изменить следующие пункты: \n",
    "1) добавьте лемматизацию в предобработку (любым способом)  \n",
    "2) измените размер окна на 6 для cbow и 12 для skip gram (обратите внимание, что размер окна = #слов слева + #слов справа, в gen_batches в семинаре window не так используется)  \n",
    "3) измените часть с np.random.randint(vocab_size) так, чтобы случайные негативные примеры выбирались обратно пропорционально частотностям слов (частотные должны выбираться реже, а редкие чаще)\n",
    "\n",
    "Выберете несколько не похожих по смыслу слов, и протестируйте полученные эмбединги (найдите ближайшие слова и оцените правильность, как в семинаре)"
   ]
  },
  {
   "cell_type": "code",
   "execution_count": 8,
   "id": "cde5fd96",
   "metadata": {},
   "outputs": [],
   "source": [
    "# лемматизация тута здеся\n",
    "\n",
    "def preprocess(text):\n",
    "    tokens = mystem.lemmatize(text.lower())\n",
    "    tokens = [token for token in tokens if token not in russian_stopwords\\\n",
    "              and token != \" \" \\\n",
    "              and token.strip() not in punctuation]\n",
    "    \n",
    "    text = \" \".join(tokens)\n",
    "    \n",
    "    return tokens"
   ]
  },
  {
   "cell_type": "code",
   "execution_count": 9,
   "id": "4f71d7cb",
   "metadata": {
    "tags": []
   },
   "outputs": [],
   "source": [
    "vocab = Counter()\n",
    "\n",
    "for text in wiki:\n",
    "    vocab.update(preprocess(text))"
   ]
  },
  {
   "cell_type": "code",
   "execution_count": 10,
   "id": "613f3a73-e4f4-40e1-994b-68b99c2fe950",
   "metadata": {},
   "outputs": [],
   "source": [
    "filtered_vocab = []\n",
    "\n",
    "for word in vocab:\n",
    "    if vocab[word] > 30:\n",
    "        filtered_vocab.append(word)"
   ]
  },
  {
   "cell_type": "code",
   "execution_count": 11,
   "id": "27e4d5d3-5cce-4771-9aef-8e1b17527734",
   "metadata": {},
   "outputs": [],
   "source": [
    "word2id = { 'PAD':0}\n",
    "\n",
    "for word in filtered_vocab:\n",
    "    word2id[word] = len(word2id)\n",
    "    \n",
    "    \n",
    "id2word = {i:word for word, i in word2id.items()}"
   ]
  },
  {
   "cell_type": "code",
   "execution_count": 12,
   "id": "9266c6e9-6638-40a9-8a5f-9f928ad3a4f6",
   "metadata": {},
   "outputs": [],
   "source": [
    "sentences = []\n",
    "\n",
    "for text in wiki:\n",
    "    tokens = preprocess(text)\n",
    "    ids = [word2id[token] for token in tokens if token in word2id]\n",
    "    sentences.append(ids)"
   ]
  },
  {
   "cell_type": "code",
   "execution_count": 13,
   "id": "d63de742-40e4-4144-b54a-29a06869c391",
   "metadata": {},
   "outputs": [],
   "source": [
    "vocab_size = len(id2word)\n",
    "\n",
    "# вероятности посчитаны так\n",
    "num_occur = sum(vocab[i] for i in filtered_vocab)\n",
    "probs = [vocab[i] / num_occur for i in filtered_vocab]"
   ]
  },
  {
   "cell_type": "markdown",
   "id": "1bb36598-7fe6-4e6c-8881-1a97e3aa95f9",
   "metadata": {},
   "source": [
    "### Skip-gram"
   ]
  },
  {
   "cell_type": "code",
   "execution_count": 14,
   "id": "681a3c3e-0127-468f-80d1-02faa5ddd7e6",
   "metadata": {},
   "outputs": [],
   "source": [
    "def gen_batches_sg(sentences, window, use_ns, batch_size=1000): # здеся добавлен аргумент use_ns (типа если хочу negative sampling)\n",
    "    while True:\n",
    "        X_target = []\n",
    "        X_context = []\n",
    "        y = []\n",
    "\n",
    "        for sent in sentences:\n",
    "            for i in range(len(sent)-1):\n",
    "                word = sent[i]\n",
    "                context = sent[max(0, i-window):i] + sent[i+1:i+window]\n",
    "                for context_word in context:\n",
    "                    X_target.append(word)\n",
    "                    X_context.append(context_word)\n",
    "                    y.append(1)\n",
    "                    \n",
    "                    if use_ns == True: # а это отдельный if statement для негативного семплирования\n",
    "                        X_target.append(word)\n",
    "                        X_context.append(word2id[np.random.choice(filtered_vocab, p=probs)])\n",
    "                        y.append(0)\n",
    "                    else:\n",
    "                        X_target.append(word)\n",
    "                        X_context.append(np.random.randint(vocab_size))\n",
    "                        y.append(0)\n",
    "                    \n",
    "                    if len(X_target) >= batch_size:\n",
    "                        X_target = np.array(X_target)\n",
    "                        X_context = np.array(X_context)\n",
    "                        y = np.array(y)\n",
    "                        yield ((X_target, X_context), y)\n",
    "                        X_target = []\n",
    "                        X_context = []\n",
    "                        y = []"
   ]
  },
  {
   "cell_type": "code",
   "execution_count": 15,
   "id": "e21151ff-c750-4526-981c-82702cf437fb",
   "metadata": {},
   "outputs": [
    {
     "name": "stderr",
     "output_type": "stream",
     "text": [
      "2022-01-27 16:41:00.852123: I tensorflow/stream_executor/cuda/cuda_gpu_executor.cc:939] successful NUMA node read from SysFS had negative value (-1), but there must be at least one NUMA node, so returning NUMA node zero\n",
      "2022-01-27 16:41:00.852487: W tensorflow/stream_executor/platform/default/dso_loader.cc:64] Could not load dynamic library 'libcudart.so.11.0'; dlerror: libcudart.so.11.0: cannot open shared object file: No such file or directory\n",
      "2022-01-27 16:41:00.852545: W tensorflow/stream_executor/platform/default/dso_loader.cc:64] Could not load dynamic library 'libcublas.so.11'; dlerror: libcublas.so.11: cannot open shared object file: No such file or directory\n",
      "2022-01-27 16:41:00.852592: W tensorflow/stream_executor/platform/default/dso_loader.cc:64] Could not load dynamic library 'libcublasLt.so.11'; dlerror: libcublasLt.so.11: cannot open shared object file: No such file or directory\n",
      "2022-01-27 16:41:00.852640: W tensorflow/stream_executor/platform/default/dso_loader.cc:64] Could not load dynamic library 'libcufft.so.10'; dlerror: libcufft.so.10: cannot open shared object file: No such file or directory\n",
      "2022-01-27 16:41:00.852687: W tensorflow/stream_executor/platform/default/dso_loader.cc:64] Could not load dynamic library 'libcurand.so.10'; dlerror: libcurand.so.10: cannot open shared object file: No such file or directory\n",
      "2022-01-27 16:41:00.852732: W tensorflow/stream_executor/platform/default/dso_loader.cc:64] Could not load dynamic library 'libcusolver.so.11'; dlerror: libcusolver.so.11: cannot open shared object file: No such file or directory\n",
      "2022-01-27 16:41:00.852774: W tensorflow/stream_executor/platform/default/dso_loader.cc:64] Could not load dynamic library 'libcusparse.so.11'; dlerror: libcusparse.so.11: cannot open shared object file: No such file or directory\n",
      "2022-01-27 16:41:00.852817: W tensorflow/stream_executor/platform/default/dso_loader.cc:64] Could not load dynamic library 'libcudnn.so.8'; dlerror: libcudnn.so.8: cannot open shared object file: No such file or directory\n",
      "2022-01-27 16:41:00.852827: W tensorflow/core/common_runtime/gpu/gpu_device.cc:1850] Cannot dlopen some GPU libraries. Please make sure the missing libraries mentioned above are installed properly if you would like to use GPU. Follow the guide at https://www.tensorflow.org/install/gpu for how to download and setup the required libraries for your platform.\n",
      "Skipping registering GPU devices...\n",
      "2022-01-27 16:41:00.853216: I tensorflow/core/platform/cpu_feature_guard.cc:151] This TensorFlow binary is optimized with oneAPI Deep Neural Network Library (oneDNN) to use the following CPU instructions in performance-critical operations:  AVX2 FMA\n",
      "To enable them in other operations, rebuild TensorFlow with the appropriate compiler flags.\n"
     ]
    }
   ],
   "source": [
    "inputs_target = tf.keras.layers.Input(shape=(1,))\n",
    "inputs_context = tf.keras.layers.Input(shape=(1,))\n",
    "\n",
    "\n",
    "embeddings_target = tf.keras.layers.Embedding(input_dim=len(word2id), output_dim=300)(inputs_target, )\n",
    "embeddings_context = tf.keras.layers.Embedding(input_dim=len(word2id), output_dim=300)(inputs_context, )\n",
    "\n",
    "target = tf.keras.layers.Flatten()(embeddings_target)\n",
    "context = tf.keras.layers.Flatten()(embeddings_context)\n",
    "\n",
    "dot = tf.keras.layers.Dot(1)([target, context])\n",
    "outputs = tf.keras.layers.Activation(activation='sigmoid')(dot)\n",
    "\n",
    "model = tf.keras.Model(inputs=[inputs_target, inputs_context], \n",
    "                       outputs=outputs)\n",
    "optimizer = tf.keras.optimizers.Adam(learning_rate=0.001)\n",
    "model.compile(optimizer=optimizer,\n",
    "              loss='binary_crossentropy',\n",
    "              metrics=['accuracy'])"
   ]
  },
  {
   "cell_type": "code",
   "execution_count": 16,
   "id": "f7e154ad-bf17-4b4c-98de-6843eb5d5ed2",
   "metadata": {},
   "outputs": [
    {
     "name": "stdout",
     "output_type": "stream",
     "text": [
      "Epoch 1/2\n",
      "1000/1000 [==============================] - 1015s 1s/step - loss: 0.6849 - accuracy: 0.5488 - val_loss: 0.6948 - val_accuracy: 0.5107\n",
      "Epoch 2/2\n",
      "1000/1000 [==============================] - 1056s 1s/step - loss: 0.6688 - accuracy: 0.5701 - val_loss: 0.6866 - val_accuracy: 0.5344\n"
     ]
    },
    {
     "data": {
      "text/plain": [
       "<keras.callbacks.History at 0x7f3b10a20e20>"
      ]
     },
     "execution_count": 16,
     "metadata": {},
     "output_type": "execute_result"
    }
   ],
   "source": [
    "model.fit(gen_batches_sg(sentences[:19000], window=12, use_ns=True),\n",
    "          validation_data=gen_batches_sg(sentences[19000:],  window=12, use_ns=True),\n",
    "          batch_size=10000,\n",
    "          steps_per_epoch=1000,\n",
    "          validation_steps=30,\n",
    "         epochs=2)"
   ]
  },
  {
   "cell_type": "code",
   "execution_count": 20,
   "id": "882f4c9c-f5ec-42bb-a63a-c8ccff5b37a0",
   "metadata": {},
   "outputs": [],
   "source": [
    "embeddings_sg = model.layers[2].get_weights()[0]"
   ]
  },
  {
   "cell_type": "markdown",
   "id": "84a2d448-8c63-48b2-908d-687f226ae314",
   "metadata": {},
   "source": [
    "### CBOW"
   ]
  },
  {
   "cell_type": "code",
   "execution_count": 24,
   "id": "a021ae78-90e9-456f-b38e-af3506f41e86",
   "metadata": {
    "tags": []
   },
   "outputs": [],
   "source": [
    "def gen_batches_cbow(sentences, window, use_ns, batch_size=1000): # здеся добавлен аргумент use_ns (типа если хочу negative sampling)\n",
    "    while True:\n",
    "        X_target = []\n",
    "        X_context = []\n",
    "        y = []\n",
    "\n",
    "        for sent in sentences:\n",
    "            for i in range(len(sent)-1):\n",
    "                word = sent[i]\n",
    "                context = sent[max(0, i-window):i] + sent[i+1:i+window]\n",
    "\n",
    "                X_target.append(word)\n",
    "                X_context.append(context)\n",
    "                y.append(1)\n",
    "                \n",
    "                if use_ns == True: # а это отдельный if statement для негативного семплирования\n",
    "                    X_target.append(word2id[np.random.choice(filtered_vocab, p=probs)])\n",
    "                    X_context.append(context)\n",
    "                    y.append(0)\n",
    "                else:\n",
    "                    X_target.append(word)\n",
    "                    X_context.append(np.random.randint(vocab_size))\n",
    "                    y.append(0)\n",
    "\n",
    "                if len(X_target) == batch_size:\n",
    "                    X_target = np.array(X_target)\n",
    "                    X_context = tf.keras.preprocessing.sequence.pad_sequences(X_context, maxlen=window*2)\n",
    "                    y = np.array(y)\n",
    "                    yield ((X_target, X_context), y)\n",
    "                    X_target = []\n",
    "                    X_context = []\n",
    "                    y = []"
   ]
  },
  {
   "cell_type": "code",
   "execution_count": 25,
   "id": "93201a85-31b1-495d-abfb-30e97e27eff1",
   "metadata": {},
   "outputs": [],
   "source": [
    "inputs_target = tf.keras.layers.Input(shape=(1,))\n",
    "inputs_context = tf.keras.layers.Input(shape=(10,))\n",
    "\n",
    "\n",
    "embeddings_target = tf.keras.layers.Embedding(input_dim=len(word2id), output_dim=300)(inputs_target, )\n",
    "embeddings_context = tf.keras.layers.Embedding(input_dim=len(word2id), output_dim=300)(inputs_context, )\n",
    "\n",
    "target = tf.keras.layers.Flatten()(embeddings_target)\n",
    "context = tf.keras.layers.Lambda(lambda x: tf.keras.backend.sum(x, axis=1))(embeddings_context)\n",
    "dot = tf.keras.layers.Dot(1)([target, context])\n",
    "\n",
    "# полученную близость нужно преобразовать в вероятность\n",
    "# когда она одна используется не софтмакс и сигмоида\n",
    "outputs = tf.keras.layers.Activation(activation='sigmoid')(dot)\n",
    "\n",
    "model = tf.keras.Model(inputs=[inputs_target, inputs_context], \n",
    "                       outputs=outputs)\n",
    "\n",
    "\n",
    "optimizer = tf.keras.optimizers.Adam(learning_rate=0.001)\n",
    "model.compile(optimizer=optimizer,\n",
    "              loss='binary_crossentropy',\n",
    "              metrics=['accuracy'])"
   ]
  },
  {
   "cell_type": "code",
   "execution_count": 26,
   "id": "9b243e6e-bcc0-4943-b73f-6822dd2ef66a",
   "metadata": {},
   "outputs": [
    {
     "name": "stdout",
     "output_type": "stream",
     "text": [
      "Epoch 1/2\n",
      "5000/5000 [==============================] - 5412s 1s/step - loss: 0.5013 - accuracy: 0.7473 - val_loss: 0.4211 - val_accuracy: 0.8057\n",
      "Epoch 2/2\n",
      "5000/5000 [==============================] - 5924s 1s/step - loss: 0.3951 - accuracy: 0.8209 - val_loss: 0.3965 - val_accuracy: 0.8187\n"
     ]
    },
    {
     "data": {
      "text/plain": [
       "<keras.callbacks.History at 0x7f3acd7ce7c0>"
      ]
     },
     "execution_count": 26,
     "metadata": {},
     "output_type": "execute_result"
    }
   ],
   "source": [
    "model.fit(gen_batches_cbow(sentences[:19000], window=6, use_ns=True),\n",
    "          validation_data=gen_batches_cbow(sentences[19000:],  window=6, use_ns=True),\n",
    "          batch_size=1000,\n",
    "          steps_per_epoch=5000,\n",
    "          validation_steps=30,\n",
    "         epochs=2)"
   ]
  },
  {
   "cell_type": "code",
   "execution_count": 27,
   "id": "d6d8dcb9-deaa-46e7-a07e-79aff45c6fb7",
   "metadata": {},
   "outputs": [],
   "source": [
    "embeddings_cbow = model.layers[2].get_weights()[0]"
   ]
  },
  {
   "cell_type": "markdown",
   "id": "a09e5134-0d48-4296-84f8-1dacaf133b61",
   "metadata": {},
   "source": [
    "### Тестирование"
   ]
  },
  {
   "cell_type": "code",
   "execution_count": 44,
   "id": "49eb42fa-d64f-4404-8b94-03547bcbddb1",
   "metadata": {},
   "outputs": [
    {
     "data": {
      "text/plain": [
       "['больница',\n",
       " 'бронзовым',\n",
       " 'берегах',\n",
       " 'андреа',\n",
       " 'лицом',\n",
       " 'выполнении',\n",
       " 'близких',\n",
       " 'архитектора',\n",
       " 'дивизию',\n",
       " 'войн']"
      ]
     },
     "execution_count": 44,
     "metadata": {},
     "output_type": "execute_result"
    }
   ],
   "source": [
    "most_similar('больница', embeddings_sg)"
   ]
  },
  {
   "cell_type": "code",
   "execution_count": 45,
   "id": "aee22406-2d71-487b-b45e-6ea984c6884a",
   "metadata": {},
   "outputs": [
    {
     "data": {
      "text/plain": [
       "['больница',\n",
       " 'ата',\n",
       " 'предотвратить',\n",
       " 'больнице',\n",
       " '1907',\n",
       " '1914',\n",
       " 'был',\n",
       " 'предположение',\n",
       " 'практика',\n",
       " 'бронзовым']"
      ]
     },
     "execution_count": 45,
     "metadata": {},
     "output_type": "execute_result"
    }
   ],
   "source": [
    "most_similar('больница', embeddings_cbow)"
   ]
  },
  {
   "cell_type": "code",
   "execution_count": 65,
   "id": "144c0416-4c0f-48f3-8c30-21d9637bef3c",
   "metadata": {},
   "outputs": [
    {
     "data": {
      "text/plain": [
       "['небо',\n",
       " 'госпиталь',\n",
       " 'иоанном',\n",
       " 'игре',\n",
       " 'знаком',\n",
       " 'игрового',\n",
       " '36',\n",
       " '99',\n",
       " 'души',\n",
       " 'говорит']"
      ]
     },
     "execution_count": 65,
     "metadata": {},
     "output_type": "execute_result"
    }
   ],
   "source": [
    "most_similar('небо', embeddings_sg)"
   ]
  },
  {
   "cell_type": "code",
   "execution_count": 66,
   "id": "638921e9-c717-4237-a14c-016846476756",
   "metadata": {},
   "outputs": [
    {
     "data": {
      "text/plain": [
       "['небо',\n",
       " 'направлению',\n",
       " 'восточном',\n",
       " 'раз',\n",
       " 'требуется',\n",
       " 'имеющих',\n",
       " 'продюсером',\n",
       " 'говорит',\n",
       " 'общественного',\n",
       " 'составлял']"
      ]
     },
     "execution_count": 66,
     "metadata": {},
     "output_type": "execute_result"
    }
   ],
   "source": [
    "most_similar('небо', embeddings_cbow)"
   ]
  },
  {
   "cell_type": "code",
   "execution_count": 81,
   "id": "9cfba4be-0faf-4de8-99b8-6cbb319b4052",
   "metadata": {},
   "outputs": [
    {
     "data": {
      "text/plain": [
       "['общество',\n",
       " 'обществом',\n",
       " 'орган',\n",
       " 'переезжает',\n",
       " 'dvd',\n",
       " 'альбоме',\n",
       " 'пожара',\n",
       " '1000',\n",
       " '1921',\n",
       " 'обращается']"
      ]
     },
     "execution_count": 81,
     "metadata": {},
     "output_type": "execute_result"
    }
   ],
   "source": [
    "most_similar('общество', embeddings_sg)"
   ]
  },
  {
   "cell_type": "code",
   "execution_count": 80,
   "id": "59697513-8568-4828-a883-10d2f470e2c8",
   "metadata": {},
   "outputs": [
    {
     "data": {
      "text/plain": [
       "['общество',\n",
       " 'племени',\n",
       " 'принимают',\n",
       " 'полюса',\n",
       " 'рода',\n",
       " 'ленинграде',\n",
       " 'равно',\n",
       " 'сил',\n",
       " 'племён',\n",
       " 'швейцарии']"
      ]
     },
     "execution_count": 80,
     "metadata": {},
     "output_type": "execute_result"
    }
   ],
   "source": [
    "most_similar('общество', embeddings_cbow)"
   ]
  },
  {
   "cell_type": "markdown",
   "id": "e25b12a9-e404-456f-b0a7-3ab745c778a6",
   "metadata": {},
   "source": [
    "Оказалось, что вообще все мимо. Только потом заметила, что окно пополам не поделила. Запомню на будущее."
   ]
  },
  {
   "cell_type": "markdown",
   "id": "c3b61b7c",
   "metadata": {
    "tags": []
   },
   "source": [
    "# Задание 2 (3 балла)"
   ]
  },
  {
   "cell_type": "markdown",
   "id": "66eff080",
   "metadata": {},
   "source": [
    "Обучите 1 word2vec и 1 fastext модель в gensim. В каждой из модели нужно задать все параметры, которые мы разбирали на семинаре. Заданные значения должны отличаться от дефолтных и от тех, что мы использовали на семинаре."
   ]
  },
  {
   "cell_type": "code",
   "execution_count": 28,
   "id": "986c2018",
   "metadata": {},
   "outputs": [],
   "source": [
    "import gensim"
   ]
  },
  {
   "cell_type": "code",
   "execution_count": 31,
   "id": "e5035bdc",
   "metadata": {},
   "outputs": [],
   "source": [
    "texts = [preprocess(text) for text in wiki]"
   ]
  },
  {
   "cell_type": "code",
   "execution_count": 37,
   "id": "3ee20262-e3c9-41cd-847e-bc5f8408e148",
   "metadata": {},
   "outputs": [
    {
     "name": "stdout",
     "output_type": "stream",
     "text": [
      "CPU times: user 1min 8s, sys: 193 ms, total: 1min 8s\n",
      "Wall time: 25.1 s\n"
     ]
    }
   ],
   "source": [
    "%%time\n",
    "w2v = gensim.models.Word2Vec(texts,\n",
    "                            vector_size=100,\n",
    "                            min_count=10,\n",
    "                            max_vocab_size=None,\n",
    "                            window=7,\n",
    "                            epochs=10,\n",
    "                            hs=1,\n",
    "                            negative=0,\n",
    "                            sample=0.0001,\n",
    "                            cbow_mean=0)"
   ]
  },
  {
   "cell_type": "code",
   "execution_count": 38,
   "id": "eeb78161-03c7-42b6-87aa-ba0dbd8aa97c",
   "metadata": {},
   "outputs": [
    {
     "name": "stdout",
     "output_type": "stream",
     "text": [
      "CPU times: user 6min 2s, sys: 366 ms, total: 6min 2s\n",
      "Wall time: 2min 5s\n"
     ]
    }
   ],
   "source": [
    "%%time\n",
    "ft = gensim.models.FastText(texts,\n",
    "                            vector_size=100,\n",
    "                            min_count=10,\n",
    "                            max_vocab_size=None,\n",
    "                            window=7,\n",
    "                            epochs=10,\n",
    "                            hs=1,\n",
    "                            negative=0,\n",
    "                            sample=0.0001,\n",
    "                            min_n=4,\n",
    "                            max_n=8)"
   ]
  },
  {
   "cell_type": "markdown",
   "id": "e4bb928c",
   "metadata": {},
   "source": [
    "# Задание 3 (4 балла)"
   ]
  },
  {
   "cell_type": "markdown",
   "id": "3019b0d1",
   "metadata": {},
   "source": [
    "Используя датасет для классификации (labeled.csv) и простую нейронную сеть (последняя модель в семинаре), оцените качество полученных эмбедингов в задании 1 и 2 (4 набора эмбедингов), также проверьте 1 любую из предобученных моделей с rus-vectores (но только не tayga_upos_skipgram_300_2_2019). \n",
    "Какая модель показывает наилучший результат?\n",
    "\n",
    "Убедитесь, что для каждой модели вы корректно воспроизводите пайплайн предобработки (в 1 задании у вас лемматизация, не забудьте ее применить к датасету для классификации; у выбранной предобученной модели может быть своя специфичная предобработка - ее нужно воспроизвести)"
   ]
  },
  {
   "cell_type": "markdown",
   "id": "32c05b56-9d75-45f0-b714-b191032de119",
   "metadata": {},
   "source": [
    "Выбранная модель -- ruwikiruscorpora_upos_cbow_300_10_2021"
   ]
  },
  {
   "cell_type": "code",
   "execution_count": 82,
   "id": "60c18c5a",
   "metadata": {},
   "outputs": [],
   "source": [
    "model = gensim.models.KeyedVectors.load_word2vec_format('model.bin', binary=True)"
   ]
  },
  {
   "cell_type": "code",
   "execution_count": 86,
   "id": "78429d22-1fe7-47ff-94f1-a9386fc22911",
   "metadata": {},
   "outputs": [],
   "source": [
    "data = pd.read_csv('labeled.csv')\n",
    "data['norm_text'] = data.comment.apply(preprocess)"
   ]
  },
  {
   "cell_type": "code",
   "execution_count": 88,
   "id": "8e40f97a-605d-4a9f-9a74-f7d15a86b2e7",
   "metadata": {},
   "outputs": [
    {
     "data": {
      "text/plain": [
       "6220"
      ]
     },
     "execution_count": 88,
     "metadata": {},
     "output_type": "execute_result"
    }
   ],
   "source": [
    "vocab = Counter()\n",
    "\n",
    "for text in data['norm_text']:\n",
    "    vocab.update(text)\n",
    "    \n",
    "filtered_vocab = set()\n",
    "\n",
    "for word in vocab:\n",
    "    if vocab[word] > 5:\n",
    "        filtered_vocab.add(word)\n",
    "\n",
    "len(filtered_vocab)"
   ]
  },
  {
   "cell_type": "code",
   "execution_count": 89,
   "id": "47d908a2-e866-4588-ae26-a21eeebb286f",
   "metadata": {},
   "outputs": [],
   "source": [
    "word2id = { 'PAD':0}\n",
    "\n",
    "for word in filtered_vocab:\n",
    "    word2id[word] = len(word2id)\n",
    "id2word = {i:word for word, i in word2id.items()}"
   ]
  },
  {
   "cell_type": "code",
   "execution_count": 90,
   "id": "b2c5ba75-1c5d-4153-92da-fe5d0c63f6d7",
   "metadata": {},
   "outputs": [],
   "source": [
    "X = []\n",
    "\n",
    "for tokens in data['norm_text']:\n",
    "    ids = [word2id[token] for token in tokens if token in word2id]\n",
    "    X.append(ids)"
   ]
  },
  {
   "cell_type": "code",
   "execution_count": 91,
   "id": "a0547ca6-395c-4569-9f40-6aba0c78828c",
   "metadata": {},
   "outputs": [],
   "source": [
    "X = tf.keras.preprocessing.sequence.pad_sequences(X, maxlen=100)\n",
    "y = data.toxic.values"
   ]
  },
  {
   "cell_type": "code",
   "execution_count": 92,
   "id": "6c1006a0-d208-4409-933f-9ceea608394b",
   "metadata": {},
   "outputs": [],
   "source": [
    "X_train, X_valid, y_train, y_valid = train_test_split(X, y, test_size=0.05)\n"
   ]
  },
  {
   "cell_type": "code",
   "execution_count": 93,
   "id": "f871c82f-0686-48da-885d-49d2f11ea8f8",
   "metadata": {},
   "outputs": [],
   "source": [
    "inputs = tf.keras.layers.Input(shape=(100,))\n",
    "\n",
    "embeddings = tf.keras.layers.Embedding(input_dim=len(word2id), output_dim=100)(inputs, )\n",
    "# embedding слой возвращает последовательность векторов\n",
    "# а нам нужно классифицировать сразу весь текст\n",
    "# стандартный подход в этом случае - усреднить единичные вектора в 1 вектор текста\n",
    "mean = tf.keras.layers.Lambda(lambda x: tf.keras.backend.mean(x,  axis=1))(embeddings)\n",
    "# к усредненному вектору мы уже применяем полносвязный слой, который вернет вероятность токсичности\n",
    "outputs = tf.keras.layers.Dense(1, activation='sigmoid')(mean)\n",
    "\n",
    "model = tf.keras.Model(inputs=inputs, outputs=outputs)\n",
    "optimizer = tf.keras.optimizers.Adam()\n",
    "model.compile(optimizer=optimizer,\n",
    "              loss='binary_crossentropy',\n",
    "              metrics=['accuracy'])"
   ]
  },
  {
   "cell_type": "code",
   "execution_count": 94,
   "id": "d271172e-9a08-4433-8483-1c02a7f1188c",
   "metadata": {},
   "outputs": [
    {
     "name": "stdout",
     "output_type": "stream",
     "text": [
      "Epoch 1/10\n",
      "428/428 [==============================] - 3s 7ms/step - loss: 0.6268 - accuracy: 0.6643 - val_loss: 0.5982 - val_accuracy: 0.6630\n",
      "Epoch 2/10\n",
      "428/428 [==============================] - 2s 5ms/step - loss: 0.5401 - accuracy: 0.6938 - val_loss: 0.5180 - val_accuracy: 0.7143\n",
      "Epoch 3/10\n",
      "428/428 [==============================] - 3s 6ms/step - loss: 0.4436 - accuracy: 0.8135 - val_loss: 0.4567 - val_accuracy: 0.8141\n",
      "Epoch 4/10\n",
      "428/428 [==============================] - 2s 5ms/step - loss: 0.3737 - accuracy: 0.8682 - val_loss: 0.4206 - val_accuracy: 0.8585\n",
      "Epoch 5/10\n",
      "428/428 [==============================] - 2s 5ms/step - loss: 0.3254 - accuracy: 0.8873 - val_loss: 0.4124 - val_accuracy: 0.8419\n",
      "Epoch 6/10\n",
      "428/428 [==============================] - 2s 5ms/step - loss: 0.2902 - accuracy: 0.9006 - val_loss: 0.4013 - val_accuracy: 0.8516\n",
      "Epoch 7/10\n",
      "428/428 [==============================] - 2s 5ms/step - loss: 0.2631 - accuracy: 0.9095 - val_loss: 0.3927 - val_accuracy: 0.8641\n",
      "Epoch 8/10\n",
      "428/428 [==============================] - 2s 5ms/step - loss: 0.2424 - accuracy: 0.9156 - val_loss: 0.3968 - val_accuracy: 0.8627\n",
      "Epoch 9/10\n",
      "428/428 [==============================] - 2s 6ms/step - loss: 0.2237 - accuracy: 0.9232 - val_loss: 0.4022 - val_accuracy: 0.8627\n",
      "Epoch 10/10\n",
      "428/428 [==============================] - 2s 5ms/step - loss: 0.2080 - accuracy: 0.9275 - val_loss: 0.4090 - val_accuracy: 0.8599\n"
     ]
    },
    {
     "data": {
      "text/plain": [
       "<keras.callbacks.History at 0x7f39179db280>"
      ]
     },
     "execution_count": 94,
     "metadata": {},
     "output_type": "execute_result"
    }
   ],
   "source": [
    "model.fit(X_train, y_train, \n",
    "          validation_data=(X_valid, y_valid),\n",
    "          batch_size=32,\n",
    "         epochs=10)"
   ]
  },
  {
   "cell_type": "code",
   "execution_count": 95,
   "id": "529130e4-a2da-41e4-825b-80a3840b1878",
   "metadata": {},
   "outputs": [
    {
     "name": "stdout",
     "output_type": "stream",
     "text": [
      "dict_keys(['loss', 'accuracy', 'val_loss', 'val_accuracy'])\n"
     ]
    },
    {
     "data": {
      "image/png": "[encoded data removed]",
      "text/plain": [
       "<Figure size 432x288 with 1 Axes>"
      ]
     },
     "metadata": {
      "needs_background": "light"
     },
     "output_type": "display_data"
    }
   ],
   "source": [
    "print(model.history.history.keys())\n",
    "plt.plot(model.history.history['accuracy'])\n",
    "plt.plot(model.history.history['val_accuracy'])\n",
    "plt.title('model accuracy')\n",
    "plt.ylabel('accuracy')\n",
    "plt.xlabel('epoch')\n",
    "plt.legend(['train', 'val'], loc='upper left')\n",
    "plt.show()"
   ]
  }
 ],
 "metadata": {
  "kernelspec": {
   "display_name": "Python 3 (ipykernel)",
   "language": "python",
   "name": "python3"
  },
  "language_info": {
   "codemirror_mode": {
    "name": "ipython",
    "version": 3
   },
   "file_extension": ".py",
   "mimetype": "text/x-python",
   "name": "python",
   "nbconvert_exporter": "python",
   "pygments_lexer": "ipython3",
   "version": "3.9.7"
  }
 },
 "nbformat": 4,
 "nbformat_minor": 5
}

{
 "cells": [
  {
   "cell_type": "code",
   "execution_count": 1,
   "id": "8872c783-df2e-4992-ae6d-a0cbb0725017",
   "metadata": {},
   "outputs": [],
   "source": [
    "from string import punctuation\n",
    "from razdel import sentenize\n",
    "from razdel import tokenize as razdel_tokenize\n",
    "import numpy as np\n",
    "from collections import Counter\n",
    "from nltk.tokenize import sent_tokenize"
   ]
  },
  {
   "cell_type": "code",
   "execution_count": 2,
   "id": "dd7e5dd4-086f-436f-8f9e-141132c76ad0",
   "metadata": {},
   "outputs": [],
   "source": [
    "dvach = open('2ch_corpus.txt', encoding='utf-8').read()"
   ]
  },
  {
   "cell_type": "code",
   "execution_count": 3,
   "id": "41160723-bac7-4f87-8d64-aaafeada9f69",
   "metadata": {},
   "outputs": [],
   "source": [
    "# Функция нормализации\n",
    "\n",
    "def normalize(text):\n",
    "    normalized_text = [word.text.strip(punctuation) for word \\\n",
    "                                                            in razdel_tokenize(text)]\n",
    "    normalized_text = [word.lower() for word in normalized_text if word and len(word) < 20 ]\n",
    "    return normalized_text"
   ]
  },
  {
   "cell_type": "code",
   "execution_count": 4,
   "id": "ff748196-48bb-40d9-8cac-ee920f168439",
   "metadata": {},
   "outputs": [],
   "source": [
    "norm_dvach = normalize(dvach)"
   ]
  },
  {
   "cell_type": "code",
   "execution_count": 5,
   "id": "ce50a42b-3ed6-4c01-b219-a18321564b65",
   "metadata": {},
   "outputs": [],
   "source": [
    "# Превращение абсолютных частот в вероятности\n",
    "\n",
    "vocab_dvach = Counter(norm_dvach)\n",
    "probas_dvach = Counter({word:c/len(norm_dvach) for word, c in vocab_dvach.items()})"
   ]
  },
  {
   "cell_type": "code",
   "execution_count": 6,
   "id": "514f2467-64df-477f-8e41-9e3d490b85b4",
   "metadata": {},
   "outputs": [],
   "source": [
    "def ngrammer(tokens, n=3):\n",
    "    ngrams = []\n",
    "    for i in range(0,len(tokens)-n+1):\n",
    "        ngrams.append(' '.join(tokens[i:i+n]))\n",
    "    return ngrams"
   ]
  },
  {
   "cell_type": "code",
   "execution_count": 8,
   "id": "60fc475e-986e-453e-9510-c921f8c3a284",
   "metadata": {},
   "outputs": [
    {
     "data": {
      "text/plain": [
       "[['<start>',\n",
       "  '<start>',\n",
       "  'анимублядский',\n",
       "  'webm-треддля',\n",
       "  'приличных',\n",
       "  'анимублядей',\n",
       "  'и',\n",
       "  'прочих',\n",
       "  'аутистов',\n",
       "  '<end>'],\n",
       " ['<start>',\n",
       "  '<start>',\n",
       "  'безграмотное',\n",
       "  'быдло',\n",
       "  'с',\n",
       "  'дубляжом',\n",
       "  'войсовером',\n",
       "  'порнографией',\n",
       "  'и',\n",
       "  'котиками',\n",
       "  'советы',\n",
       "  'мерзких',\n",
       "  'мокрописечников',\n",
       "  'вниманиебляди',\n",
       "  'всех',\n",
       "  'видов',\n",
       "  'и',\n",
       "  'прочее',\n",
       "  'непотребство',\n",
       "  'отправляется',\n",
       "  'в',\n",
       "  'порнотред',\n",
       "  'ссылка',\n",
       "  'для',\n",
       "  'поиска',\n",
       "  'с',\n",
       "  'o',\n",
       "  'уса',\n",
       "  'видео',\n",
       "  'сохраняем',\n",
       "  'кадр',\n",
       "  'правый',\n",
       "  'клик',\n",
       "  'по',\n",
       "  'видео',\n",
       "  'и',\n",
       "  'ищем',\n",
       "  'его',\n",
       "  'на',\n",
       "  'для',\n",
       "  'воспроизведения',\n",
       "  'webm',\n",
       "  'с',\n",
       "  '10-битным',\n",
       "  'цветом',\n",
       "  'нужно',\n",
       "  'установить',\n",
       "  'плагин',\n",
       "  'vlc',\n",
       "  'и',\n",
       "  'отключить',\n",
       "  'встроенный',\n",
       "  'в',\n",
       "  'браузер',\n",
       "  'плеер',\n",
       "  'media',\n",
       "  '<end>'],\n",
       " ['<start>', '<start>', 'webm', '<end>']]"
      ]
     },
     "execution_count": 8,
     "metadata": {},
     "output_type": "execute_result"
    }
   ],
   "source": [
    "sentences_dvach = [['<start>'] + ['<start>'] + normalize(text) + ['<end>'] for text in sent_tokenize(dvach)]\n",
    "sentences_dvach[:3]"
   ]
  },
  {
   "cell_type": "code",
   "execution_count": 9,
   "id": "8637d169-a2fc-4da6-9d56-236198f17f80",
   "metadata": {},
   "outputs": [],
   "source": [
    "trigrams_dvach = Counter()\n",
    "bigrams_dvach = Counter()\n",
    "unigrams_dvach = Counter()\n",
    "\n",
    "\n",
    "for sentence in sentences_dvach:\n",
    "    trigrams_dvach.update(ngrammer(sentence,3))\n",
    "    bigrams_dvach.update(ngrammer(sentence,2))\n",
    "    unigrams_dvach.update(sentence)"
   ]
  },
  {
   "cell_type": "code",
   "execution_count": 10,
   "id": "5fdd2a43-1411-4f39-9ce0-2f519ed7f099",
   "metadata": {
    "jupyter": {
     "source_hidden": true
    },
    "tags": []
   },
   "outputs": [],
   "source": [
    "unigrams_dvach = Counter()\n",
    "bigrams_dvach = Counter()\n",
    "trigrams_dvach = Counter()\n",
    "\n",
    "for sentence in sentences_dvach:\n",
    "    trigrams_dvach.update(ngrammer(sentence))\n",
    "    bigrams_dvach.update(ngrammer(sentence,2))\n",
    "    unigrams_dvach.update(sentence)"
   ]
  },
  {
   "cell_type": "code",
   "execution_count": 11,
   "id": "acec0cd5-c475-47a0-90c4-6be272ae6eb1",
   "metadata": {},
   "outputs": [],
   "source": [
    "from scipy.sparse import lil_matrix, csr_matrix"
   ]
  },
  {
   "cell_type": "code",
   "execution_count": 12,
   "id": "17fe8c41-dbc0-424b-9e47-77f6ab156d48",
   "metadata": {},
   "outputs": [],
   "source": [
    "matrix_dvach = lil_matrix((len(bigrams_dvach), len(unigrams_dvach))) \n",
    "            \n",
    "id2word_dvach = list(unigrams_dvach)\n",
    "word2id_dvach = {word:i for i, word in enumerate(id2word_dvach)}\n",
    "\n",
    "id2bigram_dvach = list(bigrams_dvach)\n",
    "bigram2id_dvach = {word:i for i, word in enumerate(id2bigram_dvach)}\n",
    "\n",
    "for ngram in trigrams_dvach:\n",
    "    word1, word2, word3 = ngram.split()\n",
    "    bigram = word1 + ' ' + word2\n",
    "\n",
    "    matrix_dvach[bigram2id_dvach[bigram],word2id_dvach[word3]] =  (trigrams_dvach[ngram]/bigrams_dvach[bigram])"
   ]
  },
  {
   "cell_type": "code",
   "execution_count": 13,
   "id": "76510711-a105-4656-977e-d06e534c93b0",
   "metadata": {},
   "outputs": [],
   "source": [
    "matrix_dvach = csr_matrix(matrix_dvach)"
   ]
  },
  {
   "cell_type": "code",
   "execution_count": 14,
   "id": "aac0d5ea-156d-4f63-b8b8-b454f27bd152",
   "metadata": {},
   "outputs": [
    {
     "data": {
      "text/plain": [
       "2"
      ]
     },
     "execution_count": 14,
     "metadata": {},
     "output_type": "execute_result"
    }
   ],
   "source": [
    "np.random.choice(list(range(matrix_dvach.shape[1])), \n",
    "                 p=matrix_dvach[1].toarray()[0])"
   ]
  },
  {
   "cell_type": "code",
   "execution_count": 15,
   "id": "8c5353d2-178b-40a3-a4ed-66e84c291c9c",
   "metadata": {},
   "outputs": [],
   "source": [
    "def generate(matrix, id2bigram, id2word, bigram2id, n=100, start='<start> <start>'):\n",
    "    text = []\n",
    "    current_idx = bigram2id[start]\n",
    "    for i in range(n):\n",
    "        p = matrix[current_idx].toarray()[0]\n",
    "        chosen = np.random.choice(list(range(matrix.shape[1])), p = p)\n",
    "        text.append(id2word[chosen])\n",
    "        if id2word[chosen] == '<end>':\n",
    "            current_idx = bigram2id[start]\n",
    "        else:\n",
    "            part = id2bigram[current_idx] + ' ' + id2word[chosen]\n",
    "            part = ' '.join(part.split()[1:])\n",
    "            current_idx = bigram2id[part]\n",
    "    \n",
    "    return ' '.join(text)\n"
   ]
  },
  {
   "cell_type": "code",
   "execution_count": 16,
   "id": "c3c86b14-48e5-44cc-ae2e-c87228d862f6",
   "metadata": {},
   "outputs": [
    {
     "name": "stdout",
     "output_type": "stream",
     "text": [
      "малацца тонко \n",
      " хомячье в край ебанулось \n",
      " спасибо схороню этот тред также можно с 1 чуваком без всякого вреда для себя открыл мне её произвести а он в моем случае оба варианта проигрыш на самом деле дышит и сильнее всего тревогу лечат никотин и алкоголь добьют уже лет 20 блять этот чувак типа не они одни занялись тогда ебанатством \n",
      " скажите где это \n",
      " а вообще жри сажу зелёный лампавая он няша с сум хочу игру в общем дискас самостоятельная сборка попахивает чем-то типа ядерной бомбы или как это принято в тех местах внезапно новые кнопки какие-то и все\n"
     ]
    }
   ],
   "source": [
    "print(generate(matrix_dvach, id2bigram_dvach, id2word_dvach, bigram2id_dvach, start='<start> <start>').replace('<end>', '\\n'))"
   ]
  },
  {
   "cell_type": "code",
   "execution_count": 17,
   "id": "ce0300b8-b765-46f8-bccb-a2b1ffe57707",
   "metadata": {},
   "outputs": [
    {
     "name": "stdout",
     "output_type": "stream",
     "text": [
      "не будет играть \n",
      " листвачек скромностьчек бунтарьчек наркотачек мордобоичек вобрал в себя и что блядь сувать в пизду со своей формальной логикой потом и сообщника \n",
      " ну я думаю хозяин это машины явно не все \n",
      " манька поддавашка \n",
      " должно быть даже что утерянная давно технология не очень большой \n",
      " кто это вообще на са наверное даже не в курсе подробностей и таки устроиться там работать \n",
      " давайте пишите всякую дичь а я и сказал веди меня по крайней мере весь хайп улегся \n",
      " хотим слушать как сосед пердит по ночам деревенское быдло забавы ради та еще мечта битарда \n",
      "\n"
     ]
    }
   ],
   "source": [
    "print(generate(matrix_dvach, id2bigram_dvach, id2word_dvach, bigram2id_dvach, start='<start> <start>').replace('<end>', '\\n'))"
   ]
  },
  {
   "cell_type": "code",
   "execution_count": 18,
   "id": "1a48d96f-0fca-45e3-bfa3-3284101d4d83",
   "metadata": {},
   "outputs": [
    {
     "name": "stdout",
     "output_type": "stream",
     "text": [
      "когда вернулся домой за поребрик \n",
      " 17 \n",
      " парни выручайте никак не мог быть установлен какой-то порог критческой боимассы \n",
      " зачем быть во френдзоне но такой хуйней не нужно его трогать \n",
      " расскажите нам ещё что-нибудь высри бомбящий петух \n",
      " наверное сон был очень расстроен и сказал что художником никогда не бомбило так при этом ничего плохого в убийстве животных \n",
      " лазером удалось вывести из страны или на той мумия \n",
      " сразу скажу нормальные меня же тогда разместили вертолёты там \n",
      " хуйню ты слушаешь разновидность миталкора \n",
      " он может учиться в хорошей форме я не удивлен \n",
      " играю немного опыта\n"
     ]
    }
   ],
   "source": [
    "print(generate(matrix_dvach, id2bigram_dvach, id2word_dvach, bigram2id_dvach, start='<start> <start>').replace('<end>', '\\n'))"
   ]
  },
  {
   "cell_type": "code",
   "execution_count": 19,
   "id": "54bd63eb-ee51-411a-9029-7cd51795f27d",
   "metadata": {},
   "outputs": [],
   "source": [
    "def perplexity(probas):\n",
    "    p = np.exp(np.sum(probas))\n",
    "    N = len(probas)\n",
    "    \n",
    "    return p**(-1/N) "
   ]
  },
  {
   "cell_type": "code",
   "execution_count": 22,
   "id": "22427f4f-75c3-4291-8334-911563debb68",
   "metadata": {},
   "outputs": [],
   "source": [
    "all_perplexity = []\n",
    "for sent in sentences_dvach:\n",
    "    probs = []\n",
    "    for ngram in ngrammer(sent, 3):\n",
    "        word1, word2, word3 = ngram.split()\n",
    "        bigram = word1 + ' '+word2\n",
    "        \n",
    "        if ngram in trigrams_dvach and bigram in bigrams_dvach:\n",
    "            probs.append(np.log(trigrams_dvach[ngram]/bigrams_dvach[bigram]))\n",
    "        else:\n",
    "            probs.append(np.log(0.00001))\n",
    "    if perplexity(probs)!= np.inf: \n",
    "        all_perplexity.append(perplexity(probs))"
   ]
  },
  {
   "cell_type": "code",
   "execution_count": 23,
   "id": "00e1c11d-ac3f-4951-be8d-bfdb98fdf14d",
   "metadata": {},
   "outputs": [
    {
     "data": {
      "text/plain": [
       "22.133904387208297"
      ]
     },
     "execution_count": 23,
     "metadata": {},
     "output_type": "execute_result"
    }
   ],
   "source": [
    "np.mean(all_perplexity)"
   ]
  }
 ],
 "metadata": {
  "interpreter": {
   "hash": "74a62bdd49c95697c63e129ae50a6243abb25a054b23fd5800def67e099b9bbe"
  },
  "kernelspec": {
   "display_name": "Python 3",
   "language": "python",
   "name": "python3"
  },
  "language_info": {
   "codemirror_mode": {
    "name": "ipython",
    "version": 3
   },
   "file_extension": ".py",
   "mimetype": "text/x-python",
   "name": "python",
   "nbconvert_exporter": "python",
   "pygments_lexer": "ipython3",
   "version": "3.8.8"
  }
 },
 "nbformat": 4,
 "nbformat_minor": 5
}

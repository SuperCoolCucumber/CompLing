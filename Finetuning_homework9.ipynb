{
  "cells": [
    {
      "cell_type": "markdown",
      "metadata": {
        "id": "view-in-github",
        "colab_type": "text"
      },
      "source": [
        "<a href=\"https://colab.research.google.com/github/SuperCoolCucumber/CompLing/blob/main/Finetuning_homework9.ipynb\" target=\"_parent\"><img src=\"https://colab.research.google.com/assets/colab-badge.svg\" alt=\"Open In Colab\"/></a>"
      ]
    },
    {
      "cell_type": "markdown",
      "id": "4997c44b",
      "metadata": {
        "id": "4997c44b"
      },
      "source": [
        "# Домашнее задание № 9. Предобученные трансформеры "
      ]
    },
    {
      "cell_type": "markdown",
      "id": "ed88fd24",
      "metadata": {
        "id": "ed88fd24"
      },
      "source": [
        "### Задание 1 (8 баллов).\n",
        "Дообучите 3 предобученных модели на тех же данных, что и в семинаре. Сравните качество и выберите лучшую. \n",
        "Модели должны отличаться друг от друга не только параметрами ru/en/multilingual, base/large, cased/uncased. Все три выбранные модели должны работать лучше, чем бейзлайн без дообучения (т.е. если модель не работает, попробуйте другую).\n",
        "\n",
        "\n"
      ]
    },
    {
      "cell_type": "code",
      "source": [
        "!pip install transformers sklearn pandas matplotlib"
      ],
      "metadata": {
        "colab": {
          "base_uri": "https://localhost:8080/"
        },
        "id": "LmE3T4oAZQbS",
        "outputId": "50df6f1e-0523-4108-9153-70ef3720ca3f"
      },
      "id": "LmE3T4oAZQbS",
      "execution_count": 1,
      "outputs": [
        {
          "output_type": "stream",
          "name": "stdout",
          "text": [
            "Requirement already satisfied: transformers in /usr/local/lib/python3.7/dist-packages (4.18.0)\n",
            "Requirement already satisfied: sklearn in /usr/local/lib/python3.7/dist-packages (0.0)\n",
            "Requirement already satisfied: pandas in /usr/local/lib/python3.7/dist-packages (1.3.5)\n",
            "Requirement already satisfied: matplotlib in /usr/local/lib/python3.7/dist-packages (3.2.2)\n",
            "Requirement already satisfied: numpy>=1.17 in /usr/local/lib/python3.7/dist-packages (from transformers) (1.21.6)\n",
            "Requirement already satisfied: importlib-metadata in /usr/local/lib/python3.7/dist-packages (from transformers) (4.11.3)\n",
            "Requirement already satisfied: sacremoses in /usr/local/lib/python3.7/dist-packages (from transformers) (0.0.53)\n",
            "Requirement already satisfied: regex!=2019.12.17 in /usr/local/lib/python3.7/dist-packages (from transformers) (2019.12.20)\n",
            "Requirement already satisfied: requests in /usr/local/lib/python3.7/dist-packages (from transformers) (2.23.0)\n",
            "Requirement already satisfied: pyyaml>=5.1 in /usr/local/lib/python3.7/dist-packages (from transformers) (6.0)\n",
            "Requirement already satisfied: tokenizers!=0.11.3,<0.13,>=0.11.1 in /usr/local/lib/python3.7/dist-packages (from transformers) (0.12.1)\n",
            "Requirement already satisfied: filelock in /usr/local/lib/python3.7/dist-packages (from transformers) (3.6.0)\n",
            "Requirement already satisfied: tqdm>=4.27 in /usr/local/lib/python3.7/dist-packages (from transformers) (4.64.0)\n",
            "Requirement already satisfied: packaging>=20.0 in /usr/local/lib/python3.7/dist-packages (from transformers) (21.3)\n",
            "Requirement already satisfied: huggingface-hub<1.0,>=0.1.0 in /usr/local/lib/python3.7/dist-packages (from transformers) (0.6.0)\n",
            "Requirement already satisfied: typing-extensions>=3.7.4.3 in /usr/local/lib/python3.7/dist-packages (from huggingface-hub<1.0,>=0.1.0->transformers) (4.2.0)\n",
            "Requirement already satisfied: pyparsing!=3.0.5,>=2.0.2 in /usr/local/lib/python3.7/dist-packages (from packaging>=20.0->transformers) (3.0.8)\n",
            "Requirement already satisfied: scikit-learn in /usr/local/lib/python3.7/dist-packages (from sklearn) (1.0.2)\n",
            "Requirement already satisfied: python-dateutil>=2.7.3 in /usr/local/lib/python3.7/dist-packages (from pandas) (2.8.2)\n",
            "Requirement already satisfied: pytz>=2017.3 in /usr/local/lib/python3.7/dist-packages (from pandas) (2022.1)\n",
            "Requirement already satisfied: six>=1.5 in /usr/local/lib/python3.7/dist-packages (from python-dateutil>=2.7.3->pandas) (1.15.0)\n",
            "Requirement already satisfied: kiwisolver>=1.0.1 in /usr/local/lib/python3.7/dist-packages (from matplotlib) (1.4.2)\n",
            "Requirement already satisfied: cycler>=0.10 in /usr/local/lib/python3.7/dist-packages (from matplotlib) (0.11.0)\n",
            "Requirement already satisfied: zipp>=0.5 in /usr/local/lib/python3.7/dist-packages (from importlib-metadata->transformers) (3.8.0)\n",
            "Requirement already satisfied: idna<3,>=2.5 in /usr/local/lib/python3.7/dist-packages (from requests->transformers) (2.10)\n",
            "Requirement already satisfied: chardet<4,>=3.0.2 in /usr/local/lib/python3.7/dist-packages (from requests->transformers) (3.0.4)\n",
            "Requirement already satisfied: certifi>=2017.4.17 in /usr/local/lib/python3.7/dist-packages (from requests->transformers) (2021.10.8)\n",
            "Requirement already satisfied: urllib3!=1.25.0,!=1.25.1,<1.26,>=1.21.1 in /usr/local/lib/python3.7/dist-packages (from requests->transformers) (1.24.3)\n",
            "Requirement already satisfied: joblib in /usr/local/lib/python3.7/dist-packages (from sacremoses->transformers) (1.1.0)\n",
            "Requirement already satisfied: click in /usr/local/lib/python3.7/dist-packages (from sacremoses->transformers) (7.1.2)\n",
            "Requirement already satisfied: threadpoolctl>=2.0.0 in /usr/local/lib/python3.7/dist-packages (from scikit-learn->sklearn) (3.1.0)\n",
            "Requirement already satisfied: scipy>=1.1.0 in /usr/local/lib/python3.7/dist-packages (from scikit-learn->sklearn) (1.4.1)\n"
          ]
        }
      ]
    },
    {
      "cell_type": "code",
      "execution_count": 2,
      "id": "71cf22e0",
      "metadata": {
        "id": "71cf22e0"
      },
      "outputs": [],
      "source": [
        "import os, re\n",
        "import numpy as np\n",
        "from time import time\n",
        "from sklearn.model_selection import train_test_split\n",
        "import pandas as pd\n",
        "from collections import Counter\n",
        "from string import punctuation\n",
        "import matplotlib.pyplot as plt\n",
        "%matplotlib inline\n",
        "\n",
        "\n",
        "import torch\n",
        "import torch.nn as nn\n",
        "import torch.nn.functional as F\n",
        "import torch.optim as optim\n",
        "import torch.utils.data\n",
        "from transformers import AutoModel\n",
        "from transformers import AutoTokenizer"
      ]
    },
    {
      "cell_type": "code",
      "source": [
        "from google.colab import drive\n",
        "drive.mount('/content/drive')"
      ],
      "metadata": {
        "colab": {
          "base_uri": "https://localhost:8080/"
        },
        "id": "JlKZbFsBZH7K",
        "outputId": "5826ab4c-86fe-465e-dc97-8b5a8f06416e"
      },
      "id": "JlKZbFsBZH7K",
      "execution_count": 3,
      "outputs": [
        {
          "output_type": "stream",
          "name": "stdout",
          "text": [
            "Drive already mounted at /content/drive; to attempt to forcibly remount, call drive.mount(\"/content/drive\", force_remount=True).\n"
          ]
        }
      ]
    },
    {
      "cell_type": "code",
      "source": [
        "data = pd.read_csv('/content/drive/MyDrive/lenta_sample.csv')\n",
        "data.dropna(subset=['topic', 'text'], inplace=True)"
      ],
      "metadata": {
        "id": "pXhS55I0AO6o"
      },
      "id": "pXhS55I0AO6o",
      "execution_count": 4,
      "outputs": []
    },
    {
      "cell_type": "code",
      "source": [
        "data_frac = pd.concat([data[data.topic=='Россия'].sample(frac=0.001),\n",
        "                      data[data.topic=='Мир'].sample(frac=0.001),\n",
        "                      data[data.topic=='Экономика'].sample(frac=0.002),\n",
        "                      data[data.topic=='Спорт'].sample(frac=0.003),\n",
        "                      data[data.topic=='Наука и техника'].sample(frac=0.005),\n",
        "                      data[data.topic=='Бывший СССР'].sample(frac=0.005),\n",
        "                      data[data.topic=='Культура'].sample(frac=0.005),\n",
        "                      data[data.topic=='Интернет и СМИ'].sample(frac=0.005),\n",
        "                      data[data.topic=='Из жизни'].sample(frac=0.01),\n",
        "                      data[data.topic=='Дом'].sample(frac=0.01),\n",
        "                      data[data.topic=='Силовые структуры'].sample(frac=0.01),\n",
        "                      data[data.topic=='Ценности'].sample(frac=0.03),\n",
        "                      data[data.topic=='Бизнес'].sample(frac=0.03),\n",
        "                      data[data.topic=='69-я параллель'].sample(frac=0.05),\n",
        "                      data[data.topic=='Крым'].sample(frac=0.05),\n",
        "                      data[data.topic=='Культпросвет'].sample(frac=0.2),\n",
        "                      data[data.topic=='Легпром'].sample(frac=0.8),\n",
        "                      data[data.topic=='Библиотека']]).reset_index(drop=True)"
      ],
      "metadata": {
        "id": "_hXFgd63BBnq"
      },
      "id": "_hXFgd63BBnq",
      "execution_count": 5,
      "outputs": []
    },
    {
      "cell_type": "code",
      "source": [
        "data = data_frac"
      ],
      "metadata": {
        "id": "jX4NJBotBDmb"
      },
      "id": "jX4NJBotBDmb",
      "execution_count": 6,
      "outputs": []
    },
    {
      "cell_type": "markdown",
      "source": [
        "## Model 1: [ruRoberta-large](https://huggingface.co/sberbank-ai/ruRoberta-large)"
      ],
      "metadata": {
        "id": "Kt9cp4V-76-b"
      },
      "id": "Kt9cp4V-76-b"
    },
    {
      "cell_type": "code",
      "source": [
        "from transformers import AutoTokenizer, AutoModelForMaskedLM"
      ],
      "metadata": {
        "id": "pCFLUOmSBWd5"
      },
      "id": "pCFLUOmSBWd5",
      "execution_count": 7,
      "outputs": []
    },
    {
      "cell_type": "code",
      "source": [
        "tokenizer = AutoTokenizer.from_pretrained(\"sberbank-ai/ruRoberta-large\")\n",
        "\n",
        "model_sber = AutoModelForMaskedLM.from_pretrained(\"sberbank-ai/ruRoberta-large\").to(torch.device('cuda'))"
      ],
      "metadata": {
        "id": "CElJFaqMBEYm"
      },
      "id": "CElJFaqMBEYm",
      "execution_count": 8,
      "outputs": []
    },
    {
      "cell_type": "code",
      "source": [
        "class Dataset(torch.utils.data.Dataset):\n",
        "\n",
        "    def __init__(self, tokenizer, MAX_LEN, texts, targets):\n",
        "        \n",
        "        self.tokenizer = tokenizer\n",
        "        self.texts = [torch.LongTensor(tokenizer.encode(t)[:MAX_LEN]) for t in texts]\n",
        "        self.texts = torch.nn.utils.rnn.pad_sequence(self.texts, batch_first=True,\n",
        "                                                     padding_value=self.tokenizer.pad_token_id)\n",
        "        \n",
        "        self.MAX_LEN = MAX_LEN\n",
        "        self.length = len(texts)\n",
        "        \n",
        "        self.target = torch.LongTensor(targets)\n",
        "\n",
        "    def __len__(self):\n",
        "        return self.length\n",
        "\n",
        "    def __getitem__(self, index):\n",
        "        ids = self.texts[index]\n",
        "        y = self.target[index]\n",
        "\n",
        "        return ids, y\n",
        "    \n",
        "    def preprocess(self, text):\n",
        "        tokens = text.lower().split()\n",
        "        tokens = [token.strip(punctuation) for token in tokens]\n",
        "        tokens = [token for token in tokens if token]\n",
        "        return tokens"
      ],
      "metadata": {
        "id": "u5AYcFCbBEf_"
      },
      "id": "u5AYcFCbBEf_",
      "execution_count": 9,
      "outputs": []
    },
    {
      "cell_type": "code",
      "source": [
        "from sklearn.metrics import f1_score\n",
        "\n",
        "def train(model, iterator, optimizer, criterion, print_every=1000):\n",
        "    \n",
        "    epoch_loss = []\n",
        "    epoch_f1 = []\n",
        "    \n",
        "    model.train()  \n",
        "\n",
        "    for i, (texts, ys) in enumerate(iterator):\n",
        "        \n",
        "        optimizer.zero_grad()   \n",
        "        predictions = model(texts.to(device)).squeeze()  \n",
        "        loss = criterion(predictions, ys.to(device))        \n",
        "        \n",
        "        \n",
        "        \n",
        "        loss.backward()\n",
        "        optimizer.step()     \n",
        "        preds = predictions.detach().to('cpu').numpy().argmax(1).tolist()\n",
        "        y_true = ys.tolist()\n",
        "        \n",
        "        epoch_loss.append(loss.item())\n",
        "        epoch_f1.append(f1_score(y_true, preds, average=\"micro\"))\n",
        "        \n",
        "        if not (i+1) % print_every:\n",
        "            print(f'Loss: {np.mean(epoch_loss)}; F1 measure: {np.mean(epoch_f1)}')\n",
        "        \n",
        "    return np.mean(epoch_f1)\n",
        "\n",
        "\n",
        "def evaluate(model, iterator, criterion):\n",
        "    \n",
        "    epoch_loss = []\n",
        "    epoch_f1 = []\n",
        "    \n",
        "    model.eval()  \n",
        "    with torch.no_grad():\n",
        "        for texts, ys in iterator:   \n",
        "\n",
        "            predictions = model(texts.to(device)).squeeze()  \n",
        "            loss = criterion(predictions, ys.to(device))        \n",
        "            preds = predictions.detach().to('cpu').numpy().argmax(1).tolist()\n",
        "            y_true = ys.tolist()\n",
        "            \n",
        "\n",
        "            epoch_loss.append(loss.item())  \n",
        "            epoch_f1.append(f1_score(y_true, preds, average=\"micro\"))\n",
        "            \n",
        "    return np.mean(epoch_f1)# / len(iterator)"
      ],
      "metadata": {
        "id": "7MDnOnL9BElw"
      },
      "id": "7MDnOnL9BElw",
      "execution_count": 10,
      "outputs": []
    },
    {
      "cell_type": "code",
      "source": [
        "MAX_LEN = 512"
      ],
      "metadata": {
        "id": "G-Mws5u0BEq9"
      },
      "id": "G-Mws5u0BEq9",
      "execution_count": 11,
      "outputs": []
    },
    {
      "cell_type": "code",
      "source": [
        "texts = data.title.values\n",
        "id2label = {i:l for i,l in enumerate(set(data.topic))}\n",
        "label2id = {l:i for i,l in id2label.items()}\n",
        "targets = [label2id[l] for l in data.topic]"
      ],
      "metadata": {
        "id": "meKuxodeBEwp"
      },
      "id": "meKuxodeBEwp",
      "execution_count": 12,
      "outputs": []
    },
    {
      "cell_type": "code",
      "source": [
        "train_texts, valid_texts, train_targets, valid_targets = train_test_split(texts, targets, test_size=0.05)"
      ],
      "metadata": {
        "id": "7Y3i4SteEQEU"
      },
      "id": "7Y3i4SteEQEU",
      "execution_count": 13,
      "outputs": []
    },
    {
      "cell_type": "code",
      "source": [
        "training_set = Dataset(tokenizer, MAX_LEN, train_texts, train_targets)\n",
        "training_generator = torch.utils.data.DataLoader(training_set, batch_size=16, shuffle=True, )\n",
        "valid_set = Dataset(tokenizer, MAX_LEN, valid_texts, valid_targets)\n",
        "valid_generator = torch.utils.data.DataLoader(valid_set, batch_size=16, shuffle=True)"
      ],
      "metadata": {
        "id": "f_v_1jAtEQfU"
      },
      "id": "f_v_1jAtEQfU",
      "execution_count": 14,
      "outputs": []
    },
    {
      "cell_type": "code",
      "source": [
        "import torch.nn as nn\n",
        "\n",
        "class CLF(nn.Module):\n",
        "    \n",
        "    def __init__(self, pretrained_model, num_classes):\n",
        "        super().__init__()          \n",
        "        self.tokenizer = tokenizer \n",
        "        self.pretrained_model = pretrained_model \n",
        "        \n",
        "        self.drop = nn.Dropout(0.3)\n",
        "        self.fc = nn.Linear(50265, num_classes) \n",
        "        self.act = nn.LogSoftmax(1) \n",
        "        \n",
        "    def forward(self, texts):\n",
        "        \n",
        "        mask = (texts != tokenizer.pad_token_id).long()\n",
        "        \n",
        "        hidden = self.pretrained_model(texts, attention_mask=mask)[0]\n",
        "\n",
        "        dense_outputs=self.fc(self.drop(hidden[:,0] ))\n",
        "        outputs=self.act(dense_outputs)\n",
        "        \n",
        "        return outputs"
      ],
      "metadata": {
        "id": "SXPdq1StEQqa"
      },
      "id": "SXPdq1StEQqa",
      "execution_count": 15,
      "outputs": []
    },
    {
      "cell_type": "code",
      "source": [
        "device = torch.device('cuda' if torch.cuda.is_available() else 'cpu')  \n",
        "model = CLF(model_sber, len(label2id))\n",
        "optimizer = optim.Adam(model.parameters(), lr=2e-6)\n",
        "criterion = nn.NLLLoss() \n",
        "model = model.to(device)\n",
        "criterion = criterion.to(device)"
      ],
      "metadata": {
        "id": "bu1hSncSEQ4X"
      },
      "id": "bu1hSncSEQ4X",
      "execution_count": 16,
      "outputs": []
    },
    {
      "cell_type": "code",
      "source": [
        "f1s = []\n",
        "f1s_eval = []\n",
        "\n",
        "for i in range(20):\n",
        "    print(i)\n",
        "    f1s.append(train(model, training_generator, optimizer, criterion, 2000))\n",
        "    evl = evaluate(model, valid_generator, criterion)\n",
        "    print('Eval - ', evl)\n",
        "    f1s_eval.append(evl)"
      ],
      "metadata": {
        "colab": {
          "base_uri": "https://localhost:8080/"
        },
        "id": "q397qOfbERFJ",
        "outputId": "bd2f40fc-59a6-448f-c867-5ad1acbb9ea7"
      },
      "id": "q397qOfbERFJ",
      "execution_count": 17,
      "outputs": [
        {
          "output_type": "stream",
          "name": "stdout",
          "text": [
            "0\n",
            "Eval -  0.0\n",
            "1\n",
            "Eval -  1.0\n",
            "2\n",
            "Eval -  1.0\n",
            "3\n",
            "Eval -  1.0\n",
            "4\n",
            "Eval -  1.0\n",
            "5\n",
            "Eval -  1.0\n",
            "6\n",
            "Eval -  1.0\n",
            "7\n",
            "Eval -  1.0\n",
            "8\n",
            "Eval -  1.0\n",
            "9\n",
            "Eval -  1.0\n",
            "10\n",
            "Eval -  1.0\n",
            "11\n",
            "Eval -  1.0\n",
            "12\n",
            "Eval -  1.0\n",
            "13\n",
            "Eval -  1.0\n",
            "14\n",
            "Eval -  1.0\n",
            "15\n",
            "Eval -  1.0\n",
            "16\n",
            "Eval -  1.0\n",
            "17\n",
            "Eval -  1.0\n",
            "18\n",
            "Eval -  1.0\n",
            "19\n",
            "Eval -  1.0\n"
          ]
        }
      ]
    },
    {
      "cell_type": "code",
      "source": [
        "plt.plot(f1s)\n",
        "plt.plot(f1s_eval)\n",
        "plt.title('model f1 micro')\n",
        "plt.ylabel('f1')\n",
        "plt.xlabel('epoch')\n",
        "plt.legend(['train', 'val'], loc='upper left')\n",
        "plt.show()"
      ],
      "metadata": {
        "colab": {
          "base_uri": "https://localhost:8080/",
          "height": 295
        },
        "id": "A8mu8YQGl07D",
        "outputId": "f49b07f6-ac54-461a-82ee-b76660e55f85"
      },
      "id": "A8mu8YQGl07D",
      "execution_count": 18,
      "outputs": [
        {
          "output_type": "display_data",
          "data": {
            "text/plain": [
              "<Figure size 432x288 with 1 Axes>"
            ],
            "image/png": "[encoded data removed]"
          },
          "metadata": {
            "needs_background": "light"
          }
        }
      ]
    },
    {
      "cell_type": "markdown",
      "source": [
        "## Model 2: [LaBSE for English and Russian](https://huggingface.co/cointegrated/LaBSE-en-ru)"
      ],
      "metadata": {
        "id": "DSi6G05S6-bd"
      },
      "id": "DSi6G05S6-bd"
    },
    {
      "cell_type": "code",
      "source": [
        "from transformers import AutoTokenizer, AutoModelForPreTraining\n",
        "\n",
        "tokenizer = AutoTokenizer.from_pretrained(\"cointegrated/LaBSE-en-ru\")\n",
        "\n",
        "model_labse = AutoModelForPreTraining.from_pretrained(\"cointegrated/LaBSE-en-ru\")"
      ],
      "metadata": {
        "id": "mFjcQEu2ERQI"
      },
      "id": "mFjcQEu2ERQI",
      "execution_count": 19,
      "outputs": []
    },
    {
      "cell_type": "code",
      "source": [
        "import torch.nn as nn\n",
        "\n",
        "class CLF(nn.Module):\n",
        "    \n",
        "    def __init__(self, pretrained_model, num_classes):\n",
        "        super().__init__()          \n",
        "        self.tokenizer = tokenizer\n",
        "        self.pretrained_model = pretrained_model \n",
        "        #\n",
        "        self.drop = nn.Dropout(0.3)\n",
        "        self.fc = nn.Linear(55083, num_classes) \n",
        "        self.act = nn.LogSoftmax(1) \n",
        "        \n",
        "    def forward(self, texts):\n",
        "        \n",
        "        mask = (texts != tokenizer.pad_token_id).long()\n",
        "        \n",
        "        hidden = self.pretrained_model(texts, attention_mask=mask)[0]\n",
        "\n",
        "        dense_outputs=self.fc(self.drop(hidden[:,0] ))\n",
        "        outputs=self.act(dense_outputs)\n",
        "        \n",
        "        return outputs"
      ],
      "metadata": {
        "id": "haepEIJEt5Ti"
      },
      "execution_count": 20,
      "outputs": [],
      "id": "haepEIJEt5Ti"
    },
    {
      "cell_type": "code",
      "source": [
        "training_set = Dataset(tokenizer, MAX_LEN, train_texts, train_targets)\n",
        "training_generator = torch.utils.data.DataLoader(training_set, batch_size=16, shuffle=True)\n",
        "valid_set = Dataset(tokenizer, MAX_LEN, valid_texts, valid_targets)\n",
        "valid_generator = torch.utils.data.DataLoader(valid_set, batch_size=16, shuffle=True)"
      ],
      "metadata": {
        "id": "TBXx50YloiRW"
      },
      "id": "TBXx50YloiRW",
      "execution_count": 21,
      "outputs": []
    },
    {
      "cell_type": "code",
      "source": [
        "device = torch.device('cuda' if torch.cuda.is_available() else 'cpu')  \n",
        "model = CLF(model_labse, len(label2id))\n",
        "optimizer = optim.Adam(model.parameters(), lr=2e-6)\n",
        "criterion = nn.NLLLoss() \n",
        "model = model.to(device)\n",
        "criterion = criterion.to(device)"
      ],
      "metadata": {
        "id": "gvoAPSqJoiZt"
      },
      "id": "gvoAPSqJoiZt",
      "execution_count": 22,
      "outputs": []
    },
    {
      "cell_type": "code",
      "source": [
        "f1s = []\n",
        "f1s_eval = []\n",
        "\n",
        "for i in range(20):\n",
        "    print(i)\n",
        "    f1s.append(train(model, training_generator, optimizer, criterion, 2000))\n",
        "    evl = evaluate(model, valid_generator, criterion)\n",
        "    print('Eval - ', evl)\n",
        "    f1s_eval.append(evl)"
      ],
      "metadata": {
        "colab": {
          "base_uri": "https://localhost:8080/"
        },
        "id": "aACQG6oCoih9",
        "outputId": "b72c8a92-eda9-4ec8-9a22-aaf42a19f8da"
      },
      "id": "aACQG6oCoih9",
      "execution_count": 23,
      "outputs": [
        {
          "output_type": "stream",
          "name": "stdout",
          "text": [
            "0\n",
            "Eval -  0.5\n",
            "1\n",
            "Eval -  0.5\n",
            "2\n",
            "Eval -  1.0\n",
            "3\n",
            "Eval -  1.0\n",
            "4\n",
            "Eval -  1.0\n",
            "5\n",
            "Eval -  1.0\n",
            "6\n",
            "Eval -  1.0\n",
            "7\n",
            "Eval -  1.0\n",
            "8\n",
            "Eval -  1.0\n",
            "9\n",
            "Eval -  1.0\n",
            "10\n",
            "Eval -  1.0\n",
            "11\n",
            "Eval -  1.0\n",
            "12\n",
            "Eval -  1.0\n",
            "13\n",
            "Eval -  1.0\n",
            "14\n",
            "Eval -  1.0\n",
            "15\n",
            "Eval -  1.0\n",
            "16\n",
            "Eval -  1.0\n",
            "17\n",
            "Eval -  1.0\n",
            "18\n",
            "Eval -  1.0\n",
            "19\n",
            "Eval -  1.0\n"
          ]
        }
      ]
    },
    {
      "cell_type": "code",
      "source": [
        "plt.plot(f1s)\n",
        "plt.plot(f1s_eval)\n",
        "plt.title('model f1 micro')\n",
        "plt.ylabel('f1')\n",
        "plt.xlabel('epoch')\n",
        "plt.legend(['train', 'val'], loc='upper left')\n",
        "plt.show()"
      ],
      "metadata": {
        "colab": {
          "base_uri": "https://localhost:8080/",
          "height": 295
        },
        "id": "mD4apU2oxZHV",
        "outputId": "07a1192e-e803-441f-b2ec-16e4dee3a54b"
      },
      "id": "mD4apU2oxZHV",
      "execution_count": 24,
      "outputs": [
        {
          "output_type": "display_data",
          "data": {
            "text/plain": [
              "<Figure size 432x288 with 1 Axes>"
            ],
            "image/png": "[encoded data removed]"
          },
          "metadata": {
            "needs_background": "light"
          }
        }
      ]
    },
    {
      "cell_type": "markdown",
      "source": [
        "## Model 3: [rubert-tiny2](https://huggingface.co/cointegrated/rubert-tiny2)"
      ],
      "metadata": {
        "id": "AHD9dDS-8UXM"
      },
      "id": "AHD9dDS-8UXM"
    },
    {
      "cell_type": "code",
      "source": [
        "from transformers import AutoTokenizer, AutoModelForPreTraining\n",
        "\n",
        "tokenizer = AutoTokenizer.from_pretrained(\"cointegrated/rubert-tiny2\")\n",
        "\n",
        "model_rubert = AutoModelForPreTraining.from_pretrained(\"cointegrated/rubert-tiny2\")"
      ],
      "metadata": {
        "id": "Q_FiA0qL8TRs"
      },
      "id": "Q_FiA0qL8TRs",
      "execution_count": 25,
      "outputs": []
    },
    {
      "cell_type": "code",
      "source": [
        "class CLF(nn.Module):\n",
        "    \n",
        "    def __init__(self, pretrained_model, num_classes):\n",
        "        super().__init__()          \n",
        "        self.tokenizer = tokenizer \n",
        "        self.pretrained_model = pretrained_model \n",
        "        \n",
        "        self.drop = nn.Dropout(0.3)\n",
        "        self.fc = nn.Linear(83828, num_classes) \n",
        "        self.act = nn.LogSoftmax(1) \n",
        "        \n",
        "    def forward(self, texts):\n",
        "        \n",
        "        mask = (texts != tokenizer.pad_token_id).long()\n",
        "        \n",
        "        hidden = self.pretrained_model(texts, attention_mask=mask)[0]\n",
        "\n",
        "        dense_outputs=self.fc(self.drop(hidden[:,0] ))\n",
        "        outputs=self.act(dense_outputs)\n",
        "        \n",
        "        return outputs"
      ],
      "metadata": {
        "id": "VlnTOZhq-yqk"
      },
      "id": "VlnTOZhq-yqk",
      "execution_count": 30,
      "outputs": []
    },
    {
      "cell_type": "code",
      "source": [
        "training_set = Dataset(tokenizer, MAX_LEN, train_texts, train_targets)\n",
        "training_generator = torch.utils.data.DataLoader(training_set, batch_size=16, shuffle=True)\n",
        "valid_set = Dataset(tokenizer, MAX_LEN, valid_texts, valid_targets)\n",
        "valid_generator = torch.utils.data.DataLoader(valid_set, batch_size=16, shuffle=True)"
      ],
      "metadata": {
        "id": "4P0uIqEl8TMm"
      },
      "id": "4P0uIqEl8TMm",
      "execution_count": 31,
      "outputs": []
    },
    {
      "cell_type": "code",
      "source": [
        "device = torch.device('cuda' if torch.cuda.is_available() else 'cpu')  \n",
        "model = CLF(model_rubert, len(label2id))\n",
        "optimizer = optim.Adam(model.parameters(), lr=2e-6)\n",
        "criterion = nn.NLLLoss() \n",
        "model = model.to(device)\n",
        "criterion = criterion.to(device)"
      ],
      "metadata": {
        "id": "UMc-SAtM8TGz"
      },
      "id": "UMc-SAtM8TGz",
      "execution_count": 32,
      "outputs": []
    },
    {
      "cell_type": "code",
      "source": [
        "f1s = []\n",
        "f1s_eval = []\n",
        "\n",
        "for i in range(20):\n",
        "    print(i)\n",
        "    f1s.append(train(model, training_generator, optimizer, criterion, 2000))\n",
        "    evl = evaluate(model, valid_generator, criterion)\n",
        "    print('Eval - ', evl)\n",
        "    f1s_eval.append(evl)"
      ],
      "metadata": {
        "colab": {
          "base_uri": "https://localhost:8080/"
        },
        "id": "XlrvPvTd8S92",
        "outputId": "5c82122f-44fa-441f-e8d9-816a5877388c"
      },
      "id": "XlrvPvTd8S92",
      "execution_count": 33,
      "outputs": [
        {
          "output_type": "stream",
          "name": "stdout",
          "text": [
            "0\n",
            "Eval -  0.0\n",
            "1\n",
            "Eval -  0.5\n",
            "2\n",
            "Eval -  0.5\n",
            "3\n",
            "Eval -  0.5\n",
            "4\n",
            "Eval -  0.5\n",
            "5\n",
            "Eval -  1.0\n",
            "6\n",
            "Eval -  1.0\n",
            "7\n",
            "Eval -  1.0\n",
            "8\n",
            "Eval -  1.0\n",
            "9\n",
            "Eval -  1.0\n",
            "10\n",
            "Eval -  1.0\n",
            "11\n",
            "Eval -  1.0\n",
            "12\n",
            "Eval -  1.0\n",
            "13\n",
            "Eval -  1.0\n",
            "14\n",
            "Eval -  1.0\n",
            "15\n",
            "Eval -  1.0\n",
            "16\n",
            "Eval -  1.0\n",
            "17\n",
            "Eval -  1.0\n",
            "18\n",
            "Eval -  1.0\n",
            "19\n",
            "Eval -  1.0\n"
          ]
        }
      ]
    },
    {
      "cell_type": "code",
      "source": [
        "plt.plot(f1s)\n",
        "plt.plot(f1s_eval)\n",
        "plt.title('model f1 micro')\n",
        "plt.ylabel('f1')\n",
        "plt.xlabel('epoch')\n",
        "plt.legend(['train', 'val'], loc='upper left')\n",
        "plt.show()"
      ],
      "metadata": {
        "colab": {
          "base_uri": "https://localhost:8080/",
          "height": 295
        },
        "id": "5T7c3_Om8SqG",
        "outputId": "992d8ab4-5de0-45e3-8544-22baba76b2c1"
      },
      "id": "5T7c3_Om8SqG",
      "execution_count": 34,
      "outputs": [
        {
          "output_type": "display_data",
          "data": {
            "text/plain": [
              "<Figure size 432x288 with 1 Axes>"
            ],
            "image/png": "[encoded data removed]"
          },
          "metadata": {
            "needs_background": "light"
          }
        }
      ]
    },
    {
      "cell_type": "markdown",
      "id": "53f2d572",
      "metadata": {
        "id": "53f2d572"
      },
      "source": [
        "### Задание  2 (2 балла)\n",
        "\n",
        "Ответьте на следующие вопросы (напишите хотя бы по несколько предложений):\n",
        "\n",
        "1) Чем ROBERTA отличается от BERT? В какой статье описана ROBERTA?\n",
        "\n",
        "2) Чем модель T5 отличается от ROBERTA/BERT? "
      ]
    },
    {
      "cell_type": "code",
      "execution_count": null,
      "id": "d30140d4",
      "metadata": {
        "id": "d30140d4"
      },
      "outputs": [],
      "source": [
        ""
      ]
    },
    {
      "cell_type": "code",
      "execution_count": null,
      "id": "86f87102",
      "metadata": {
        "id": "86f87102"
      },
      "outputs": [],
      "source": [
        ""
      ]
    }
  ],
  "metadata": {
    "kernelspec": {
      "display_name": "Python 3 (ipykernel)",
      "language": "python",
      "name": "python3"
    },
    "language_info": {
      "codemirror_mode": {
        "name": "ipython",
        "version": 3
      },
      "file_extension": ".py",
      "mimetype": "text/x-python",
      "name": "python",
      "nbconvert_exporter": "python",
      "pygments_lexer": "ipython3",
      "version": "3.8.12"
    },
    "colab": {
      "name": "Finetuning_homework9.ipynb",
      "provenance": [],
      "include_colab_link": true
    },
    "accelerator": "GPU"
  },
  "nbformat": 4,
  "nbformat_minor": 5
}